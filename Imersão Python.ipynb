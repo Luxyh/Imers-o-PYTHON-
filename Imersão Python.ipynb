{
 "cells": [
  {
   "cell_type": "markdown",
   "metadata": {},
   "source": [
    "# Imersão Python\n",
    "\n",
    "Aula 2 "
   ]
  },
  {
   "cell_type": "markdown",
   "metadata": {},
   "source": [
    "## Importando bibliotecas"
   ]
  },
  {
   "cell_type": "code",
   "execution_count": 1,
   "metadata": {},
   "outputs": [],
   "source": [
    "import pandas as pd \n",
    "import numpy as np\n",
    "import plotly.express as px\n",
    "import plotly.graph_objects as go\n",
    "## tirando notações cientificas\n",
    "\n",
    "pd.options.display.float_format = '{:.2f}'.format"
   ]
  },
  {
   "cell_type": "markdown",
   "metadata": {},
   "source": [
    "## Importando arquivos "
   ]
  },
  {
   "cell_type": "code",
   "execution_count": 2,
   "metadata": {},
   "outputs": [
    {
     "data": {
      "text/html": [
       "<div>\n",
       "<style scoped>\n",
       "    .dataframe tbody tr th:only-of-type {\n",
       "        vertical-align: middle;\n",
       "    }\n",
       "\n",
       "    .dataframe tbody tr th {\n",
       "        vertical-align: top;\n",
       "    }\n",
       "\n",
       "    .dataframe thead th {\n",
       "        text-align: right;\n",
       "    }\n",
       "</style>\n",
       "<table border=\"1\" class=\"dataframe\">\n",
       "  <thead>\n",
       "    <tr style=\"text-align: right;\">\n",
       "      <th></th>\n",
       "      <th>Ativo</th>\n",
       "      <th>Data</th>\n",
       "      <th>Último (R$)</th>\n",
       "      <th>Var. Dia (%)</th>\n",
       "      <th>Variação Diaria</th>\n",
       "      <th>Val. Mín</th>\n",
       "      <th>Val. Máx</th>\n",
       "      <th>Valor Inicial (R$)</th>\n",
       "      <th>Quantidade de Ações</th>\n",
       "      <th>Variação ($)</th>\n",
       "      <th>Volume</th>\n",
       "      <th>Resultado</th>\n",
       "      <th>Nome da Empresa</th>\n",
       "      <th>Segmento</th>\n",
       "      <th>Idade</th>\n",
       "      <th>Faixa de Idade</th>\n",
       "    </tr>\n",
       "  </thead>\n",
       "  <tbody>\n",
       "    <tr>\n",
       "      <th>0</th>\n",
       "      <td>USIM5</td>\n",
       "      <td>2024-01-26</td>\n",
       "      <td>9.50</td>\n",
       "      <td>5.20</td>\n",
       "      <td>0.05</td>\n",
       "      <td>9.18</td>\n",
       "      <td>9.56</td>\n",
       "      <td>9.03</td>\n",
       "      <td>515117391</td>\n",
       "      <td>241889725.40</td>\n",
       "      <td>319,16 M</td>\n",
       "      <td>Subiu</td>\n",
       "      <td>Usiminas</td>\n",
       "      <td>Siderurgia</td>\n",
       "      <td>65</td>\n",
       "      <td>Entre 50 a 100 anos</td>\n",
       "    </tr>\n",
       "    <tr>\n",
       "      <th>1</th>\n",
       "      <td>CMIN3</td>\n",
       "      <td>2024-01-26</td>\n",
       "      <td>6.82</td>\n",
       "      <td>2.40</td>\n",
       "      <td>0.02</td>\n",
       "      <td>6.66</td>\n",
       "      <td>6.86</td>\n",
       "      <td>6.66</td>\n",
       "      <td>1110559345</td>\n",
       "      <td>177515970.30</td>\n",
       "      <td>32,65 M</td>\n",
       "      <td>Subiu</td>\n",
       "      <td>CSN Mineração</td>\n",
       "      <td>Mineração</td>\n",
       "      <td>52</td>\n",
       "      <td>Entre 50 a 100 anos</td>\n",
       "    </tr>\n",
       "    <tr>\n",
       "      <th>2</th>\n",
       "      <td>PETR3</td>\n",
       "      <td>2024-01-26</td>\n",
       "      <td>41.96</td>\n",
       "      <td>2.19</td>\n",
       "      <td>0.02</td>\n",
       "      <td>40.81</td>\n",
       "      <td>42.34</td>\n",
       "      <td>41.06</td>\n",
       "      <td>2379877655</td>\n",
       "      <td>2140059394.00</td>\n",
       "      <td>436,69 M</td>\n",
       "      <td>Subiu</td>\n",
       "      <td>Petrobras</td>\n",
       "      <td>Petróleo e Gás</td>\n",
       "      <td>72</td>\n",
       "      <td>Entre 50 a 100 anos</td>\n",
       "    </tr>\n",
       "    <tr>\n",
       "      <th>3</th>\n",
       "      <td>SUZB3</td>\n",
       "      <td>2024-01-26</td>\n",
       "      <td>52.91</td>\n",
       "      <td>2.04</td>\n",
       "      <td>0.02</td>\n",
       "      <td>51.89</td>\n",
       "      <td>53.17</td>\n",
       "      <td>51.85</td>\n",
       "      <td>683452836</td>\n",
       "      <td>722946282.70</td>\n",
       "      <td>162,55 M</td>\n",
       "      <td>Subiu</td>\n",
       "      <td>Suzano</td>\n",
       "      <td>Papel e Celulose</td>\n",
       "      <td>94</td>\n",
       "      <td>Entre 50 a 100 anos</td>\n",
       "    </tr>\n",
       "    <tr>\n",
       "      <th>4</th>\n",
       "      <td>CPFE3</td>\n",
       "      <td>2024-01-26</td>\n",
       "      <td>37.10</td>\n",
       "      <td>2.03</td>\n",
       "      <td>0.02</td>\n",
       "      <td>36.37</td>\n",
       "      <td>37.32</td>\n",
       "      <td>36.36</td>\n",
       "      <td>187732538</td>\n",
       "      <td>138573955.10</td>\n",
       "      <td>73,42 M</td>\n",
       "      <td>Subiu</td>\n",
       "      <td>CPFL Energia</td>\n",
       "      <td>Energia Elétrica</td>\n",
       "      <td>113</td>\n",
       "      <td>Mais que 100 anos</td>\n",
       "    </tr>\n",
       "  </tbody>\n",
       "</table>\n",
       "</div>"
      ],
      "text/plain": [
       "   Ativo       Data  Último (R$)  Var. Dia (%)  Variação Diaria  Val. Mín  \\\n",
       "0  USIM5 2024-01-26         9.50          5.20             0.05      9.18   \n",
       "1  CMIN3 2024-01-26         6.82          2.40             0.02      6.66   \n",
       "2  PETR3 2024-01-26        41.96          2.19             0.02     40.81   \n",
       "3  SUZB3 2024-01-26        52.91          2.04             0.02     51.89   \n",
       "4  CPFE3 2024-01-26        37.10          2.03             0.02     36.37   \n",
       "\n",
       "   Val. Máx  Valor Inicial (R$)  Quantidade de Ações  Variação ($)    Volume  \\\n",
       "0      9.56                9.03            515117391  241889725.40  319,16 M   \n",
       "1      6.86                6.66           1110559345  177515970.30   32,65 M   \n",
       "2     42.34               41.06           2379877655 2140059394.00  436,69 M   \n",
       "3     53.17               51.85            683452836  722946282.70  162,55 M   \n",
       "4     37.32               36.36            187732538  138573955.10   73,42 M   \n",
       "\n",
       "  Resultado Nome da Empresa          Segmento  Idade       Faixa de Idade  \n",
       "0     Subiu        Usiminas        Siderurgia     65  Entre 50 a 100 anos  \n",
       "1     Subiu   CSN Mineração         Mineração     52  Entre 50 a 100 anos  \n",
       "2     Subiu       Petrobras    Petróleo e Gás     72  Entre 50 a 100 anos  \n",
       "3     Subiu          Suzano  Papel e Celulose     94  Entre 50 a 100 anos  \n",
       "4     Subiu    CPFL Energia  Energia Elétrica    113    Mais que 100 anos  "
      ]
     },
     "execution_count": 2,
     "metadata": {},
     "output_type": "execute_result"
    }
   ],
   "source": [
    "## Importando aba \"Principal (Dia)\"\n",
    "\n",
    "df_principal = pd.read_excel('Imersão PYTHON_V2.xlsx', sheet_name= \"Principal (Dia)\")\n",
    "df_principal.head()"
   ]
  },
  {
   "cell_type": "code",
   "execution_count": 3,
   "metadata": {},
   "outputs": [
    {
     "data": {
      "text/html": [
       "<div>\n",
       "<style scoped>\n",
       "    .dataframe tbody tr th:only-of-type {\n",
       "        vertical-align: middle;\n",
       "    }\n",
       "\n",
       "    .dataframe tbody tr th {\n",
       "        vertical-align: top;\n",
       "    }\n",
       "\n",
       "    .dataframe thead th {\n",
       "        text-align: right;\n",
       "    }\n",
       "</style>\n",
       "<table border=\"1\" class=\"dataframe\">\n",
       "  <thead>\n",
       "    <tr style=\"text-align: right;\">\n",
       "      <th></th>\n",
       "      <th>Ativo</th>\n",
       "      <th>Qtde. Teórica</th>\n",
       "    </tr>\n",
       "  </thead>\n",
       "  <tbody>\n",
       "    <tr>\n",
       "      <th>0</th>\n",
       "      <td>RRRP3</td>\n",
       "      <td>235665566.00</td>\n",
       "    </tr>\n",
       "    <tr>\n",
       "      <th>1</th>\n",
       "      <td>ALOS3</td>\n",
       "      <td>532616595.00</td>\n",
       "    </tr>\n",
       "    <tr>\n",
       "      <th>2</th>\n",
       "      <td>ALPA4</td>\n",
       "      <td>176733968.00</td>\n",
       "    </tr>\n",
       "    <tr>\n",
       "      <th>3</th>\n",
       "      <td>ABEV3</td>\n",
       "      <td>4394245879.00</td>\n",
       "    </tr>\n",
       "    <tr>\n",
       "      <th>4</th>\n",
       "      <td>ARZZ3</td>\n",
       "      <td>62305891.00</td>\n",
       "    </tr>\n",
       "  </tbody>\n",
       "</table>\n",
       "</div>"
      ],
      "text/plain": [
       "   Ativo  Qtde. Teórica\n",
       "0  RRRP3   235665566.00\n",
       "1  ALOS3   532616595.00\n",
       "2  ALPA4   176733968.00\n",
       "3  ABEV3  4394245879.00\n",
       "4  ARZZ3    62305891.00"
      ]
     },
     "execution_count": 3,
     "metadata": {},
     "output_type": "execute_result"
    }
   ],
   "source": [
    "## Importando aba \"Total de Açoes\"\n",
    "\n",
    "df_açoes = pd.read_excel('Imersão PYTHON_V2.xlsx', sheet_name= \"Total de Ações\")\n",
    "df_açoes = df_açoes.rename({'Código' : 'Ativo'}, axis=1)\n",
    "df_açoes.head()"
   ]
  },
  {
   "cell_type": "code",
   "execution_count": 4,
   "metadata": {},
   "outputs": [
    {
     "data": {
      "text/html": [
       "<div>\n",
       "<style scoped>\n",
       "    .dataframe tbody tr th:only-of-type {\n",
       "        vertical-align: middle;\n",
       "    }\n",
       "\n",
       "    .dataframe tbody tr th {\n",
       "        vertical-align: top;\n",
       "    }\n",
       "\n",
       "    .dataframe thead th {\n",
       "        text-align: right;\n",
       "    }\n",
       "</style>\n",
       "<table border=\"1\" class=\"dataframe\">\n",
       "  <thead>\n",
       "    <tr style=\"text-align: right;\">\n",
       "      <th></th>\n",
       "      <th>Ativo</th>\n",
       "      <th>Nome</th>\n",
       "    </tr>\n",
       "  </thead>\n",
       "  <tbody>\n",
       "    <tr>\n",
       "      <th>0</th>\n",
       "      <td>MGLU3</td>\n",
       "      <td>Magazine Luiza</td>\n",
       "    </tr>\n",
       "    <tr>\n",
       "      <th>1</th>\n",
       "      <td>HAPV3</td>\n",
       "      <td>Hapvida</td>\n",
       "    </tr>\n",
       "    <tr>\n",
       "      <th>2</th>\n",
       "      <td>PETR4</td>\n",
       "      <td>Petrobras</td>\n",
       "    </tr>\n",
       "    <tr>\n",
       "      <th>3</th>\n",
       "      <td>B3SA3</td>\n",
       "      <td>B3</td>\n",
       "    </tr>\n",
       "    <tr>\n",
       "      <th>4</th>\n",
       "      <td>USIM5</td>\n",
       "      <td>Usiminas</td>\n",
       "    </tr>\n",
       "  </tbody>\n",
       "</table>\n",
       "</div>"
      ],
      "text/plain": [
       "   Ativo            Nome\n",
       "0  MGLU3  Magazine Luiza\n",
       "1  HAPV3         Hapvida\n",
       "2  PETR4       Petrobras\n",
       "3  B3SA3              B3\n",
       "4  USIM5        Usiminas"
      ]
     },
     "execution_count": 4,
     "metadata": {},
     "output_type": "execute_result"
    }
   ],
   "source": [
    "## Importando aba \"Ticker\"\n",
    "\n",
    "\n",
    "df_ticker = pd.read_excel('Imersão PYTHON_V2.xlsx', sheet_name= \"Ticker\")\n",
    "df_ticker = df_ticker.rename({'Ticker' : 'Ativo'}, axis=1)\n",
    "df_ticker.head()"
   ]
  },
  {
   "cell_type": "code",
   "execution_count": 5,
   "metadata": {},
   "outputs": [
    {
     "data": {
      "text/html": [
       "<div>\n",
       "<style scoped>\n",
       "    .dataframe tbody tr th:only-of-type {\n",
       "        vertical-align: middle;\n",
       "    }\n",
       "\n",
       "    .dataframe tbody tr th {\n",
       "        vertical-align: top;\n",
       "    }\n",
       "\n",
       "    .dataframe thead th {\n",
       "        text-align: right;\n",
       "    }\n",
       "</style>\n",
       "<table border=\"1\" class=\"dataframe\">\n",
       "  <thead>\n",
       "    <tr style=\"text-align: right;\">\n",
       "      <th></th>\n",
       "      <th>Nome</th>\n",
       "      <th>Segmento</th>\n",
       "      <th>Idade (anos)</th>\n",
       "    </tr>\n",
       "  </thead>\n",
       "  <tbody>\n",
       "    <tr>\n",
       "      <th>0</th>\n",
       "      <td>Usiminas</td>\n",
       "      <td>Siderurgia</td>\n",
       "      <td>65</td>\n",
       "    </tr>\n",
       "    <tr>\n",
       "      <th>1</th>\n",
       "      <td>CSN Mineração</td>\n",
       "      <td>Mineração</td>\n",
       "      <td>52</td>\n",
       "    </tr>\n",
       "    <tr>\n",
       "      <th>2</th>\n",
       "      <td>Petrobras</td>\n",
       "      <td>Petróleo e Gás</td>\n",
       "      <td>72</td>\n",
       "    </tr>\n",
       "    <tr>\n",
       "      <th>3</th>\n",
       "      <td>Suzano</td>\n",
       "      <td>Papel e Celulose</td>\n",
       "      <td>94</td>\n",
       "    </tr>\n",
       "    <tr>\n",
       "      <th>4</th>\n",
       "      <td>CPFL Energia</td>\n",
       "      <td>Energia Elétrica</td>\n",
       "      <td>113</td>\n",
       "    </tr>\n",
       "  </tbody>\n",
       "</table>\n",
       "</div>"
      ],
      "text/plain": [
       "            Nome          Segmento  Idade (anos)\n",
       "0       Usiminas        Siderurgia            65\n",
       "1  CSN Mineração         Mineração            52\n",
       "2      Petrobras    Petróleo e Gás            72\n",
       "3         Suzano  Papel e Celulose            94\n",
       "4   CPFL Energia  Energia Elétrica           113"
      ]
     },
     "execution_count": 5,
     "metadata": {},
     "output_type": "execute_result"
    }
   ],
   "source": [
    "## Importando aba \"Gemini\"\n",
    "\n",
    "df_gemini = pd.read_excel('Imersão PYTHON_V2.xlsx', sheet_name= \"Gemini\")\n",
    "df_gemini.rename(columns={ 'Nome da Empresa' : 'Nome'}, inplace= True)\n",
    "df_gemini.head()"
   ]
  },
  {
   "cell_type": "markdown",
   "metadata": {},
   "source": [
    "## Manipulando Dados"
   ]
  },
  {
   "cell_type": "code",
   "execution_count": 6,
   "metadata": {},
   "outputs": [
    {
     "data": {
      "text/html": [
       "<div>\n",
       "<style scoped>\n",
       "    .dataframe tbody tr th:only-of-type {\n",
       "        vertical-align: middle;\n",
       "    }\n",
       "\n",
       "    .dataframe tbody tr th {\n",
       "        vertical-align: top;\n",
       "    }\n",
       "\n",
       "    .dataframe thead th {\n",
       "        text-align: right;\n",
       "    }\n",
       "</style>\n",
       "<table border=\"1\" class=\"dataframe\">\n",
       "  <thead>\n",
       "    <tr style=\"text-align: right;\">\n",
       "      <th></th>\n",
       "      <th>Ativo</th>\n",
       "      <th>Data</th>\n",
       "      <th>Último (R$)</th>\n",
       "      <th>Var. Dia (%)</th>\n",
       "    </tr>\n",
       "  </thead>\n",
       "  <tbody>\n",
       "    <tr>\n",
       "      <th>0</th>\n",
       "      <td>USIM5</td>\n",
       "      <td>2024-01-26</td>\n",
       "      <td>9.50</td>\n",
       "      <td>5.20</td>\n",
       "    </tr>\n",
       "    <tr>\n",
       "      <th>1</th>\n",
       "      <td>CMIN3</td>\n",
       "      <td>2024-01-26</td>\n",
       "      <td>6.82</td>\n",
       "      <td>2.40</td>\n",
       "    </tr>\n",
       "    <tr>\n",
       "      <th>2</th>\n",
       "      <td>PETR3</td>\n",
       "      <td>2024-01-26</td>\n",
       "      <td>41.96</td>\n",
       "      <td>2.19</td>\n",
       "    </tr>\n",
       "    <tr>\n",
       "      <th>3</th>\n",
       "      <td>SUZB3</td>\n",
       "      <td>2024-01-26</td>\n",
       "      <td>52.91</td>\n",
       "      <td>2.04</td>\n",
       "    </tr>\n",
       "    <tr>\n",
       "      <th>4</th>\n",
       "      <td>CPFE3</td>\n",
       "      <td>2024-01-26</td>\n",
       "      <td>37.10</td>\n",
       "      <td>2.03</td>\n",
       "    </tr>\n",
       "    <tr>\n",
       "      <th>5</th>\n",
       "      <td>PRIO3</td>\n",
       "      <td>2024-01-26</td>\n",
       "      <td>45.69</td>\n",
       "      <td>1.98</td>\n",
       "    </tr>\n",
       "  </tbody>\n",
       "</table>\n",
       "</div>"
      ],
      "text/plain": [
       "   Ativo       Data  Último (R$)  Var. Dia (%)\n",
       "0  USIM5 2024-01-26         9.50          5.20\n",
       "1  CMIN3 2024-01-26         6.82          2.40\n",
       "2  PETR3 2024-01-26        41.96          2.19\n",
       "3  SUZB3 2024-01-26        52.91          2.04\n",
       "4  CPFE3 2024-01-26        37.10          2.03\n",
       "5  PRIO3 2024-01-26        45.69          1.98"
      ]
     },
     "execution_count": 6,
     "metadata": {},
     "output_type": "execute_result"
    }
   ],
   "source": [
    "##Selecionando colunas que serão utilizadas\n",
    "\n",
    "df_principal = df_principal[['Ativo',\t'Data', 'Último (R$)', 'Var. Dia (%)']]\n",
    "df_principal.head(6)"
   ]
  },
  {
   "cell_type": "code",
   "execution_count": 7,
   "metadata": {},
   "outputs": [
    {
     "data": {
      "text/html": [
       "<div>\n",
       "<style scoped>\n",
       "    .dataframe tbody tr th:only-of-type {\n",
       "        vertical-align: middle;\n",
       "    }\n",
       "\n",
       "    .dataframe tbody tr th {\n",
       "        vertical-align: top;\n",
       "    }\n",
       "\n",
       "    .dataframe thead th {\n",
       "        text-align: right;\n",
       "    }\n",
       "</style>\n",
       "<table border=\"1\" class=\"dataframe\">\n",
       "  <thead>\n",
       "    <tr style=\"text-align: right;\">\n",
       "      <th></th>\n",
       "      <th>Ativo</th>\n",
       "      <th>Data</th>\n",
       "      <th>Valor_final</th>\n",
       "      <th>Var_diaria_pct</th>\n",
       "    </tr>\n",
       "  </thead>\n",
       "  <tbody>\n",
       "    <tr>\n",
       "      <th>0</th>\n",
       "      <td>USIM5</td>\n",
       "      <td>2024-01-26</td>\n",
       "      <td>9.50</td>\n",
       "      <td>5.20</td>\n",
       "    </tr>\n",
       "    <tr>\n",
       "      <th>1</th>\n",
       "      <td>CMIN3</td>\n",
       "      <td>2024-01-26</td>\n",
       "      <td>6.82</td>\n",
       "      <td>2.40</td>\n",
       "    </tr>\n",
       "    <tr>\n",
       "      <th>2</th>\n",
       "      <td>PETR3</td>\n",
       "      <td>2024-01-26</td>\n",
       "      <td>41.96</td>\n",
       "      <td>2.19</td>\n",
       "    </tr>\n",
       "    <tr>\n",
       "      <th>3</th>\n",
       "      <td>SUZB3</td>\n",
       "      <td>2024-01-26</td>\n",
       "      <td>52.91</td>\n",
       "      <td>2.04</td>\n",
       "    </tr>\n",
       "    <tr>\n",
       "      <th>4</th>\n",
       "      <td>CPFE3</td>\n",
       "      <td>2024-01-26</td>\n",
       "      <td>37.10</td>\n",
       "      <td>2.03</td>\n",
       "    </tr>\n",
       "    <tr>\n",
       "      <th>5</th>\n",
       "      <td>PRIO3</td>\n",
       "      <td>2024-01-26</td>\n",
       "      <td>45.69</td>\n",
       "      <td>1.98</td>\n",
       "    </tr>\n",
       "  </tbody>\n",
       "</table>\n",
       "</div>"
      ],
      "text/plain": [
       "   Ativo       Data  Valor_final  Var_diaria_pct\n",
       "0  USIM5 2024-01-26         9.50            5.20\n",
       "1  CMIN3 2024-01-26         6.82            2.40\n",
       "2  PETR3 2024-01-26        41.96            2.19\n",
       "3  SUZB3 2024-01-26        52.91            2.04\n",
       "4  CPFE3 2024-01-26        37.10            2.03\n",
       "5  PRIO3 2024-01-26        45.69            1.98"
      ]
     },
     "execution_count": 7,
     "metadata": {},
     "output_type": "execute_result"
    }
   ],
   "source": [
    "## Modificando nome da coluna\n",
    "\n",
    "df_principal = df_principal.rename(columns={'Último (R$)' :'Valor_final', 'Var. Dia (%)' : 'Var_diaria_pct'}).copy()\n",
    "df_principal.head(6)"
   ]
  },
  {
   "cell_type": "code",
   "execution_count": 8,
   "metadata": {},
   "outputs": [
    {
     "data": {
      "text/html": [
       "<div>\n",
       "<style scoped>\n",
       "    .dataframe tbody tr th:only-of-type {\n",
       "        vertical-align: middle;\n",
       "    }\n",
       "\n",
       "    .dataframe tbody tr th {\n",
       "        vertical-align: top;\n",
       "    }\n",
       "\n",
       "    .dataframe thead th {\n",
       "        text-align: right;\n",
       "    }\n",
       "</style>\n",
       "<table border=\"1\" class=\"dataframe\">\n",
       "  <thead>\n",
       "    <tr style=\"text-align: right;\">\n",
       "      <th></th>\n",
       "      <th>Ativo</th>\n",
       "      <th>Data</th>\n",
       "      <th>Valor_final</th>\n",
       "      <th>Var_diaria_pct</th>\n",
       "      <th>Var_diaria</th>\n",
       "      <th>Valor_inicial</th>\n",
       "    </tr>\n",
       "  </thead>\n",
       "  <tbody>\n",
       "    <tr>\n",
       "      <th>0</th>\n",
       "      <td>USIM5</td>\n",
       "      <td>2024-01-26</td>\n",
       "      <td>9.50</td>\n",
       "      <td>5.20</td>\n",
       "      <td>0.05</td>\n",
       "      <td>9.03</td>\n",
       "    </tr>\n",
       "    <tr>\n",
       "      <th>1</th>\n",
       "      <td>CMIN3</td>\n",
       "      <td>2024-01-26</td>\n",
       "      <td>6.82</td>\n",
       "      <td>2.40</td>\n",
       "      <td>0.02</td>\n",
       "      <td>6.66</td>\n",
       "    </tr>\n",
       "    <tr>\n",
       "      <th>2</th>\n",
       "      <td>PETR3</td>\n",
       "      <td>2024-01-26</td>\n",
       "      <td>41.96</td>\n",
       "      <td>2.19</td>\n",
       "      <td>0.02</td>\n",
       "      <td>41.06</td>\n",
       "    </tr>\n",
       "    <tr>\n",
       "      <th>3</th>\n",
       "      <td>SUZB3</td>\n",
       "      <td>2024-01-26</td>\n",
       "      <td>52.91</td>\n",
       "      <td>2.04</td>\n",
       "      <td>0.02</td>\n",
       "      <td>51.85</td>\n",
       "    </tr>\n",
       "    <tr>\n",
       "      <th>4</th>\n",
       "      <td>CPFE3</td>\n",
       "      <td>2024-01-26</td>\n",
       "      <td>37.10</td>\n",
       "      <td>2.03</td>\n",
       "      <td>0.02</td>\n",
       "      <td>36.36</td>\n",
       "    </tr>\n",
       "  </tbody>\n",
       "</table>\n",
       "</div>"
      ],
      "text/plain": [
       "   Ativo       Data  Valor_final  Var_diaria_pct  Var_diaria  Valor_inicial\n",
       "0  USIM5 2024-01-26         9.50            5.20        0.05           9.03\n",
       "1  CMIN3 2024-01-26         6.82            2.40        0.02           6.66\n",
       "2  PETR3 2024-01-26        41.96            2.19        0.02          41.06\n",
       "3  SUZB3 2024-01-26        52.91            2.04        0.02          51.85\n",
       "4  CPFE3 2024-01-26        37.10            2.03        0.02          36.36"
      ]
     },
     "execution_count": 8,
     "metadata": {},
     "output_type": "execute_result"
    }
   ],
   "source": [
    "##criando novas colunas com base na planilha original \n",
    "\n",
    "df_principal['Var_diaria'] = df_principal['Var_diaria_pct']/100\n",
    "df_principal['Valor_inicial'] = df_principal['Valor_final']/ (df_principal['Var_diaria']+1)\n",
    "df_principal.head()"
   ]
  },
  {
   "cell_type": "code",
   "execution_count": 9,
   "metadata": {},
   "outputs": [
    {
     "data": {
      "text/html": [
       "<div>\n",
       "<style scoped>\n",
       "    .dataframe tbody tr th:only-of-type {\n",
       "        vertical-align: middle;\n",
       "    }\n",
       "\n",
       "    .dataframe tbody tr th {\n",
       "        vertical-align: top;\n",
       "    }\n",
       "\n",
       "    .dataframe thead th {\n",
       "        text-align: right;\n",
       "    }\n",
       "</style>\n",
       "<table border=\"1\" class=\"dataframe\">\n",
       "  <thead>\n",
       "    <tr style=\"text-align: right;\">\n",
       "      <th></th>\n",
       "      <th>Ativo</th>\n",
       "      <th>Data</th>\n",
       "      <th>Valor_final</th>\n",
       "      <th>Var_diaria_pct</th>\n",
       "      <th>Var_diaria</th>\n",
       "      <th>Valor_inicial</th>\n",
       "    </tr>\n",
       "  </thead>\n",
       "  <tbody>\n",
       "    <tr>\n",
       "      <th>0</th>\n",
       "      <td>USIM5</td>\n",
       "      <td>2024-01-26</td>\n",
       "      <td>9.50</td>\n",
       "      <td>5.20</td>\n",
       "      <td>0.05</td>\n",
       "      <td>9.03</td>\n",
       "    </tr>\n",
       "    <tr>\n",
       "      <th>1</th>\n",
       "      <td>CMIN3</td>\n",
       "      <td>2024-01-26</td>\n",
       "      <td>6.82</td>\n",
       "      <td>2.40</td>\n",
       "      <td>0.02</td>\n",
       "      <td>6.66</td>\n",
       "    </tr>\n",
       "    <tr>\n",
       "      <th>2</th>\n",
       "      <td>PETR3</td>\n",
       "      <td>2024-01-26</td>\n",
       "      <td>41.96</td>\n",
       "      <td>2.19</td>\n",
       "      <td>0.02</td>\n",
       "      <td>41.06</td>\n",
       "    </tr>\n",
       "    <tr>\n",
       "      <th>3</th>\n",
       "      <td>SUZB3</td>\n",
       "      <td>2024-01-26</td>\n",
       "      <td>52.91</td>\n",
       "      <td>2.04</td>\n",
       "      <td>0.02</td>\n",
       "      <td>51.85</td>\n",
       "    </tr>\n",
       "    <tr>\n",
       "      <th>4</th>\n",
       "      <td>CPFE3</td>\n",
       "      <td>2024-01-26</td>\n",
       "      <td>37.10</td>\n",
       "      <td>2.03</td>\n",
       "      <td>0.02</td>\n",
       "      <td>36.36</td>\n",
       "    </tr>\n",
       "    <tr>\n",
       "      <th>5</th>\n",
       "      <td>PRIO3</td>\n",
       "      <td>2024-01-26</td>\n",
       "      <td>45.69</td>\n",
       "      <td>1.98</td>\n",
       "      <td>0.02</td>\n",
       "      <td>44.80</td>\n",
       "    </tr>\n",
       "  </tbody>\n",
       "</table>\n",
       "</div>"
      ],
      "text/plain": [
       "   Ativo       Data  Valor_final  Var_diaria_pct  Var_diaria  Valor_inicial\n",
       "0  USIM5 2024-01-26         9.50            5.20        0.05           9.03\n",
       "1  CMIN3 2024-01-26         6.82            2.40        0.02           6.66\n",
       "2  PETR3 2024-01-26        41.96            2.19        0.02          41.06\n",
       "3  SUZB3 2024-01-26        52.91            2.04        0.02          51.85\n",
       "4  CPFE3 2024-01-26        37.10            2.03        0.02          36.36\n",
       "5  PRIO3 2024-01-26        45.69            1.98        0.02          44.80"
      ]
     },
     "execution_count": 9,
     "metadata": {},
     "output_type": "execute_result"
    }
   ],
   "source": [
    "\n",
    "df_principal.head(6)"
   ]
  },
  {
   "cell_type": "code",
   "execution_count": 10,
   "metadata": {},
   "outputs": [
    {
     "data": {
      "text/html": [
       "<div>\n",
       "<style scoped>\n",
       "    .dataframe tbody tr th:only-of-type {\n",
       "        vertical-align: middle;\n",
       "    }\n",
       "\n",
       "    .dataframe tbody tr th {\n",
       "        vertical-align: top;\n",
       "    }\n",
       "\n",
       "    .dataframe thead th {\n",
       "        text-align: right;\n",
       "    }\n",
       "</style>\n",
       "<table border=\"1\" class=\"dataframe\">\n",
       "  <thead>\n",
       "    <tr style=\"text-align: right;\">\n",
       "      <th></th>\n",
       "      <th>Ativo</th>\n",
       "      <th>Data</th>\n",
       "      <th>Valor_final</th>\n",
       "      <th>Var_diaria_pct</th>\n",
       "      <th>Var_diaria</th>\n",
       "      <th>Valor_inicial</th>\n",
       "      <th>Qtde. Teórica</th>\n",
       "    </tr>\n",
       "  </thead>\n",
       "  <tbody>\n",
       "    <tr>\n",
       "      <th>0</th>\n",
       "      <td>USIM5</td>\n",
       "      <td>2024-01-26</td>\n",
       "      <td>9.50</td>\n",
       "      <td>5.20</td>\n",
       "      <td>0.05</td>\n",
       "      <td>9.03</td>\n",
       "      <td>515117391.00</td>\n",
       "    </tr>\n",
       "    <tr>\n",
       "      <th>1</th>\n",
       "      <td>CMIN3</td>\n",
       "      <td>2024-01-26</td>\n",
       "      <td>6.82</td>\n",
       "      <td>2.40</td>\n",
       "      <td>0.02</td>\n",
       "      <td>6.66</td>\n",
       "      <td>1110559345.00</td>\n",
       "    </tr>\n",
       "    <tr>\n",
       "      <th>2</th>\n",
       "      <td>PETR3</td>\n",
       "      <td>2024-01-26</td>\n",
       "      <td>41.96</td>\n",
       "      <td>2.19</td>\n",
       "      <td>0.02</td>\n",
       "      <td>41.06</td>\n",
       "      <td>2379877655.00</td>\n",
       "    </tr>\n",
       "    <tr>\n",
       "      <th>3</th>\n",
       "      <td>SUZB3</td>\n",
       "      <td>2024-01-26</td>\n",
       "      <td>52.91</td>\n",
       "      <td>2.04</td>\n",
       "      <td>0.02</td>\n",
       "      <td>51.85</td>\n",
       "      <td>683452836.00</td>\n",
       "    </tr>\n",
       "    <tr>\n",
       "      <th>4</th>\n",
       "      <td>CPFE3</td>\n",
       "      <td>2024-01-26</td>\n",
       "      <td>37.10</td>\n",
       "      <td>2.03</td>\n",
       "      <td>0.02</td>\n",
       "      <td>36.36</td>\n",
       "      <td>187732538.00</td>\n",
       "    </tr>\n",
       "  </tbody>\n",
       "</table>\n",
       "</div>"
      ],
      "text/plain": [
       "   Ativo       Data  Valor_final  Var_diaria_pct  Var_diaria  Valor_inicial  \\\n",
       "0  USIM5 2024-01-26         9.50            5.20        0.05           9.03   \n",
       "1  CMIN3 2024-01-26         6.82            2.40        0.02           6.66   \n",
       "2  PETR3 2024-01-26        41.96            2.19        0.02          41.06   \n",
       "3  SUZB3 2024-01-26        52.91            2.04        0.02          51.85   \n",
       "4  CPFE3 2024-01-26        37.10            2.03        0.02          36.36   \n",
       "\n",
       "   Qtde. Teórica  \n",
       "0   515117391.00  \n",
       "1  1110559345.00  \n",
       "2  2379877655.00  \n",
       "3   683452836.00  \n",
       "4   187732538.00  "
      ]
     },
     "execution_count": 10,
     "metadata": {},
     "output_type": "execute_result"
    }
   ],
   "source": [
    "## fazendo correspondencia entre valores de dataframe\n",
    "df_principal = pd.merge(df_principal, df_açoes[['Ativo', 'Qtde. Teórica']], on= ['Ativo'], how='left')\n",
    "df_principal.head()"
   ]
  },
  {
   "cell_type": "code",
   "execution_count": 11,
   "metadata": {},
   "outputs": [
    {
     "data": {
      "text/html": [
       "<div>\n",
       "<style scoped>\n",
       "    .dataframe tbody tr th:only-of-type {\n",
       "        vertical-align: middle;\n",
       "    }\n",
       "\n",
       "    .dataframe tbody tr th {\n",
       "        vertical-align: top;\n",
       "    }\n",
       "\n",
       "    .dataframe thead th {\n",
       "        text-align: right;\n",
       "    }\n",
       "</style>\n",
       "<table border=\"1\" class=\"dataframe\">\n",
       "  <thead>\n",
       "    <tr style=\"text-align: right;\">\n",
       "      <th></th>\n",
       "      <th>Ativo</th>\n",
       "      <th>Data</th>\n",
       "      <th>Valor_final</th>\n",
       "      <th>Var_diaria_pct</th>\n",
       "      <th>Var_diaria</th>\n",
       "      <th>Valor_inicial</th>\n",
       "      <th>Qtde. Teórica</th>\n",
       "      <th>Variacao_RS</th>\n",
       "    </tr>\n",
       "  </thead>\n",
       "  <tbody>\n",
       "    <tr>\n",
       "      <th>0</th>\n",
       "      <td>USIM5</td>\n",
       "      <td>2024-01-26</td>\n",
       "      <td>9.50</td>\n",
       "      <td>5.20</td>\n",
       "      <td>0.05</td>\n",
       "      <td>9.03</td>\n",
       "      <td>515117391.00</td>\n",
       "      <td>241889725.43</td>\n",
       "    </tr>\n",
       "    <tr>\n",
       "      <th>1</th>\n",
       "      <td>CMIN3</td>\n",
       "      <td>2024-01-26</td>\n",
       "      <td>6.82</td>\n",
       "      <td>2.40</td>\n",
       "      <td>0.02</td>\n",
       "      <td>6.66</td>\n",
       "      <td>1110559345.00</td>\n",
       "      <td>177515970.30</td>\n",
       "    </tr>\n",
       "    <tr>\n",
       "      <th>2</th>\n",
       "      <td>PETR3</td>\n",
       "      <td>2024-01-26</td>\n",
       "      <td>41.96</td>\n",
       "      <td>2.19</td>\n",
       "      <td>0.02</td>\n",
       "      <td>41.06</td>\n",
       "      <td>2379877655.00</td>\n",
       "      <td>2140059393.53</td>\n",
       "    </tr>\n",
       "    <tr>\n",
       "      <th>3</th>\n",
       "      <td>SUZB3</td>\n",
       "      <td>2024-01-26</td>\n",
       "      <td>52.91</td>\n",
       "      <td>2.04</td>\n",
       "      <td>0.02</td>\n",
       "      <td>51.85</td>\n",
       "      <td>683452836.00</td>\n",
       "      <td>722946282.71</td>\n",
       "    </tr>\n",
       "    <tr>\n",
       "      <th>4</th>\n",
       "      <td>CPFE3</td>\n",
       "      <td>2024-01-26</td>\n",
       "      <td>37.10</td>\n",
       "      <td>2.03</td>\n",
       "      <td>0.02</td>\n",
       "      <td>36.36</td>\n",
       "      <td>187732538.00</td>\n",
       "      <td>138573955.06</td>\n",
       "    </tr>\n",
       "  </tbody>\n",
       "</table>\n",
       "</div>"
      ],
      "text/plain": [
       "   Ativo       Data  Valor_final  Var_diaria_pct  Var_diaria  Valor_inicial  \\\n",
       "0  USIM5 2024-01-26         9.50            5.20        0.05           9.03   \n",
       "1  CMIN3 2024-01-26         6.82            2.40        0.02           6.66   \n",
       "2  PETR3 2024-01-26        41.96            2.19        0.02          41.06   \n",
       "3  SUZB3 2024-01-26        52.91            2.04        0.02          51.85   \n",
       "4  CPFE3 2024-01-26        37.10            2.03        0.02          36.36   \n",
       "\n",
       "   Qtde. Teórica   Variacao_RS  \n",
       "0   515117391.00  241889725.43  \n",
       "1  1110559345.00  177515970.30  \n",
       "2  2379877655.00 2140059393.53  \n",
       "3   683452836.00  722946282.71  \n",
       "4   187732538.00  138573955.06  "
      ]
     },
     "execution_count": 11,
     "metadata": {},
     "output_type": "execute_result"
    }
   ],
   "source": [
    "df_principal['Variacao_RS'] = (df_principal['Valor_final'] - df_principal['Valor_inicial']) * df_principal['Qtde. Teórica']\n",
    "df_principal.head()"
   ]
  },
  {
   "cell_type": "code",
   "execution_count": 12,
   "metadata": {},
   "outputs": [
    {
     "data": {
      "text/html": [
       "<div>\n",
       "<style scoped>\n",
       "    .dataframe tbody tr th:only-of-type {\n",
       "        vertical-align: middle;\n",
       "    }\n",
       "\n",
       "    .dataframe tbody tr th {\n",
       "        vertical-align: top;\n",
       "    }\n",
       "\n",
       "    .dataframe thead th {\n",
       "        text-align: right;\n",
       "    }\n",
       "</style>\n",
       "<table border=\"1\" class=\"dataframe\">\n",
       "  <thead>\n",
       "    <tr style=\"text-align: right;\">\n",
       "      <th></th>\n",
       "      <th>Ativo</th>\n",
       "      <th>Data</th>\n",
       "      <th>Valor_final</th>\n",
       "      <th>Var_diaria_pct</th>\n",
       "      <th>Var_diaria</th>\n",
       "      <th>Valor_inicial</th>\n",
       "      <th>Qtde. Teórica</th>\n",
       "      <th>Variacao_RS</th>\n",
       "    </tr>\n",
       "  </thead>\n",
       "  <tbody>\n",
       "    <tr>\n",
       "      <th>0</th>\n",
       "      <td>USIM5</td>\n",
       "      <td>2024-01-26</td>\n",
       "      <td>9.50</td>\n",
       "      <td>5.20</td>\n",
       "      <td>0.05</td>\n",
       "      <td>9.03</td>\n",
       "      <td>515117391</td>\n",
       "      <td>241889725.43</td>\n",
       "    </tr>\n",
       "    <tr>\n",
       "      <th>1</th>\n",
       "      <td>CMIN3</td>\n",
       "      <td>2024-01-26</td>\n",
       "      <td>6.82</td>\n",
       "      <td>2.40</td>\n",
       "      <td>0.02</td>\n",
       "      <td>6.66</td>\n",
       "      <td>1110559345</td>\n",
       "      <td>177515970.30</td>\n",
       "    </tr>\n",
       "    <tr>\n",
       "      <th>2</th>\n",
       "      <td>PETR3</td>\n",
       "      <td>2024-01-26</td>\n",
       "      <td>41.96</td>\n",
       "      <td>2.19</td>\n",
       "      <td>0.02</td>\n",
       "      <td>41.06</td>\n",
       "      <td>-2147483648</td>\n",
       "      <td>2140059393.53</td>\n",
       "    </tr>\n",
       "    <tr>\n",
       "      <th>3</th>\n",
       "      <td>SUZB3</td>\n",
       "      <td>2024-01-26</td>\n",
       "      <td>52.91</td>\n",
       "      <td>2.04</td>\n",
       "      <td>0.02</td>\n",
       "      <td>51.85</td>\n",
       "      <td>683452836</td>\n",
       "      <td>722946282.71</td>\n",
       "    </tr>\n",
       "    <tr>\n",
       "      <th>4</th>\n",
       "      <td>CPFE3</td>\n",
       "      <td>2024-01-26</td>\n",
       "      <td>37.10</td>\n",
       "      <td>2.03</td>\n",
       "      <td>0.02</td>\n",
       "      <td>36.36</td>\n",
       "      <td>187732538</td>\n",
       "      <td>138573955.06</td>\n",
       "    </tr>\n",
       "  </tbody>\n",
       "</table>\n",
       "</div>"
      ],
      "text/plain": [
       "   Ativo       Data  Valor_final  Var_diaria_pct  Var_diaria  Valor_inicial  \\\n",
       "0  USIM5 2024-01-26         9.50            5.20        0.05           9.03   \n",
       "1  CMIN3 2024-01-26         6.82            2.40        0.02           6.66   \n",
       "2  PETR3 2024-01-26        41.96            2.19        0.02          41.06   \n",
       "3  SUZB3 2024-01-26        52.91            2.04        0.02          51.85   \n",
       "4  CPFE3 2024-01-26        37.10            2.03        0.02          36.36   \n",
       "\n",
       "   Qtde. Teórica   Variacao_RS  \n",
       "0      515117391  241889725.43  \n",
       "1     1110559345  177515970.30  \n",
       "2    -2147483648 2140059393.53  \n",
       "3      683452836  722946282.71  \n",
       "4      187732538  138573955.06  "
      ]
     },
     "execution_count": 12,
     "metadata": {},
     "output_type": "execute_result"
    }
   ],
   "source": [
    "## modificando a coluna Qtde. Teórica de float para int\n",
    "df_principal['Qtde. Teórica'] = df_principal['Qtde. Teórica'].astype(int)\n",
    "df_principal.head()"
   ]
  },
  {
   "cell_type": "code",
   "execution_count": 13,
   "metadata": {},
   "outputs": [
    {
     "data": {
      "text/html": [
       "<div>\n",
       "<style scoped>\n",
       "    .dataframe tbody tr th:only-of-type {\n",
       "        vertical-align: middle;\n",
       "    }\n",
       "\n",
       "    .dataframe tbody tr th {\n",
       "        vertical-align: top;\n",
       "    }\n",
       "\n",
       "    .dataframe thead th {\n",
       "        text-align: right;\n",
       "    }\n",
       "</style>\n",
       "<table border=\"1\" class=\"dataframe\">\n",
       "  <thead>\n",
       "    <tr style=\"text-align: right;\">\n",
       "      <th></th>\n",
       "      <th>Ativo</th>\n",
       "      <th>Data</th>\n",
       "      <th>Valor_final</th>\n",
       "      <th>Var_diaria_pct</th>\n",
       "      <th>Var_diaria</th>\n",
       "      <th>Valor_inicial</th>\n",
       "      <th>Quantidade_teorica</th>\n",
       "      <th>Variacao_RS</th>\n",
       "    </tr>\n",
       "  </thead>\n",
       "  <tbody>\n",
       "    <tr>\n",
       "      <th>0</th>\n",
       "      <td>USIM5</td>\n",
       "      <td>2024-01-26</td>\n",
       "      <td>9.50</td>\n",
       "      <td>5.20</td>\n",
       "      <td>0.05</td>\n",
       "      <td>9.03</td>\n",
       "      <td>515117391</td>\n",
       "      <td>241889725.43</td>\n",
       "    </tr>\n",
       "    <tr>\n",
       "      <th>1</th>\n",
       "      <td>CMIN3</td>\n",
       "      <td>2024-01-26</td>\n",
       "      <td>6.82</td>\n",
       "      <td>2.40</td>\n",
       "      <td>0.02</td>\n",
       "      <td>6.66</td>\n",
       "      <td>1110559345</td>\n",
       "      <td>177515970.30</td>\n",
       "    </tr>\n",
       "    <tr>\n",
       "      <th>2</th>\n",
       "      <td>PETR3</td>\n",
       "      <td>2024-01-26</td>\n",
       "      <td>41.96</td>\n",
       "      <td>2.19</td>\n",
       "      <td>0.02</td>\n",
       "      <td>41.06</td>\n",
       "      <td>-2147483648</td>\n",
       "      <td>2140059393.53</td>\n",
       "    </tr>\n",
       "    <tr>\n",
       "      <th>3</th>\n",
       "      <td>SUZB3</td>\n",
       "      <td>2024-01-26</td>\n",
       "      <td>52.91</td>\n",
       "      <td>2.04</td>\n",
       "      <td>0.02</td>\n",
       "      <td>51.85</td>\n",
       "      <td>683452836</td>\n",
       "      <td>722946282.71</td>\n",
       "    </tr>\n",
       "    <tr>\n",
       "      <th>4</th>\n",
       "      <td>CPFE3</td>\n",
       "      <td>2024-01-26</td>\n",
       "      <td>37.10</td>\n",
       "      <td>2.03</td>\n",
       "      <td>0.02</td>\n",
       "      <td>36.36</td>\n",
       "      <td>187732538</td>\n",
       "      <td>138573955.06</td>\n",
       "    </tr>\n",
       "  </tbody>\n",
       "</table>\n",
       "</div>"
      ],
      "text/plain": [
       "   Ativo       Data  Valor_final  Var_diaria_pct  Var_diaria  Valor_inicial  \\\n",
       "0  USIM5 2024-01-26         9.50            5.20        0.05           9.03   \n",
       "1  CMIN3 2024-01-26         6.82            2.40        0.02           6.66   \n",
       "2  PETR3 2024-01-26        41.96            2.19        0.02          41.06   \n",
       "3  SUZB3 2024-01-26        52.91            2.04        0.02          51.85   \n",
       "4  CPFE3 2024-01-26        37.10            2.03        0.02          36.36   \n",
       "\n",
       "   Quantidade_teorica   Variacao_RS  \n",
       "0           515117391  241889725.43  \n",
       "1          1110559345  177515970.30  \n",
       "2         -2147483648 2140059393.53  \n",
       "3           683452836  722946282.71  \n",
       "4           187732538  138573955.06  "
      ]
     },
     "execution_count": 13,
     "metadata": {},
     "output_type": "execute_result"
    }
   ],
   "source": [
    "df_principal = df_principal.rename(columns={'Qtde. Teórica' : 'Quantidade_teorica'}).copy()\n",
    "df_principal.head()"
   ]
  },
  {
   "cell_type": "code",
   "execution_count": 14,
   "metadata": {},
   "outputs": [
    {
     "data": {
      "text/html": [
       "<div>\n",
       "<style scoped>\n",
       "    .dataframe tbody tr th:only-of-type {\n",
       "        vertical-align: middle;\n",
       "    }\n",
       "\n",
       "    .dataframe tbody tr th {\n",
       "        vertical-align: top;\n",
       "    }\n",
       "\n",
       "    .dataframe thead th {\n",
       "        text-align: right;\n",
       "    }\n",
       "</style>\n",
       "<table border=\"1\" class=\"dataframe\">\n",
       "  <thead>\n",
       "    <tr style=\"text-align: right;\">\n",
       "      <th></th>\n",
       "      <th>Ativo</th>\n",
       "      <th>Data</th>\n",
       "      <th>Valor_final</th>\n",
       "      <th>Var_diaria_pct</th>\n",
       "      <th>Var_diaria</th>\n",
       "      <th>Valor_inicial</th>\n",
       "      <th>Quantidade_teorica</th>\n",
       "      <th>Variacao_RS</th>\n",
       "      <th>Status</th>\n",
       "    </tr>\n",
       "  </thead>\n",
       "  <tbody>\n",
       "    <tr>\n",
       "      <th>0</th>\n",
       "      <td>USIM5</td>\n",
       "      <td>2024-01-26</td>\n",
       "      <td>9.50</td>\n",
       "      <td>5.20</td>\n",
       "      <td>0.05</td>\n",
       "      <td>9.03</td>\n",
       "      <td>515117391</td>\n",
       "      <td>241889725.43</td>\n",
       "      <td>Subiu</td>\n",
       "    </tr>\n",
       "    <tr>\n",
       "      <th>1</th>\n",
       "      <td>CMIN3</td>\n",
       "      <td>2024-01-26</td>\n",
       "      <td>6.82</td>\n",
       "      <td>2.40</td>\n",
       "      <td>0.02</td>\n",
       "      <td>6.66</td>\n",
       "      <td>1110559345</td>\n",
       "      <td>177515970.30</td>\n",
       "      <td>Subiu</td>\n",
       "    </tr>\n",
       "    <tr>\n",
       "      <th>2</th>\n",
       "      <td>PETR3</td>\n",
       "      <td>2024-01-26</td>\n",
       "      <td>41.96</td>\n",
       "      <td>2.19</td>\n",
       "      <td>0.02</td>\n",
       "      <td>41.06</td>\n",
       "      <td>-2147483648</td>\n",
       "      <td>2140059393.53</td>\n",
       "      <td>Subiu</td>\n",
       "    </tr>\n",
       "    <tr>\n",
       "      <th>3</th>\n",
       "      <td>SUZB3</td>\n",
       "      <td>2024-01-26</td>\n",
       "      <td>52.91</td>\n",
       "      <td>2.04</td>\n",
       "      <td>0.02</td>\n",
       "      <td>51.85</td>\n",
       "      <td>683452836</td>\n",
       "      <td>722946282.71</td>\n",
       "      <td>Subiu</td>\n",
       "    </tr>\n",
       "    <tr>\n",
       "      <th>4</th>\n",
       "      <td>CPFE3</td>\n",
       "      <td>2024-01-26</td>\n",
       "      <td>37.10</td>\n",
       "      <td>2.03</td>\n",
       "      <td>0.02</td>\n",
       "      <td>36.36</td>\n",
       "      <td>187732538</td>\n",
       "      <td>138573955.06</td>\n",
       "      <td>Subiu</td>\n",
       "    </tr>\n",
       "    <tr>\n",
       "      <th>...</th>\n",
       "      <td>...</td>\n",
       "      <td>...</td>\n",
       "      <td>...</td>\n",
       "      <td>...</td>\n",
       "      <td>...</td>\n",
       "      <td>...</td>\n",
       "      <td>...</td>\n",
       "      <td>...</td>\n",
       "      <td>...</td>\n",
       "    </tr>\n",
       "    <tr>\n",
       "      <th>76</th>\n",
       "      <td>CRFB3</td>\n",
       "      <td>2024-01-26</td>\n",
       "      <td>10.71</td>\n",
       "      <td>-2.45</td>\n",
       "      <td>-0.02</td>\n",
       "      <td>10.98</td>\n",
       "      <td>533990587</td>\n",
       "      <td>-143635530.57</td>\n",
       "      <td>Desceu</td>\n",
       "    </tr>\n",
       "    <tr>\n",
       "      <th>77</th>\n",
       "      <td>BHIA3</td>\n",
       "      <td>2024-01-26</td>\n",
       "      <td>8.70</td>\n",
       "      <td>-2.46</td>\n",
       "      <td>-0.02</td>\n",
       "      <td>8.92</td>\n",
       "      <td>94843047</td>\n",
       "      <td>-20810240.84</td>\n",
       "      <td>Desceu</td>\n",
       "    </tr>\n",
       "    <tr>\n",
       "      <th>78</th>\n",
       "      <td>RENT3</td>\n",
       "      <td>2024-01-26</td>\n",
       "      <td>56.24</td>\n",
       "      <td>-3.63</td>\n",
       "      <td>-0.04</td>\n",
       "      <td>58.36</td>\n",
       "      <td>853202347</td>\n",
       "      <td>-1807432634.46</td>\n",
       "      <td>Desceu</td>\n",
       "    </tr>\n",
       "    <tr>\n",
       "      <th>79</th>\n",
       "      <td>CVCB3</td>\n",
       "      <td>2024-01-26</td>\n",
       "      <td>3.07</td>\n",
       "      <td>-4.36</td>\n",
       "      <td>-0.04</td>\n",
       "      <td>3.21</td>\n",
       "      <td>525582771</td>\n",
       "      <td>-73557408.06</td>\n",
       "      <td>Desceu</td>\n",
       "    </tr>\n",
       "    <tr>\n",
       "      <th>80</th>\n",
       "      <td>GOLL4</td>\n",
       "      <td>2024-01-26</td>\n",
       "      <td>5.92</td>\n",
       "      <td>-8.07</td>\n",
       "      <td>-0.08</td>\n",
       "      <td>6.44</td>\n",
       "      <td>198184909</td>\n",
       "      <td>-102993202.62</td>\n",
       "      <td>Desceu</td>\n",
       "    </tr>\n",
       "  </tbody>\n",
       "</table>\n",
       "<p>81 rows × 9 columns</p>\n",
       "</div>"
      ],
      "text/plain": [
       "    Ativo       Data  Valor_final  Var_diaria_pct  Var_diaria  Valor_inicial  \\\n",
       "0   USIM5 2024-01-26         9.50            5.20        0.05           9.03   \n",
       "1   CMIN3 2024-01-26         6.82            2.40        0.02           6.66   \n",
       "2   PETR3 2024-01-26        41.96            2.19        0.02          41.06   \n",
       "3   SUZB3 2024-01-26        52.91            2.04        0.02          51.85   \n",
       "4   CPFE3 2024-01-26        37.10            2.03        0.02          36.36   \n",
       "..    ...        ...          ...             ...         ...            ...   \n",
       "76  CRFB3 2024-01-26        10.71           -2.45       -0.02          10.98   \n",
       "77  BHIA3 2024-01-26         8.70           -2.46       -0.02           8.92   \n",
       "78  RENT3 2024-01-26        56.24           -3.63       -0.04          58.36   \n",
       "79  CVCB3 2024-01-26         3.07           -4.36       -0.04           3.21   \n",
       "80  GOLL4 2024-01-26         5.92           -8.07       -0.08           6.44   \n",
       "\n",
       "    Quantidade_teorica    Variacao_RS  Status  \n",
       "0            515117391   241889725.43   Subiu  \n",
       "1           1110559345   177515970.30   Subiu  \n",
       "2          -2147483648  2140059393.53   Subiu  \n",
       "3            683452836   722946282.71   Subiu  \n",
       "4            187732538   138573955.06   Subiu  \n",
       "..                 ...            ...     ...  \n",
       "76           533990587  -143635530.57  Desceu  \n",
       "77            94843047   -20810240.84  Desceu  \n",
       "78           853202347 -1807432634.46  Desceu  \n",
       "79           525582771   -73557408.06  Desceu  \n",
       "80           198184909  -102993202.62  Desceu  \n",
       "\n",
       "[81 rows x 9 columns]"
      ]
     },
     "execution_count": 14,
     "metadata": {},
     "output_type": "execute_result"
    }
   ],
   "source": [
    "\n",
    "\n",
    "## criando coluna de status utilizando \"if\"(dessa vez sem utilizar numpy)\n",
    "\n",
    "df_principal['Status'] = df_principal['Variacao_RS'].apply(lambda x : \"Subiu\" if x > 0 else (\"Desceu\" if x < 0 else \"Estável\"))\n",
    "df_principal"
   ]
  },
  {
   "cell_type": "code",
   "execution_count": 15,
   "metadata": {},
   "outputs": [
    {
     "data": {
      "text/html": [
       "<div>\n",
       "<style scoped>\n",
       "    .dataframe tbody tr th:only-of-type {\n",
       "        vertical-align: middle;\n",
       "    }\n",
       "\n",
       "    .dataframe tbody tr th {\n",
       "        vertical-align: top;\n",
       "    }\n",
       "\n",
       "    .dataframe thead th {\n",
       "        text-align: right;\n",
       "    }\n",
       "</style>\n",
       "<table border=\"1\" class=\"dataframe\">\n",
       "  <thead>\n",
       "    <tr style=\"text-align: right;\">\n",
       "      <th></th>\n",
       "      <th>Ativo</th>\n",
       "      <th>Data</th>\n",
       "      <th>Valor_final</th>\n",
       "      <th>Var_diaria_pct</th>\n",
       "      <th>Var_diaria</th>\n",
       "      <th>Valor_inicial</th>\n",
       "      <th>Quantidade_teorica</th>\n",
       "      <th>Variacao_RS</th>\n",
       "      <th>Status</th>\n",
       "    </tr>\n",
       "  </thead>\n",
       "  <tbody>\n",
       "    <tr>\n",
       "      <th>0</th>\n",
       "      <td>USIM5</td>\n",
       "      <td>2024-01-26</td>\n",
       "      <td>9.50</td>\n",
       "      <td>5.20</td>\n",
       "      <td>0.05</td>\n",
       "      <td>9.03</td>\n",
       "      <td>515117391</td>\n",
       "      <td>241889725.43</td>\n",
       "      <td>Subiu</td>\n",
       "    </tr>\n",
       "    <tr>\n",
       "      <th>1</th>\n",
       "      <td>CMIN3</td>\n",
       "      <td>2024-01-26</td>\n",
       "      <td>6.82</td>\n",
       "      <td>2.40</td>\n",
       "      <td>0.02</td>\n",
       "      <td>6.66</td>\n",
       "      <td>1110559345</td>\n",
       "      <td>177515970.30</td>\n",
       "      <td>Subiu</td>\n",
       "    </tr>\n",
       "    <tr>\n",
       "      <th>2</th>\n",
       "      <td>PETR3</td>\n",
       "      <td>2024-01-26</td>\n",
       "      <td>41.96</td>\n",
       "      <td>2.19</td>\n",
       "      <td>0.02</td>\n",
       "      <td>41.06</td>\n",
       "      <td>-2147483648</td>\n",
       "      <td>2140059393.53</td>\n",
       "      <td>Subiu</td>\n",
       "    </tr>\n",
       "    <tr>\n",
       "      <th>3</th>\n",
       "      <td>SUZB3</td>\n",
       "      <td>2024-01-26</td>\n",
       "      <td>52.91</td>\n",
       "      <td>2.04</td>\n",
       "      <td>0.02</td>\n",
       "      <td>51.85</td>\n",
       "      <td>683452836</td>\n",
       "      <td>722946282.71</td>\n",
       "      <td>Subiu</td>\n",
       "    </tr>\n",
       "    <tr>\n",
       "      <th>4</th>\n",
       "      <td>CPFE3</td>\n",
       "      <td>2024-01-26</td>\n",
       "      <td>37.10</td>\n",
       "      <td>2.03</td>\n",
       "      <td>0.02</td>\n",
       "      <td>36.36</td>\n",
       "      <td>187732538</td>\n",
       "      <td>138573955.06</td>\n",
       "      <td>Subiu</td>\n",
       "    </tr>\n",
       "    <tr>\n",
       "      <th>...</th>\n",
       "      <td>...</td>\n",
       "      <td>...</td>\n",
       "      <td>...</td>\n",
       "      <td>...</td>\n",
       "      <td>...</td>\n",
       "      <td>...</td>\n",
       "      <td>...</td>\n",
       "      <td>...</td>\n",
       "      <td>...</td>\n",
       "    </tr>\n",
       "    <tr>\n",
       "      <th>76</th>\n",
       "      <td>CRFB3</td>\n",
       "      <td>2024-01-26</td>\n",
       "      <td>10.71</td>\n",
       "      <td>-2.45</td>\n",
       "      <td>-0.02</td>\n",
       "      <td>10.98</td>\n",
       "      <td>533990587</td>\n",
       "      <td>-143635530.57</td>\n",
       "      <td>Desceu</td>\n",
       "    </tr>\n",
       "    <tr>\n",
       "      <th>77</th>\n",
       "      <td>BHIA3</td>\n",
       "      <td>2024-01-26</td>\n",
       "      <td>8.70</td>\n",
       "      <td>-2.46</td>\n",
       "      <td>-0.02</td>\n",
       "      <td>8.92</td>\n",
       "      <td>94843047</td>\n",
       "      <td>-20810240.84</td>\n",
       "      <td>Desceu</td>\n",
       "    </tr>\n",
       "    <tr>\n",
       "      <th>78</th>\n",
       "      <td>RENT3</td>\n",
       "      <td>2024-01-26</td>\n",
       "      <td>56.24</td>\n",
       "      <td>-3.63</td>\n",
       "      <td>-0.04</td>\n",
       "      <td>58.36</td>\n",
       "      <td>853202347</td>\n",
       "      <td>-1807432634.46</td>\n",
       "      <td>Desceu</td>\n",
       "    </tr>\n",
       "    <tr>\n",
       "      <th>79</th>\n",
       "      <td>CVCB3</td>\n",
       "      <td>2024-01-26</td>\n",
       "      <td>3.07</td>\n",
       "      <td>-4.36</td>\n",
       "      <td>-0.04</td>\n",
       "      <td>3.21</td>\n",
       "      <td>525582771</td>\n",
       "      <td>-73557408.06</td>\n",
       "      <td>Desceu</td>\n",
       "    </tr>\n",
       "    <tr>\n",
       "      <th>80</th>\n",
       "      <td>GOLL4</td>\n",
       "      <td>2024-01-26</td>\n",
       "      <td>5.92</td>\n",
       "      <td>-8.07</td>\n",
       "      <td>-0.08</td>\n",
       "      <td>6.44</td>\n",
       "      <td>198184909</td>\n",
       "      <td>-102993202.62</td>\n",
       "      <td>Desceu</td>\n",
       "    </tr>\n",
       "  </tbody>\n",
       "</table>\n",
       "<p>81 rows × 9 columns</p>\n",
       "</div>"
      ],
      "text/plain": [
       "    Ativo       Data  Valor_final  Var_diaria_pct  Var_diaria  Valor_inicial  \\\n",
       "0   USIM5 2024-01-26         9.50            5.20        0.05           9.03   \n",
       "1   CMIN3 2024-01-26         6.82            2.40        0.02           6.66   \n",
       "2   PETR3 2024-01-26        41.96            2.19        0.02          41.06   \n",
       "3   SUZB3 2024-01-26        52.91            2.04        0.02          51.85   \n",
       "4   CPFE3 2024-01-26        37.10            2.03        0.02          36.36   \n",
       "..    ...        ...          ...             ...         ...            ...   \n",
       "76  CRFB3 2024-01-26        10.71           -2.45       -0.02          10.98   \n",
       "77  BHIA3 2024-01-26         8.70           -2.46       -0.02           8.92   \n",
       "78  RENT3 2024-01-26        56.24           -3.63       -0.04          58.36   \n",
       "79  CVCB3 2024-01-26         3.07           -4.36       -0.04           3.21   \n",
       "80  GOLL4 2024-01-26         5.92           -8.07       -0.08           6.44   \n",
       "\n",
       "    Quantidade_teorica    Variacao_RS  Status  \n",
       "0            515117391   241889725.43   Subiu  \n",
       "1           1110559345   177515970.30   Subiu  \n",
       "2          -2147483648  2140059393.53   Subiu  \n",
       "3            683452836   722946282.71   Subiu  \n",
       "4            187732538   138573955.06   Subiu  \n",
       "..                 ...            ...     ...  \n",
       "76           533990587  -143635530.57  Desceu  \n",
       "77            94843047   -20810240.84  Desceu  \n",
       "78           853202347 -1807432634.46  Desceu  \n",
       "79           525582771   -73557408.06  Desceu  \n",
       "80           198184909  -102993202.62  Desceu  \n",
       "\n",
       "[81 rows x 9 columns]"
      ]
     },
     "execution_count": 15,
     "metadata": {},
     "output_type": "execute_result"
    }
   ],
   "source": [
    "df_principal"
   ]
  },
  {
   "cell_type": "code",
   "execution_count": 16,
   "metadata": {},
   "outputs": [
    {
     "data": {
      "text/html": [
       "<div>\n",
       "<style scoped>\n",
       "    .dataframe tbody tr th:only-of-type {\n",
       "        vertical-align: middle;\n",
       "    }\n",
       "\n",
       "    .dataframe tbody tr th {\n",
       "        vertical-align: top;\n",
       "    }\n",
       "\n",
       "    .dataframe thead th {\n",
       "        text-align: right;\n",
       "    }\n",
       "</style>\n",
       "<table border=\"1\" class=\"dataframe\">\n",
       "  <thead>\n",
       "    <tr style=\"text-align: right;\">\n",
       "      <th></th>\n",
       "      <th>Ativo</th>\n",
       "      <th>Data</th>\n",
       "      <th>Valor_final</th>\n",
       "      <th>Var_diaria_pct</th>\n",
       "      <th>Var_diaria</th>\n",
       "      <th>Valor_inicial</th>\n",
       "      <th>Quantidade_teorica</th>\n",
       "      <th>Variacao_RS</th>\n",
       "      <th>Status</th>\n",
       "      <th>Nome</th>\n",
       "    </tr>\n",
       "  </thead>\n",
       "  <tbody>\n",
       "    <tr>\n",
       "      <th>0</th>\n",
       "      <td>USIM5</td>\n",
       "      <td>2024-01-26</td>\n",
       "      <td>9.50</td>\n",
       "      <td>5.20</td>\n",
       "      <td>0.05</td>\n",
       "      <td>9.03</td>\n",
       "      <td>515117391</td>\n",
       "      <td>241889725.43</td>\n",
       "      <td>Subiu</td>\n",
       "      <td>Usiminas</td>\n",
       "    </tr>\n",
       "    <tr>\n",
       "      <th>1</th>\n",
       "      <td>CMIN3</td>\n",
       "      <td>2024-01-26</td>\n",
       "      <td>6.82</td>\n",
       "      <td>2.40</td>\n",
       "      <td>0.02</td>\n",
       "      <td>6.66</td>\n",
       "      <td>1110559345</td>\n",
       "      <td>177515970.30</td>\n",
       "      <td>Subiu</td>\n",
       "      <td>CSN Mineração</td>\n",
       "    </tr>\n",
       "    <tr>\n",
       "      <th>2</th>\n",
       "      <td>PETR3</td>\n",
       "      <td>2024-01-26</td>\n",
       "      <td>41.96</td>\n",
       "      <td>2.19</td>\n",
       "      <td>0.02</td>\n",
       "      <td>41.06</td>\n",
       "      <td>-2147483648</td>\n",
       "      <td>2140059393.53</td>\n",
       "      <td>Subiu</td>\n",
       "      <td>Petrobras</td>\n",
       "    </tr>\n",
       "    <tr>\n",
       "      <th>3</th>\n",
       "      <td>SUZB3</td>\n",
       "      <td>2024-01-26</td>\n",
       "      <td>52.91</td>\n",
       "      <td>2.04</td>\n",
       "      <td>0.02</td>\n",
       "      <td>51.85</td>\n",
       "      <td>683452836</td>\n",
       "      <td>722946282.71</td>\n",
       "      <td>Subiu</td>\n",
       "      <td>Suzano</td>\n",
       "    </tr>\n",
       "    <tr>\n",
       "      <th>4</th>\n",
       "      <td>CPFE3</td>\n",
       "      <td>2024-01-26</td>\n",
       "      <td>37.10</td>\n",
       "      <td>2.03</td>\n",
       "      <td>0.02</td>\n",
       "      <td>36.36</td>\n",
       "      <td>187732538</td>\n",
       "      <td>138573955.06</td>\n",
       "      <td>Subiu</td>\n",
       "      <td>CPFL Energia</td>\n",
       "    </tr>\n",
       "  </tbody>\n",
       "</table>\n",
       "</div>"
      ],
      "text/plain": [
       "   Ativo       Data  Valor_final  Var_diaria_pct  Var_diaria  Valor_inicial  \\\n",
       "0  USIM5 2024-01-26         9.50            5.20        0.05           9.03   \n",
       "1  CMIN3 2024-01-26         6.82            2.40        0.02           6.66   \n",
       "2  PETR3 2024-01-26        41.96            2.19        0.02          41.06   \n",
       "3  SUZB3 2024-01-26        52.91            2.04        0.02          51.85   \n",
       "4  CPFE3 2024-01-26        37.10            2.03        0.02          36.36   \n",
       "\n",
       "   Quantidade_teorica   Variacao_RS Status           Nome  \n",
       "0           515117391  241889725.43  Subiu       Usiminas  \n",
       "1          1110559345  177515970.30  Subiu  CSN Mineração  \n",
       "2         -2147483648 2140059393.53  Subiu      Petrobras  \n",
       "3           683452836  722946282.71  Subiu         Suzano  \n",
       "4           187732538  138573955.06  Subiu   CPFL Energia  "
      ]
     },
     "execution_count": 16,
     "metadata": {},
     "output_type": "execute_result"
    }
   ],
   "source": [
    "## fazendo correspondencia entre valores de dataframe ( Ticker - Principal)\n",
    "df_principal = pd.merge(df_principal, df_ticker[['Ativo', 'Nome']], on= ['Ativo'], how='left')\n",
    "df_principal.head()"
   ]
  },
  {
   "cell_type": "code",
   "execution_count": 17,
   "metadata": {},
   "outputs": [
    {
     "data": {
      "text/html": [
       "<div>\n",
       "<style scoped>\n",
       "    .dataframe tbody tr th:only-of-type {\n",
       "        vertical-align: middle;\n",
       "    }\n",
       "\n",
       "    .dataframe tbody tr th {\n",
       "        vertical-align: top;\n",
       "    }\n",
       "\n",
       "    .dataframe thead th {\n",
       "        text-align: right;\n",
       "    }\n",
       "</style>\n",
       "<table border=\"1\" class=\"dataframe\">\n",
       "  <thead>\n",
       "    <tr style=\"text-align: right;\">\n",
       "      <th></th>\n",
       "      <th>Ativo</th>\n",
       "      <th>Data</th>\n",
       "      <th>Valor_final</th>\n",
       "      <th>Var_diaria_pct</th>\n",
       "      <th>Var_diaria</th>\n",
       "      <th>Valor_inicial</th>\n",
       "      <th>Quantidade_teorica</th>\n",
       "      <th>Variacao_RS</th>\n",
       "      <th>Status</th>\n",
       "      <th>Nome</th>\n",
       "      <th>Segmento</th>\n",
       "    </tr>\n",
       "  </thead>\n",
       "  <tbody>\n",
       "    <tr>\n",
       "      <th>0</th>\n",
       "      <td>USIM5</td>\n",
       "      <td>2024-01-26</td>\n",
       "      <td>9.50</td>\n",
       "      <td>5.20</td>\n",
       "      <td>0.05</td>\n",
       "      <td>9.03</td>\n",
       "      <td>515117391</td>\n",
       "      <td>241889725.43</td>\n",
       "      <td>Subiu</td>\n",
       "      <td>Usiminas</td>\n",
       "      <td>Siderurgia</td>\n",
       "    </tr>\n",
       "    <tr>\n",
       "      <th>1</th>\n",
       "      <td>CMIN3</td>\n",
       "      <td>2024-01-26</td>\n",
       "      <td>6.82</td>\n",
       "      <td>2.40</td>\n",
       "      <td>0.02</td>\n",
       "      <td>6.66</td>\n",
       "      <td>1110559345</td>\n",
       "      <td>177515970.30</td>\n",
       "      <td>Subiu</td>\n",
       "      <td>CSN Mineração</td>\n",
       "      <td>Mineração</td>\n",
       "    </tr>\n",
       "    <tr>\n",
       "      <th>2</th>\n",
       "      <td>PETR3</td>\n",
       "      <td>2024-01-26</td>\n",
       "      <td>41.96</td>\n",
       "      <td>2.19</td>\n",
       "      <td>0.02</td>\n",
       "      <td>41.06</td>\n",
       "      <td>-2147483648</td>\n",
       "      <td>2140059393.53</td>\n",
       "      <td>Subiu</td>\n",
       "      <td>Petrobras</td>\n",
       "      <td>Petróleo e Gás</td>\n",
       "    </tr>\n",
       "    <tr>\n",
       "      <th>3</th>\n",
       "      <td>PETR3</td>\n",
       "      <td>2024-01-26</td>\n",
       "      <td>41.96</td>\n",
       "      <td>2.19</td>\n",
       "      <td>0.02</td>\n",
       "      <td>41.06</td>\n",
       "      <td>-2147483648</td>\n",
       "      <td>2140059393.53</td>\n",
       "      <td>Subiu</td>\n",
       "      <td>Petrobras</td>\n",
       "      <td>Petróleo e Gás</td>\n",
       "    </tr>\n",
       "    <tr>\n",
       "      <th>4</th>\n",
       "      <td>SUZB3</td>\n",
       "      <td>2024-01-26</td>\n",
       "      <td>52.91</td>\n",
       "      <td>2.04</td>\n",
       "      <td>0.02</td>\n",
       "      <td>51.85</td>\n",
       "      <td>683452836</td>\n",
       "      <td>722946282.71</td>\n",
       "      <td>Subiu</td>\n",
       "      <td>Suzano</td>\n",
       "      <td>Papel e Celulose</td>\n",
       "    </tr>\n",
       "  </tbody>\n",
       "</table>\n",
       "</div>"
      ],
      "text/plain": [
       "   Ativo       Data  Valor_final  Var_diaria_pct  Var_diaria  Valor_inicial  \\\n",
       "0  USIM5 2024-01-26         9.50            5.20        0.05           9.03   \n",
       "1  CMIN3 2024-01-26         6.82            2.40        0.02           6.66   \n",
       "2  PETR3 2024-01-26        41.96            2.19        0.02          41.06   \n",
       "3  PETR3 2024-01-26        41.96            2.19        0.02          41.06   \n",
       "4  SUZB3 2024-01-26        52.91            2.04        0.02          51.85   \n",
       "\n",
       "   Quantidade_teorica   Variacao_RS Status           Nome          Segmento  \n",
       "0           515117391  241889725.43  Subiu       Usiminas        Siderurgia  \n",
       "1          1110559345  177515970.30  Subiu  CSN Mineração         Mineração  \n",
       "2         -2147483648 2140059393.53  Subiu      Petrobras    Petróleo e Gás  \n",
       "3         -2147483648 2140059393.53  Subiu      Petrobras    Petróleo e Gás  \n",
       "4           683452836  722946282.71  Subiu         Suzano  Papel e Celulose  "
      ]
     },
     "execution_count": 17,
     "metadata": {},
     "output_type": "execute_result"
    }
   ],
   "source": [
    "## fazendo correspondencia entre valores de dataframe ( Gemini - Principal)\n",
    "df_principal = pd.merge(df_principal, df_gemini[['Nome', 'Segmento']], on= ['Nome'], how='left')\n",
    "df_principal.head()"
   ]
  },
  {
   "cell_type": "code",
   "execution_count": 18,
   "metadata": {},
   "outputs": [
    {
     "data": {
      "text/html": [
       "<div>\n",
       "<style scoped>\n",
       "    .dataframe tbody tr th:only-of-type {\n",
       "        vertical-align: middle;\n",
       "    }\n",
       "\n",
       "    .dataframe tbody tr th {\n",
       "        vertical-align: top;\n",
       "    }\n",
       "\n",
       "    .dataframe thead th {\n",
       "        text-align: right;\n",
       "    }\n",
       "</style>\n",
       "<table border=\"1\" class=\"dataframe\">\n",
       "  <thead>\n",
       "    <tr style=\"text-align: right;\">\n",
       "      <th></th>\n",
       "      <th>Ativo</th>\n",
       "      <th>Data</th>\n",
       "      <th>Valor_final</th>\n",
       "      <th>Var_diaria_pct</th>\n",
       "      <th>Var_diaria</th>\n",
       "      <th>Valor_inicial</th>\n",
       "      <th>Quantidade_teorica</th>\n",
       "      <th>Variacao_RS</th>\n",
       "      <th>Status</th>\n",
       "      <th>Nome</th>\n",
       "      <th>Segmento</th>\n",
       "      <th>Idade</th>\n",
       "    </tr>\n",
       "  </thead>\n",
       "  <tbody>\n",
       "    <tr>\n",
       "      <th>0</th>\n",
       "      <td>USIM5</td>\n",
       "      <td>2024-01-26</td>\n",
       "      <td>9.50</td>\n",
       "      <td>5.20</td>\n",
       "      <td>0.05</td>\n",
       "      <td>9.03</td>\n",
       "      <td>515117391</td>\n",
       "      <td>241889725.43</td>\n",
       "      <td>Subiu</td>\n",
       "      <td>Usiminas</td>\n",
       "      <td>Siderurgia</td>\n",
       "      <td>65</td>\n",
       "    </tr>\n",
       "    <tr>\n",
       "      <th>1</th>\n",
       "      <td>CMIN3</td>\n",
       "      <td>2024-01-26</td>\n",
       "      <td>6.82</td>\n",
       "      <td>2.40</td>\n",
       "      <td>0.02</td>\n",
       "      <td>6.66</td>\n",
       "      <td>1110559345</td>\n",
       "      <td>177515970.30</td>\n",
       "      <td>Subiu</td>\n",
       "      <td>CSN Mineração</td>\n",
       "      <td>Mineração</td>\n",
       "      <td>52</td>\n",
       "    </tr>\n",
       "    <tr>\n",
       "      <th>2</th>\n",
       "      <td>PETR3</td>\n",
       "      <td>2024-01-26</td>\n",
       "      <td>41.96</td>\n",
       "      <td>2.19</td>\n",
       "      <td>0.02</td>\n",
       "      <td>41.06</td>\n",
       "      <td>-2147483648</td>\n",
       "      <td>2140059393.53</td>\n",
       "      <td>Subiu</td>\n",
       "      <td>Petrobras</td>\n",
       "      <td>Petróleo e Gás</td>\n",
       "      <td>72</td>\n",
       "    </tr>\n",
       "    <tr>\n",
       "      <th>3</th>\n",
       "      <td>PETR3</td>\n",
       "      <td>2024-01-26</td>\n",
       "      <td>41.96</td>\n",
       "      <td>2.19</td>\n",
       "      <td>0.02</td>\n",
       "      <td>41.06</td>\n",
       "      <td>-2147483648</td>\n",
       "      <td>2140059393.53</td>\n",
       "      <td>Subiu</td>\n",
       "      <td>Petrobras</td>\n",
       "      <td>Petróleo e Gás</td>\n",
       "      <td>72</td>\n",
       "    </tr>\n",
       "    <tr>\n",
       "      <th>4</th>\n",
       "      <td>PETR3</td>\n",
       "      <td>2024-01-26</td>\n",
       "      <td>41.96</td>\n",
       "      <td>2.19</td>\n",
       "      <td>0.02</td>\n",
       "      <td>41.06</td>\n",
       "      <td>-2147483648</td>\n",
       "      <td>2140059393.53</td>\n",
       "      <td>Subiu</td>\n",
       "      <td>Petrobras</td>\n",
       "      <td>Petróleo e Gás</td>\n",
       "      <td>72</td>\n",
       "    </tr>\n",
       "  </tbody>\n",
       "</table>\n",
       "</div>"
      ],
      "text/plain": [
       "   Ativo       Data  Valor_final  Var_diaria_pct  Var_diaria  Valor_inicial  \\\n",
       "0  USIM5 2024-01-26         9.50            5.20        0.05           9.03   \n",
       "1  CMIN3 2024-01-26         6.82            2.40        0.02           6.66   \n",
       "2  PETR3 2024-01-26        41.96            2.19        0.02          41.06   \n",
       "3  PETR3 2024-01-26        41.96            2.19        0.02          41.06   \n",
       "4  PETR3 2024-01-26        41.96            2.19        0.02          41.06   \n",
       "\n",
       "   Quantidade_teorica   Variacao_RS Status           Nome        Segmento  \\\n",
       "0           515117391  241889725.43  Subiu       Usiminas      Siderurgia   \n",
       "1          1110559345  177515970.30  Subiu  CSN Mineração       Mineração   \n",
       "2         -2147483648 2140059393.53  Subiu      Petrobras  Petróleo e Gás   \n",
       "3         -2147483648 2140059393.53  Subiu      Petrobras  Petróleo e Gás   \n",
       "4         -2147483648 2140059393.53  Subiu      Petrobras  Petróleo e Gás   \n",
       "\n",
       "   Idade  \n",
       "0     65  \n",
       "1     52  \n",
       "2     72  \n",
       "3     72  \n",
       "4     72  "
      ]
     },
     "execution_count": 18,
     "metadata": {},
     "output_type": "execute_result"
    }
   ],
   "source": [
    "## fazendo correspondencia entre valores de dataframe ( Gemini - Principal)\n",
    "df_principal = pd.merge(df_principal, df_gemini[['Nome', 'Idade (anos)']], on= ['Nome'], how='left')\n",
    "df_principal.rename(columns= {'Idade (anos)' : 'Idade'}, inplace= True)\n",
    "df_principal.head()"
   ]
  },
  {
   "cell_type": "code",
   "execution_count": 19,
   "metadata": {},
   "outputs": [
    {
     "data": {
      "text/html": [
       "<div>\n",
       "<style scoped>\n",
       "    .dataframe tbody tr th:only-of-type {\n",
       "        vertical-align: middle;\n",
       "    }\n",
       "\n",
       "    .dataframe tbody tr th {\n",
       "        vertical-align: top;\n",
       "    }\n",
       "\n",
       "    .dataframe thead th {\n",
       "        text-align: right;\n",
       "    }\n",
       "</style>\n",
       "<table border=\"1\" class=\"dataframe\">\n",
       "  <thead>\n",
       "    <tr style=\"text-align: right;\">\n",
       "      <th></th>\n",
       "      <th>Ativo</th>\n",
       "      <th>Data</th>\n",
       "      <th>Valor_final</th>\n",
       "      <th>Var_diaria_pct</th>\n",
       "      <th>Var_diaria</th>\n",
       "      <th>Valor_inicial</th>\n",
       "      <th>Quantidade_teorica</th>\n",
       "      <th>Variacao_RS</th>\n",
       "      <th>Status</th>\n",
       "      <th>Nome</th>\n",
       "      <th>Segmento</th>\n",
       "      <th>Idade</th>\n",
       "      <th>Faixa de Idade</th>\n",
       "    </tr>\n",
       "  </thead>\n",
       "  <tbody>\n",
       "    <tr>\n",
       "      <th>0</th>\n",
       "      <td>USIM5</td>\n",
       "      <td>2024-01-26</td>\n",
       "      <td>9.50</td>\n",
       "      <td>5.20</td>\n",
       "      <td>0.05</td>\n",
       "      <td>9.03</td>\n",
       "      <td>515117391</td>\n",
       "      <td>241889725.43</td>\n",
       "      <td>Subiu</td>\n",
       "      <td>Usiminas</td>\n",
       "      <td>Siderurgia</td>\n",
       "      <td>65</td>\n",
       "      <td>Entre 50 a 100 anos</td>\n",
       "    </tr>\n",
       "    <tr>\n",
       "      <th>1</th>\n",
       "      <td>CMIN3</td>\n",
       "      <td>2024-01-26</td>\n",
       "      <td>6.82</td>\n",
       "      <td>2.40</td>\n",
       "      <td>0.02</td>\n",
       "      <td>6.66</td>\n",
       "      <td>1110559345</td>\n",
       "      <td>177515970.30</td>\n",
       "      <td>Subiu</td>\n",
       "      <td>CSN Mineração</td>\n",
       "      <td>Mineração</td>\n",
       "      <td>52</td>\n",
       "      <td>Entre 50 a 100 anos</td>\n",
       "    </tr>\n",
       "    <tr>\n",
       "      <th>2</th>\n",
       "      <td>PETR3</td>\n",
       "      <td>2024-01-26</td>\n",
       "      <td>41.96</td>\n",
       "      <td>2.19</td>\n",
       "      <td>0.02</td>\n",
       "      <td>41.06</td>\n",
       "      <td>-2147483648</td>\n",
       "      <td>2140059393.53</td>\n",
       "      <td>Subiu</td>\n",
       "      <td>Petrobras</td>\n",
       "      <td>Petróleo e Gás</td>\n",
       "      <td>72</td>\n",
       "      <td>Entre 50 a 100 anos</td>\n",
       "    </tr>\n",
       "    <tr>\n",
       "      <th>3</th>\n",
       "      <td>PETR3</td>\n",
       "      <td>2024-01-26</td>\n",
       "      <td>41.96</td>\n",
       "      <td>2.19</td>\n",
       "      <td>0.02</td>\n",
       "      <td>41.06</td>\n",
       "      <td>-2147483648</td>\n",
       "      <td>2140059393.53</td>\n",
       "      <td>Subiu</td>\n",
       "      <td>Petrobras</td>\n",
       "      <td>Petróleo e Gás</td>\n",
       "      <td>72</td>\n",
       "      <td>Entre 50 a 100 anos</td>\n",
       "    </tr>\n",
       "    <tr>\n",
       "      <th>4</th>\n",
       "      <td>PETR3</td>\n",
       "      <td>2024-01-26</td>\n",
       "      <td>41.96</td>\n",
       "      <td>2.19</td>\n",
       "      <td>0.02</td>\n",
       "      <td>41.06</td>\n",
       "      <td>-2147483648</td>\n",
       "      <td>2140059393.53</td>\n",
       "      <td>Subiu</td>\n",
       "      <td>Petrobras</td>\n",
       "      <td>Petróleo e Gás</td>\n",
       "      <td>72</td>\n",
       "      <td>Entre 50 a 100 anos</td>\n",
       "    </tr>\n",
       "    <tr>\n",
       "      <th>...</th>\n",
       "      <td>...</td>\n",
       "      <td>...</td>\n",
       "      <td>...</td>\n",
       "      <td>...</td>\n",
       "      <td>...</td>\n",
       "      <td>...</td>\n",
       "      <td>...</td>\n",
       "      <td>...</td>\n",
       "      <td>...</td>\n",
       "      <td>...</td>\n",
       "      <td>...</td>\n",
       "      <td>...</td>\n",
       "      <td>...</td>\n",
       "    </tr>\n",
       "    <tr>\n",
       "      <th>88</th>\n",
       "      <td>CRFB3</td>\n",
       "      <td>2024-01-26</td>\n",
       "      <td>10.71</td>\n",
       "      <td>-2.45</td>\n",
       "      <td>-0.02</td>\n",
       "      <td>10.98</td>\n",
       "      <td>533990587</td>\n",
       "      <td>-143635530.57</td>\n",
       "      <td>Desceu</td>\n",
       "      <td>Carrefour Brasil</td>\n",
       "      <td>Varejo Alimentício</td>\n",
       "      <td>74</td>\n",
       "      <td>Entre 50 a 100 anos</td>\n",
       "    </tr>\n",
       "    <tr>\n",
       "      <th>89</th>\n",
       "      <td>BHIA3</td>\n",
       "      <td>2024-01-26</td>\n",
       "      <td>8.70</td>\n",
       "      <td>-2.46</td>\n",
       "      <td>-0.02</td>\n",
       "      <td>8.92</td>\n",
       "      <td>94843047</td>\n",
       "      <td>-20810240.84</td>\n",
       "      <td>Desceu</td>\n",
       "      <td>Casas Bahia</td>\n",
       "      <td>Varejo Eletrodomésticos</td>\n",
       "      <td>54</td>\n",
       "      <td>Entre 50 a 100 anos</td>\n",
       "    </tr>\n",
       "    <tr>\n",
       "      <th>90</th>\n",
       "      <td>RENT3</td>\n",
       "      <td>2024-01-26</td>\n",
       "      <td>56.24</td>\n",
       "      <td>-3.63</td>\n",
       "      <td>-0.04</td>\n",
       "      <td>58.36</td>\n",
       "      <td>853202347</td>\n",
       "      <td>-1807432634.46</td>\n",
       "      <td>Desceu</td>\n",
       "      <td>Localiza</td>\n",
       "      <td>Aluguel de Carros</td>\n",
       "      <td>50</td>\n",
       "      <td>Entre 50 a 100 anos</td>\n",
       "    </tr>\n",
       "    <tr>\n",
       "      <th>91</th>\n",
       "      <td>CVCB3</td>\n",
       "      <td>2024-01-26</td>\n",
       "      <td>3.07</td>\n",
       "      <td>-4.36</td>\n",
       "      <td>-0.04</td>\n",
       "      <td>3.21</td>\n",
       "      <td>525582771</td>\n",
       "      <td>-73557408.06</td>\n",
       "      <td>Desceu</td>\n",
       "      <td>CVC</td>\n",
       "      <td>Turismo</td>\n",
       "      <td>50</td>\n",
       "      <td>Entre 50 a 100 anos</td>\n",
       "    </tr>\n",
       "    <tr>\n",
       "      <th>92</th>\n",
       "      <td>GOLL4</td>\n",
       "      <td>2024-01-26</td>\n",
       "      <td>5.92</td>\n",
       "      <td>-8.07</td>\n",
       "      <td>-0.08</td>\n",
       "      <td>6.44</td>\n",
       "      <td>198184909</td>\n",
       "      <td>-102993202.62</td>\n",
       "      <td>Desceu</td>\n",
       "      <td>GOL</td>\n",
       "      <td>Aviação</td>\n",
       "      <td>23</td>\n",
       "      <td>Menos que 50 anos</td>\n",
       "    </tr>\n",
       "  </tbody>\n",
       "</table>\n",
       "<p>93 rows × 13 columns</p>\n",
       "</div>"
      ],
      "text/plain": [
       "    Ativo       Data  Valor_final  Var_diaria_pct  Var_diaria  Valor_inicial  \\\n",
       "0   USIM5 2024-01-26         9.50            5.20        0.05           9.03   \n",
       "1   CMIN3 2024-01-26         6.82            2.40        0.02           6.66   \n",
       "2   PETR3 2024-01-26        41.96            2.19        0.02          41.06   \n",
       "3   PETR3 2024-01-26        41.96            2.19        0.02          41.06   \n",
       "4   PETR3 2024-01-26        41.96            2.19        0.02          41.06   \n",
       "..    ...        ...          ...             ...         ...            ...   \n",
       "88  CRFB3 2024-01-26        10.71           -2.45       -0.02          10.98   \n",
       "89  BHIA3 2024-01-26         8.70           -2.46       -0.02           8.92   \n",
       "90  RENT3 2024-01-26        56.24           -3.63       -0.04          58.36   \n",
       "91  CVCB3 2024-01-26         3.07           -4.36       -0.04           3.21   \n",
       "92  GOLL4 2024-01-26         5.92           -8.07       -0.08           6.44   \n",
       "\n",
       "    Quantidade_teorica    Variacao_RS  Status              Nome  \\\n",
       "0            515117391   241889725.43   Subiu          Usiminas   \n",
       "1           1110559345   177515970.30   Subiu     CSN Mineração   \n",
       "2          -2147483648  2140059393.53   Subiu         Petrobras   \n",
       "3          -2147483648  2140059393.53   Subiu         Petrobras   \n",
       "4          -2147483648  2140059393.53   Subiu         Petrobras   \n",
       "..                 ...            ...     ...               ...   \n",
       "88           533990587  -143635530.57  Desceu  Carrefour Brasil   \n",
       "89            94843047   -20810240.84  Desceu       Casas Bahia   \n",
       "90           853202347 -1807432634.46  Desceu          Localiza   \n",
       "91           525582771   -73557408.06  Desceu               CVC   \n",
       "92           198184909  -102993202.62  Desceu               GOL   \n",
       "\n",
       "                   Segmento  Idade       Faixa de Idade  \n",
       "0                Siderurgia     65  Entre 50 a 100 anos  \n",
       "1                 Mineração     52  Entre 50 a 100 anos  \n",
       "2            Petróleo e Gás     72  Entre 50 a 100 anos  \n",
       "3            Petróleo e Gás     72  Entre 50 a 100 anos  \n",
       "4            Petróleo e Gás     72  Entre 50 a 100 anos  \n",
       "..                      ...    ...                  ...  \n",
       "88       Varejo Alimentício     74  Entre 50 a 100 anos  \n",
       "89  Varejo Eletrodomésticos     54  Entre 50 a 100 anos  \n",
       "90        Aluguel de Carros     50  Entre 50 a 100 anos  \n",
       "91                  Turismo     50  Entre 50 a 100 anos  \n",
       "92                  Aviação     23    Menos que 50 anos  \n",
       "\n",
       "[93 rows x 13 columns]"
      ]
     },
     "execution_count": 19,
     "metadata": {},
     "output_type": "execute_result"
    }
   ],
   "source": [
    "## criando coluna da faixa de idade utilizando \"if\"(dessa vez sem utilizar numpy)\n",
    "\n",
    "df_principal['Faixa de Idade'] = df_principal['Idade'].apply(lambda x: 'Mais que 100 anos' if x > 100 else ('Menos que 50 anos' if x < 50 else 'Entre 50 a 100 anos'))\n",
    "df_principal"
   ]
  },
  {
   "cell_type": "code",
   "execution_count": null,
   "metadata": {},
   "outputs": [],
   "source": []
  },
  {
   "cell_type": "markdown",
   "metadata": {},
   "source": [
    "## Analise Grafica dos dados"
   ]
  },
  {
   "cell_type": "code",
   "execution_count": 20,
   "metadata": {},
   "outputs": [
    {
     "name": "stdout",
     "output_type": "stream",
     "text": [
      "Maior Variação (Dia)\t R$ 4,762,926,995.25\n",
      "Menor Variação (Dia)\t R$ -1,807,432,634.46\n",
      "Média (Valores Que Subiram)\t R$ 681,023,534.00\n",
      "Média (Valores Que Desceram)\t R$ -181,109,141.75\n"
     ]
    }
   ],
   "source": [
    "\n",
    "\n",
    "\n",
    "\n",
    "# Calcular as estatísticas\n",
    "maior_variacao = df_principal['Variacao_RS'].max()\n",
    "menor_variacao = df_principal['Variacao_RS'].min()\n",
    "media_subiu = df_principal['Variacao_RS'].mean()\n",
    "media_subiu = df_principal[df_principal['Status'] == 'Subiu']['Variacao_RS'].mean()\n",
    "media_desceu = df_principal[df_principal['Status'] == 'Desceu']['Variacao_RS'].mean()\n",
    "\n",
    "# Formatar os resultados\n",
    "maior_variacao_str = f'R$ {maior_variacao:,.2f}'\n",
    "menor_variacao_str = f'R$ {menor_variacao:,.2f}'\n",
    "media_subiu_str = f'R$ {media_subiu:,.2f}'\n",
    "media_desceu_str = f'R$ {media_desceu:,.2f}'\n",
    "\n",
    "# Imprimir os resultados\n",
    "print(\"Maior Variação (Dia)\\t\", maior_variacao_str)\n",
    "print(\"Menor Variação (Dia)\\t\", menor_variacao_str)\n",
    "print(\"Média (Valores Que Subiram)\\t\", media_subiu_str)\n",
    "print(\"Média (Valores Que Desceram)\\t\", media_desceu_str)\n"
   ]
  },
  {
   "cell_type": "code",
   "execution_count": 21,
   "metadata": {},
   "outputs": [
    {
     "data": {
      "text/html": [
       "<div>\n",
       "<style scoped>\n",
       "    .dataframe tbody tr th:only-of-type {\n",
       "        vertical-align: middle;\n",
       "    }\n",
       "\n",
       "    .dataframe tbody tr th {\n",
       "        vertical-align: top;\n",
       "    }\n",
       "\n",
       "    .dataframe thead th {\n",
       "        text-align: right;\n",
       "    }\n",
       "</style>\n",
       "<table border=\"1\" class=\"dataframe\">\n",
       "  <thead>\n",
       "    <tr style=\"text-align: right;\">\n",
       "      <th></th>\n",
       "      <th>Ativo</th>\n",
       "      <th>Data</th>\n",
       "      <th>Valor_final</th>\n",
       "      <th>Var_diaria_pct</th>\n",
       "      <th>Var_diaria</th>\n",
       "      <th>Valor_inicial</th>\n",
       "      <th>Quantidade_teorica</th>\n",
       "      <th>Variacao_RS</th>\n",
       "      <th>Status</th>\n",
       "      <th>Nome</th>\n",
       "      <th>Segmento</th>\n",
       "      <th>Idade</th>\n",
       "      <th>Faixa de Idade</th>\n",
       "    </tr>\n",
       "  </thead>\n",
       "  <tbody>\n",
       "    <tr>\n",
       "      <th>0</th>\n",
       "      <td>USIM5</td>\n",
       "      <td>2024-01-26</td>\n",
       "      <td>9.50</td>\n",
       "      <td>5.20</td>\n",
       "      <td>0.05</td>\n",
       "      <td>9.03</td>\n",
       "      <td>515117391</td>\n",
       "      <td>241889725.43</td>\n",
       "      <td>Subiu</td>\n",
       "      <td>Usiminas</td>\n",
       "      <td>Siderurgia</td>\n",
       "      <td>65</td>\n",
       "      <td>Entre 50 a 100 anos</td>\n",
       "    </tr>\n",
       "    <tr>\n",
       "      <th>1</th>\n",
       "      <td>CMIN3</td>\n",
       "      <td>2024-01-26</td>\n",
       "      <td>6.82</td>\n",
       "      <td>2.40</td>\n",
       "      <td>0.02</td>\n",
       "      <td>6.66</td>\n",
       "      <td>1110559345</td>\n",
       "      <td>177515970.30</td>\n",
       "      <td>Subiu</td>\n",
       "      <td>CSN Mineração</td>\n",
       "      <td>Mineração</td>\n",
       "      <td>52</td>\n",
       "      <td>Entre 50 a 100 anos</td>\n",
       "    </tr>\n",
       "    <tr>\n",
       "      <th>2</th>\n",
       "      <td>PETR3</td>\n",
       "      <td>2024-01-26</td>\n",
       "      <td>41.96</td>\n",
       "      <td>2.19</td>\n",
       "      <td>0.02</td>\n",
       "      <td>41.06</td>\n",
       "      <td>-2147483648</td>\n",
       "      <td>2140059393.53</td>\n",
       "      <td>Subiu</td>\n",
       "      <td>Petrobras</td>\n",
       "      <td>Petróleo e Gás</td>\n",
       "      <td>72</td>\n",
       "      <td>Entre 50 a 100 anos</td>\n",
       "    </tr>\n",
       "    <tr>\n",
       "      <th>3</th>\n",
       "      <td>PETR3</td>\n",
       "      <td>2024-01-26</td>\n",
       "      <td>41.96</td>\n",
       "      <td>2.19</td>\n",
       "      <td>0.02</td>\n",
       "      <td>41.06</td>\n",
       "      <td>-2147483648</td>\n",
       "      <td>2140059393.53</td>\n",
       "      <td>Subiu</td>\n",
       "      <td>Petrobras</td>\n",
       "      <td>Petróleo e Gás</td>\n",
       "      <td>72</td>\n",
       "      <td>Entre 50 a 100 anos</td>\n",
       "    </tr>\n",
       "    <tr>\n",
       "      <th>4</th>\n",
       "      <td>PETR3</td>\n",
       "      <td>2024-01-26</td>\n",
       "      <td>41.96</td>\n",
       "      <td>2.19</td>\n",
       "      <td>0.02</td>\n",
       "      <td>41.06</td>\n",
       "      <td>-2147483648</td>\n",
       "      <td>2140059393.53</td>\n",
       "      <td>Subiu</td>\n",
       "      <td>Petrobras</td>\n",
       "      <td>Petróleo e Gás</td>\n",
       "      <td>72</td>\n",
       "      <td>Entre 50 a 100 anos</td>\n",
       "    </tr>\n",
       "    <tr>\n",
       "      <th>5</th>\n",
       "      <td>PETR3</td>\n",
       "      <td>2024-01-26</td>\n",
       "      <td>41.96</td>\n",
       "      <td>2.19</td>\n",
       "      <td>0.02</td>\n",
       "      <td>41.06</td>\n",
       "      <td>-2147483648</td>\n",
       "      <td>2140059393.53</td>\n",
       "      <td>Subiu</td>\n",
       "      <td>Petrobras</td>\n",
       "      <td>Petróleo e Gás</td>\n",
       "      <td>72</td>\n",
       "      <td>Entre 50 a 100 anos</td>\n",
       "    </tr>\n",
       "    <tr>\n",
       "      <th>6</th>\n",
       "      <td>SUZB3</td>\n",
       "      <td>2024-01-26</td>\n",
       "      <td>52.91</td>\n",
       "      <td>2.04</td>\n",
       "      <td>0.02</td>\n",
       "      <td>51.85</td>\n",
       "      <td>683452836</td>\n",
       "      <td>722946282.71</td>\n",
       "      <td>Subiu</td>\n",
       "      <td>Suzano</td>\n",
       "      <td>Papel e Celulose</td>\n",
       "      <td>94</td>\n",
       "      <td>Entre 50 a 100 anos</td>\n",
       "    </tr>\n",
       "    <tr>\n",
       "      <th>7</th>\n",
       "      <td>CPFE3</td>\n",
       "      <td>2024-01-26</td>\n",
       "      <td>37.10</td>\n",
       "      <td>2.03</td>\n",
       "      <td>0.02</td>\n",
       "      <td>36.36</td>\n",
       "      <td>187732538</td>\n",
       "      <td>138573955.06</td>\n",
       "      <td>Subiu</td>\n",
       "      <td>CPFL Energia</td>\n",
       "      <td>Energia Elétrica</td>\n",
       "      <td>113</td>\n",
       "      <td>Mais que 100 anos</td>\n",
       "    </tr>\n",
       "    <tr>\n",
       "      <th>8</th>\n",
       "      <td>PRIO3</td>\n",
       "      <td>2024-01-26</td>\n",
       "      <td>45.69</td>\n",
       "      <td>1.98</td>\n",
       "      <td>0.02</td>\n",
       "      <td>44.80</td>\n",
       "      <td>800010734</td>\n",
       "      <td>709687498.18</td>\n",
       "      <td>Subiu</td>\n",
       "      <td>PetroRio</td>\n",
       "      <td>Petróleo e Gás</td>\n",
       "      <td>23</td>\n",
       "      <td>Menos que 50 anos</td>\n",
       "    </tr>\n",
       "    <tr>\n",
       "      <th>9</th>\n",
       "      <td>PETR4</td>\n",
       "      <td>2024-01-26</td>\n",
       "      <td>39.96</td>\n",
       "      <td>1.73</td>\n",
       "      <td>0.02</td>\n",
       "      <td>39.28</td>\n",
       "      <td>-2147483648</td>\n",
       "      <td>3103136291.22</td>\n",
       "      <td>Subiu</td>\n",
       "      <td>Petrobras</td>\n",
       "      <td>Petróleo e Gás</td>\n",
       "      <td>72</td>\n",
       "      <td>Entre 50 a 100 anos</td>\n",
       "    </tr>\n",
       "    <tr>\n",
       "      <th>10</th>\n",
       "      <td>PETR4</td>\n",
       "      <td>2024-01-26</td>\n",
       "      <td>39.96</td>\n",
       "      <td>1.73</td>\n",
       "      <td>0.02</td>\n",
       "      <td>39.28</td>\n",
       "      <td>-2147483648</td>\n",
       "      <td>3103136291.22</td>\n",
       "      <td>Subiu</td>\n",
       "      <td>Petrobras</td>\n",
       "      <td>Petróleo e Gás</td>\n",
       "      <td>72</td>\n",
       "      <td>Entre 50 a 100 anos</td>\n",
       "    </tr>\n",
       "    <tr>\n",
       "      <th>11</th>\n",
       "      <td>PETR4</td>\n",
       "      <td>2024-01-26</td>\n",
       "      <td>39.96</td>\n",
       "      <td>1.73</td>\n",
       "      <td>0.02</td>\n",
       "      <td>39.28</td>\n",
       "      <td>-2147483648</td>\n",
       "      <td>3103136291.22</td>\n",
       "      <td>Subiu</td>\n",
       "      <td>Petrobras</td>\n",
       "      <td>Petróleo e Gás</td>\n",
       "      <td>72</td>\n",
       "      <td>Entre 50 a 100 anos</td>\n",
       "    </tr>\n",
       "    <tr>\n",
       "      <th>12</th>\n",
       "      <td>PETR4</td>\n",
       "      <td>2024-01-26</td>\n",
       "      <td>39.96</td>\n",
       "      <td>1.73</td>\n",
       "      <td>0.02</td>\n",
       "      <td>39.28</td>\n",
       "      <td>-2147483648</td>\n",
       "      <td>3103136291.22</td>\n",
       "      <td>Subiu</td>\n",
       "      <td>Petrobras</td>\n",
       "      <td>Petróleo e Gás</td>\n",
       "      <td>72</td>\n",
       "      <td>Entre 50 a 100 anos</td>\n",
       "    </tr>\n",
       "    <tr>\n",
       "      <th>13</th>\n",
       "      <td>VALE3</td>\n",
       "      <td>2024-01-26</td>\n",
       "      <td>69.50</td>\n",
       "      <td>1.66</td>\n",
       "      <td>0.02</td>\n",
       "      <td>68.37</td>\n",
       "      <td>-2147483648</td>\n",
       "      <td>4762926995.25</td>\n",
       "      <td>Subiu</td>\n",
       "      <td>Vale</td>\n",
       "      <td>Mineração</td>\n",
       "      <td>90</td>\n",
       "      <td>Entre 50 a 100 anos</td>\n",
       "    </tr>\n",
       "    <tr>\n",
       "      <th>14</th>\n",
       "      <td>MULT3</td>\n",
       "      <td>2024-01-26</td>\n",
       "      <td>28.19</td>\n",
       "      <td>1.58</td>\n",
       "      <td>0.02</td>\n",
       "      <td>27.75</td>\n",
       "      <td>268505432</td>\n",
       "      <td>117732680.08</td>\n",
       "      <td>Subiu</td>\n",
       "      <td>Multiplan</td>\n",
       "      <td>Shopping Centers</td>\n",
       "      <td>44</td>\n",
       "      <td>Menos que 50 anos</td>\n",
       "    </tr>\n",
       "    <tr>\n",
       "      <th>15</th>\n",
       "      <td>ITUB4</td>\n",
       "      <td>2024-01-26</td>\n",
       "      <td>32.81</td>\n",
       "      <td>1.48</td>\n",
       "      <td>0.01</td>\n",
       "      <td>32.33</td>\n",
       "      <td>-2147483648</td>\n",
       "      <td>2297591984.33</td>\n",
       "      <td>Subiu</td>\n",
       "      <td>Itaú Unibanco</td>\n",
       "      <td>Banco</td>\n",
       "      <td>25</td>\n",
       "      <td>Menos que 50 anos</td>\n",
       "    </tr>\n",
       "    <tr>\n",
       "      <th>16</th>\n",
       "      <td>RDOR3</td>\n",
       "      <td>2024-01-26</td>\n",
       "      <td>27.56</td>\n",
       "      <td>1.43</td>\n",
       "      <td>0.01</td>\n",
       "      <td>27.17</td>\n",
       "      <td>1168230366</td>\n",
       "      <td>453917907.01</td>\n",
       "      <td>Subiu</td>\n",
       "      <td>Rede D'Or</td>\n",
       "      <td>Saúde</td>\n",
       "      <td>27</td>\n",
       "      <td>Menos que 50 anos</td>\n",
       "    </tr>\n",
       "    <tr>\n",
       "      <th>17</th>\n",
       "      <td>BRKM5</td>\n",
       "      <td>2024-01-26</td>\n",
       "      <td>18.55</td>\n",
       "      <td>1.42</td>\n",
       "      <td>0.01</td>\n",
       "      <td>18.29</td>\n",
       "      <td>265877867</td>\n",
       "      <td>69054317.64</td>\n",
       "      <td>Subiu</td>\n",
       "      <td>Braskem</td>\n",
       "      <td>Petroquímica</td>\n",
       "      <td>20</td>\n",
       "      <td>Menos que 50 anos</td>\n",
       "    </tr>\n",
       "    <tr>\n",
       "      <th>18</th>\n",
       "      <td>AZUL4</td>\n",
       "      <td>2024-01-26</td>\n",
       "      <td>14.27</td>\n",
       "      <td>1.42</td>\n",
       "      <td>0.01</td>\n",
       "      <td>14.07</td>\n",
       "      <td>327593725</td>\n",
       "      <td>65452205.55</td>\n",
       "      <td>Subiu</td>\n",
       "      <td>Azul</td>\n",
       "      <td>Aviação</td>\n",
       "      <td>15</td>\n",
       "      <td>Menos que 50 anos</td>\n",
       "    </tr>\n",
       "    <tr>\n",
       "      <th>19</th>\n",
       "      <td>RRRP3</td>\n",
       "      <td>2024-01-26</td>\n",
       "      <td>28.75</td>\n",
       "      <td>1.41</td>\n",
       "      <td>0.01</td>\n",
       "      <td>28.35</td>\n",
       "      <td>235665566</td>\n",
       "      <td>94204643.35</td>\n",
       "      <td>Subiu</td>\n",
       "      <td>3R Petroleum</td>\n",
       "      <td>Petróleo e Gás</td>\n",
       "      <td>12</td>\n",
       "      <td>Menos que 50 anos</td>\n",
       "    </tr>\n",
       "    <tr>\n",
       "      <th>20</th>\n",
       "      <td>EQTL3</td>\n",
       "      <td>2024-01-26</td>\n",
       "      <td>35.32</td>\n",
       "      <td>1.34</td>\n",
       "      <td>0.01</td>\n",
       "      <td>34.85</td>\n",
       "      <td>1095587251</td>\n",
       "      <td>511671895.45</td>\n",
       "      <td>Subiu</td>\n",
       "      <td>Equatorial Energia</td>\n",
       "      <td>Energia Elétrica</td>\n",
       "      <td>105</td>\n",
       "      <td>Mais que 100 anos</td>\n",
       "    </tr>\n",
       "    <tr>\n",
       "      <th>21</th>\n",
       "      <td>CSNA3</td>\n",
       "      <td>2024-01-26</td>\n",
       "      <td>18.16</td>\n",
       "      <td>1.33</td>\n",
       "      <td>0.01</td>\n",
       "      <td>17.92</td>\n",
       "      <td>600865451</td>\n",
       "      <td>143220991.46</td>\n",
       "      <td>Subiu</td>\n",
       "      <td>Siderúrgica Nacional</td>\n",
       "      <td>Siderurgia</td>\n",
       "      <td>77</td>\n",
       "      <td>Entre 50 a 100 anos</td>\n",
       "    </tr>\n",
       "    <tr>\n",
       "      <th>22</th>\n",
       "      <td>YDUQ3</td>\n",
       "      <td>2024-01-26</td>\n",
       "      <td>19.77</td>\n",
       "      <td>1.28</td>\n",
       "      <td>0.01</td>\n",
       "      <td>19.52</td>\n",
       "      <td>289347914</td>\n",
       "      <td>72295838.99</td>\n",
       "      <td>Subiu</td>\n",
       "      <td>YDUQS</td>\n",
       "      <td>Educação</td>\n",
       "      <td>52</td>\n",
       "      <td>Entre 50 a 100 anos</td>\n",
       "    </tr>\n",
       "    <tr>\n",
       "      <th>23</th>\n",
       "      <td>UGPA3</td>\n",
       "      <td>2024-01-26</td>\n",
       "      <td>28.31</td>\n",
       "      <td>1.28</td>\n",
       "      <td>0.01</td>\n",
       "      <td>27.95</td>\n",
       "      <td>1086411192</td>\n",
       "      <td>388705223.96</td>\n",
       "      <td>Subiu</td>\n",
       "      <td>Ultrapar</td>\n",
       "      <td>Distribuidora de Combustíveis</td>\n",
       "      <td>98</td>\n",
       "      <td>Entre 50 a 100 anos</td>\n",
       "    </tr>\n",
       "    <tr>\n",
       "      <th>24</th>\n",
       "      <td>MRVE3</td>\n",
       "      <td>2024-01-26</td>\n",
       "      <td>8.08</td>\n",
       "      <td>1.25</td>\n",
       "      <td>0.01</td>\n",
       "      <td>7.98</td>\n",
       "      <td>376187582</td>\n",
       "      <td>37525872.38</td>\n",
       "      <td>Subiu</td>\n",
       "      <td>MRV</td>\n",
       "      <td>Construção Civil</td>\n",
       "      <td>42</td>\n",
       "      <td>Menos que 50 anos</td>\n",
       "    </tr>\n",
       "    <tr>\n",
       "      <th>25</th>\n",
       "      <td>ARZZ3</td>\n",
       "      <td>2024-01-26</td>\n",
       "      <td>57.91</td>\n",
       "      <td>1.15</td>\n",
       "      <td>0.01</td>\n",
       "      <td>57.25</td>\n",
       "      <td>62305891</td>\n",
       "      <td>41021792.09</td>\n",
       "      <td>Subiu</td>\n",
       "      <td>Arezzo</td>\n",
       "      <td>Varejo de Calçados</td>\n",
       "      <td>47</td>\n",
       "      <td>Menos que 50 anos</td>\n",
       "    </tr>\n",
       "    <tr>\n",
       "      <th>26</th>\n",
       "      <td>BBDC4</td>\n",
       "      <td>2024-01-26</td>\n",
       "      <td>15.52</td>\n",
       "      <td>1.04</td>\n",
       "      <td>0.01</td>\n",
       "      <td>15.36</td>\n",
       "      <td>-2147483648</td>\n",
       "      <td>822148336.41</td>\n",
       "      <td>Subiu</td>\n",
       "      <td>Banco Bradesco</td>\n",
       "      <td>Banco</td>\n",
       "      <td>124</td>\n",
       "      <td>Mais que 100 anos</td>\n",
       "    </tr>\n",
       "    <tr>\n",
       "      <th>27</th>\n",
       "      <td>BBDC4</td>\n",
       "      <td>2024-01-26</td>\n",
       "      <td>15.52</td>\n",
       "      <td>1.04</td>\n",
       "      <td>0.01</td>\n",
       "      <td>15.36</td>\n",
       "      <td>-2147483648</td>\n",
       "      <td>822148336.41</td>\n",
       "      <td>Subiu</td>\n",
       "      <td>Banco Bradesco</td>\n",
       "      <td>Banco</td>\n",
       "      <td>124</td>\n",
       "      <td>Mais que 100 anos</td>\n",
       "    </tr>\n",
       "    <tr>\n",
       "      <th>28</th>\n",
       "      <td>BBDC4</td>\n",
       "      <td>2024-01-26</td>\n",
       "      <td>15.52</td>\n",
       "      <td>1.04</td>\n",
       "      <td>0.01</td>\n",
       "      <td>15.36</td>\n",
       "      <td>-2147483648</td>\n",
       "      <td>822148336.41</td>\n",
       "      <td>Subiu</td>\n",
       "      <td>Banco Bradesco</td>\n",
       "      <td>Banco</td>\n",
       "      <td>124</td>\n",
       "      <td>Mais que 100 anos</td>\n",
       "    </tr>\n",
       "    <tr>\n",
       "      <th>29</th>\n",
       "      <td>BBDC4</td>\n",
       "      <td>2024-01-26</td>\n",
       "      <td>15.52</td>\n",
       "      <td>1.04</td>\n",
       "      <td>0.01</td>\n",
       "      <td>15.36</td>\n",
       "      <td>-2147483648</td>\n",
       "      <td>822148336.41</td>\n",
       "      <td>Subiu</td>\n",
       "      <td>Banco Bradesco</td>\n",
       "      <td>Banco</td>\n",
       "      <td>124</td>\n",
       "      <td>Mais que 100 anos</td>\n",
       "    </tr>\n",
       "    <tr>\n",
       "      <th>30</th>\n",
       "      <td>BEEF3</td>\n",
       "      <td>2024-01-26</td>\n",
       "      <td>7.19</td>\n",
       "      <td>0.98</td>\n",
       "      <td>0.01</td>\n",
       "      <td>7.12</td>\n",
       "      <td>261036182</td>\n",
       "      <td>18214628.10</td>\n",
       "      <td>Subiu</td>\n",
       "      <td>Minerva</td>\n",
       "      <td>Alimentação</td>\n",
       "      <td>53</td>\n",
       "      <td>Entre 50 a 100 anos</td>\n",
       "    </tr>\n",
       "    <tr>\n",
       "      <th>31</th>\n",
       "      <td>PCAR3</td>\n",
       "      <td>2024-01-26</td>\n",
       "      <td>4.14</td>\n",
       "      <td>0.97</td>\n",
       "      <td>0.01</td>\n",
       "      <td>4.10</td>\n",
       "      <td>159430826</td>\n",
       "      <td>6340916.22</td>\n",
       "      <td>Subiu</td>\n",
       "      <td>Grupo Pão de Açúcar</td>\n",
       "      <td>Varejo Alimentício</td>\n",
       "      <td>77</td>\n",
       "      <td>Entre 50 a 100 anos</td>\n",
       "    </tr>\n",
       "    <tr>\n",
       "      <th>32</th>\n",
       "      <td>BRFS3</td>\n",
       "      <td>2024-01-26</td>\n",
       "      <td>14.61</td>\n",
       "      <td>0.96</td>\n",
       "      <td>0.01</td>\n",
       "      <td>14.47</td>\n",
       "      <td>1677525446</td>\n",
       "      <td>233045769.57</td>\n",
       "      <td>Subiu</td>\n",
       "      <td>BRF</td>\n",
       "      <td>Alimentação</td>\n",
       "      <td>12</td>\n",
       "      <td>Menos que 50 anos</td>\n",
       "    </tr>\n",
       "    <tr>\n",
       "      <th>33</th>\n",
       "      <td>VIVT3</td>\n",
       "      <td>2024-01-26</td>\n",
       "      <td>51.20</td>\n",
       "      <td>0.88</td>\n",
       "      <td>0.01</td>\n",
       "      <td>50.75</td>\n",
       "      <td>423091712</td>\n",
       "      <td>188965307.06</td>\n",
       "      <td>Subiu</td>\n",
       "      <td>Vivo</td>\n",
       "      <td>Telecomunicações</td>\n",
       "      <td>33</td>\n",
       "      <td>Menos que 50 anos</td>\n",
       "    </tr>\n",
       "    <tr>\n",
       "      <th>34</th>\n",
       "      <td>RAIL3</td>\n",
       "      <td>2024-01-26</td>\n",
       "      <td>22.64</td>\n",
       "      <td>0.84</td>\n",
       "      <td>0.01</td>\n",
       "      <td>22.45</td>\n",
       "      <td>1218352541</td>\n",
       "      <td>229771333.63</td>\n",
       "      <td>Subiu</td>\n",
       "      <td>Rumo</td>\n",
       "      <td>Logística</td>\n",
       "      <td>24</td>\n",
       "      <td>Menos que 50 anos</td>\n",
       "    </tr>\n",
       "    <tr>\n",
       "      <th>35</th>\n",
       "      <td>CIEL3</td>\n",
       "      <td>2024-01-26</td>\n",
       "      <td>4.90</td>\n",
       "      <td>0.82</td>\n",
       "      <td>0.01</td>\n",
       "      <td>4.86</td>\n",
       "      <td>1095462329</td>\n",
       "      <td>43657683.38</td>\n",
       "      <td>Subiu</td>\n",
       "      <td>Cielo</td>\n",
       "      <td>Pagamentos Eletrônicos</td>\n",
       "      <td>24</td>\n",
       "      <td>Menos que 50 anos</td>\n",
       "    </tr>\n",
       "    <tr>\n",
       "      <th>36</th>\n",
       "      <td>DXCO3</td>\n",
       "      <td>2024-01-26</td>\n",
       "      <td>7.81</td>\n",
       "      <td>0.77</td>\n",
       "      <td>0.01</td>\n",
       "      <td>7.75</td>\n",
       "      <td>302768240</td>\n",
       "      <td>18068446.61</td>\n",
       "      <td>Subiu</td>\n",
       "      <td>Dexco</td>\n",
       "      <td>Siderurgia</td>\n",
       "      <td>19</td>\n",
       "      <td>Menos que 50 anos</td>\n",
       "    </tr>\n",
       "    <tr>\n",
       "      <th>37</th>\n",
       "      <td>TIMS3</td>\n",
       "      <td>2024-01-26</td>\n",
       "      <td>17.52</td>\n",
       "      <td>0.74</td>\n",
       "      <td>0.01</td>\n",
       "      <td>17.39</td>\n",
       "      <td>807896814</td>\n",
       "      <td>103972807.37</td>\n",
       "      <td>Subiu</td>\n",
       "      <td>TIM</td>\n",
       "      <td>Telecomunicações</td>\n",
       "      <td>33</td>\n",
       "      <td>Menos que 50 anos</td>\n",
       "    </tr>\n",
       "    <tr>\n",
       "      <th>38</th>\n",
       "      <td>BRAP4</td>\n",
       "      <td>2024-01-26</td>\n",
       "      <td>23.22</td>\n",
       "      <td>0.73</td>\n",
       "      <td>0.01</td>\n",
       "      <td>23.05</td>\n",
       "      <td>251003438</td>\n",
       "      <td>42238249.54</td>\n",
       "      <td>Subiu</td>\n",
       "      <td>Bradespar</td>\n",
       "      <td>Participações</td>\n",
       "      <td>113</td>\n",
       "      <td>Mais que 100 anos</td>\n",
       "    </tr>\n",
       "    <tr>\n",
       "      <th>39</th>\n",
       "      <td>LWSA3</td>\n",
       "      <td>2024-01-26</td>\n",
       "      <td>5.55</td>\n",
       "      <td>0.72</td>\n",
       "      <td>0.01</td>\n",
       "      <td>5.51</td>\n",
       "      <td>393173139</td>\n",
       "      <td>15598886.65</td>\n",
       "      <td>Subiu</td>\n",
       "      <td>Locaweb</td>\n",
       "      <td>Serviços de Internet</td>\n",
       "      <td>26</td>\n",
       "      <td>Menos que 50 anos</td>\n",
       "    </tr>\n",
       "    <tr>\n",
       "      <th>40</th>\n",
       "      <td>RECV3</td>\n",
       "      <td>2024-01-26</td>\n",
       "      <td>23.83</td>\n",
       "      <td>0.71</td>\n",
       "      <td>0.01</td>\n",
       "      <td>23.66</td>\n",
       "      <td>275005663</td>\n",
       "      <td>46201006.00</td>\n",
       "      <td>Subiu</td>\n",
       "      <td>PetroRecôncavo</td>\n",
       "      <td>Petróleo e Gás</td>\n",
       "      <td>7</td>\n",
       "      <td>Menos que 50 anos</td>\n",
       "    </tr>\n",
       "    <tr>\n",
       "      <th>41</th>\n",
       "      <td>ITSA4</td>\n",
       "      <td>2024-01-26</td>\n",
       "      <td>10.01</td>\n",
       "      <td>0.70</td>\n",
       "      <td>0.01</td>\n",
       "      <td>9.94</td>\n",
       "      <td>-2147483648</td>\n",
       "      <td>373853994.88</td>\n",
       "      <td>Subiu</td>\n",
       "      <td>Itaúsa</td>\n",
       "      <td>Participações</td>\n",
       "      <td>64</td>\n",
       "      <td>Entre 50 a 100 anos</td>\n",
       "    </tr>\n",
       "    <tr>\n",
       "      <th>42</th>\n",
       "      <td>BBAS3</td>\n",
       "      <td>2024-01-26</td>\n",
       "      <td>56.97</td>\n",
       "      <td>0.68</td>\n",
       "      <td>0.01</td>\n",
       "      <td>56.59</td>\n",
       "      <td>1420949112</td>\n",
       "      <td>546752087.99</td>\n",
       "      <td>Subiu</td>\n",
       "      <td>Banco do Brasil</td>\n",
       "      <td>Banco</td>\n",
       "      <td>213</td>\n",
       "      <td>Mais que 100 anos</td>\n",
       "    </tr>\n",
       "    <tr>\n",
       "      <th>43</th>\n",
       "      <td>RADL3</td>\n",
       "      <td>2024-01-26</td>\n",
       "      <td>26.16</td>\n",
       "      <td>0.61</td>\n",
       "      <td>0.01</td>\n",
       "      <td>26.00</td>\n",
       "      <td>1275798515</td>\n",
       "      <td>202352473.74</td>\n",
       "      <td>Subiu</td>\n",
       "      <td>RaiaDrogasil</td>\n",
       "      <td>Varejo Farmacêutico</td>\n",
       "      <td>10</td>\n",
       "      <td>Menos que 50 anos</td>\n",
       "    </tr>\n",
       "    <tr>\n",
       "      <th>44</th>\n",
       "      <td>GOAU4</td>\n",
       "      <td>2024-01-26</td>\n",
       "      <td>10.08</td>\n",
       "      <td>0.59</td>\n",
       "      <td>0.01</td>\n",
       "      <td>10.02</td>\n",
       "      <td>660411219</td>\n",
       "      <td>39045606.94</td>\n",
       "      <td>Subiu</td>\n",
       "      <td>Metalúrgica Gerdau</td>\n",
       "      <td>Siderurgia</td>\n",
       "      <td>124</td>\n",
       "      <td>Mais que 100 anos</td>\n",
       "    </tr>\n",
       "    <tr>\n",
       "      <th>45</th>\n",
       "      <td>CSAN3</td>\n",
       "      <td>2024-01-26</td>\n",
       "      <td>18.57</td>\n",
       "      <td>0.59</td>\n",
       "      <td>0.01</td>\n",
       "      <td>18.46</td>\n",
       "      <td>1168097881</td>\n",
       "      <td>127229653.18</td>\n",
       "      <td>Subiu</td>\n",
       "      <td>Cosan</td>\n",
       "      <td>Conglomerado</td>\n",
       "      <td>94</td>\n",
       "      <td>Entre 50 a 100 anos</td>\n",
       "    </tr>\n",
       "    <tr>\n",
       "      <th>46</th>\n",
       "      <td>JBSS3</td>\n",
       "      <td>2024-01-26</td>\n",
       "      <td>24.34</td>\n",
       "      <td>0.57</td>\n",
       "      <td>0.01</td>\n",
       "      <td>24.20</td>\n",
       "      <td>1134986472</td>\n",
       "      <td>156573285.43</td>\n",
       "      <td>Subiu</td>\n",
       "      <td>JBS</td>\n",
       "      <td>Alimentação</td>\n",
       "      <td>67</td>\n",
       "      <td>Entre 50 a 100 anos</td>\n",
       "    </tr>\n",
       "    <tr>\n",
       "      <th>47</th>\n",
       "      <td>MGLU3</td>\n",
       "      <td>2024-01-26</td>\n",
       "      <td>2.08</td>\n",
       "      <td>0.48</td>\n",
       "      <td>0.00</td>\n",
       "      <td>2.07</td>\n",
       "      <td>-2147483648</td>\n",
       "      <td>28493619.27</td>\n",
       "      <td>Subiu</td>\n",
       "      <td>Magazine Luiza</td>\n",
       "      <td>Varejo de Eletrodomésticos</td>\n",
       "      <td>68</td>\n",
       "      <td>Entre 50 a 100 anos</td>\n",
       "    </tr>\n",
       "    <tr>\n",
       "      <th>48</th>\n",
       "      <td>BBDC3</td>\n",
       "      <td>2024-01-26</td>\n",
       "      <td>13.75</td>\n",
       "      <td>0.36</td>\n",
       "      <td>0.00</td>\n",
       "      <td>13.70</td>\n",
       "      <td>1500728902</td>\n",
       "      <td>74019610.05</td>\n",
       "      <td>Subiu</td>\n",
       "      <td>Banco Bradesco</td>\n",
       "      <td>Banco</td>\n",
       "      <td>124</td>\n",
       "      <td>Mais que 100 anos</td>\n",
       "    </tr>\n",
       "    <tr>\n",
       "      <th>49</th>\n",
       "      <td>BBDC3</td>\n",
       "      <td>2024-01-26</td>\n",
       "      <td>13.75</td>\n",
       "      <td>0.36</td>\n",
       "      <td>0.00</td>\n",
       "      <td>13.70</td>\n",
       "      <td>1500728902</td>\n",
       "      <td>74019610.05</td>\n",
       "      <td>Subiu</td>\n",
       "      <td>Banco Bradesco</td>\n",
       "      <td>Banco</td>\n",
       "      <td>124</td>\n",
       "      <td>Mais que 100 anos</td>\n",
       "    </tr>\n",
       "    <tr>\n",
       "      <th>50</th>\n",
       "      <td>BBDC3</td>\n",
       "      <td>2024-01-26</td>\n",
       "      <td>13.75</td>\n",
       "      <td>0.36</td>\n",
       "      <td>0.00</td>\n",
       "      <td>13.70</td>\n",
       "      <td>1500728902</td>\n",
       "      <td>74019610.05</td>\n",
       "      <td>Subiu</td>\n",
       "      <td>Banco Bradesco</td>\n",
       "      <td>Banco</td>\n",
       "      <td>124</td>\n",
       "      <td>Mais que 100 anos</td>\n",
       "    </tr>\n",
       "    <tr>\n",
       "      <th>51</th>\n",
       "      <td>BBDC3</td>\n",
       "      <td>2024-01-26</td>\n",
       "      <td>13.75</td>\n",
       "      <td>0.36</td>\n",
       "      <td>0.00</td>\n",
       "      <td>13.70</td>\n",
       "      <td>1500728902</td>\n",
       "      <td>74019610.05</td>\n",
       "      <td>Subiu</td>\n",
       "      <td>Banco Bradesco</td>\n",
       "      <td>Banco</td>\n",
       "      <td>124</td>\n",
       "      <td>Mais que 100 anos</td>\n",
       "    </tr>\n",
       "    <tr>\n",
       "      <th>52</th>\n",
       "      <td>GGBR4</td>\n",
       "      <td>2024-01-26</td>\n",
       "      <td>21.84</td>\n",
       "      <td>0.27</td>\n",
       "      <td>0.00</td>\n",
       "      <td>21.78</td>\n",
       "      <td>1118525506</td>\n",
       "      <td>65779607.10</td>\n",
       "      <td>Subiu</td>\n",
       "      <td>Gerdau</td>\n",
       "      <td>Siderurgia</td>\n",
       "      <td>124</td>\n",
       "      <td>Mais que 100 anos</td>\n",
       "    </tr>\n",
       "    <tr>\n",
       "      <th>53</th>\n",
       "      <td>RAIZ4</td>\n",
       "      <td>2024-01-26</td>\n",
       "      <td>3.74</td>\n",
       "      <td>0.26</td>\n",
       "      <td>0.00</td>\n",
       "      <td>3.73</td>\n",
       "      <td>1193047233</td>\n",
       "      <td>11571106.42</td>\n",
       "      <td>Subiu</td>\n",
       "      <td>Raízen</td>\n",
       "      <td>Energia</td>\n",
       "      <td>11</td>\n",
       "      <td>Menos que 50 anos</td>\n",
       "    </tr>\n",
       "    <tr>\n",
       "      <th>54</th>\n",
       "      <td>CPLE6</td>\n",
       "      <td>2024-01-26</td>\n",
       "      <td>10.07</td>\n",
       "      <td>0.19</td>\n",
       "      <td>0.00</td>\n",
       "      <td>10.05</td>\n",
       "      <td>1679335290</td>\n",
       "      <td>32069789.50</td>\n",
       "      <td>Subiu</td>\n",
       "      <td>Copel</td>\n",
       "      <td>Energia Elétrica</td>\n",
       "      <td>78</td>\n",
       "      <td>Entre 50 a 100 anos</td>\n",
       "    </tr>\n",
       "    <tr>\n",
       "      <th>55</th>\n",
       "      <td>VAMO3</td>\n",
       "      <td>2024-01-26</td>\n",
       "      <td>8.18</td>\n",
       "      <td>0.12</td>\n",
       "      <td>0.00</td>\n",
       "      <td>8.17</td>\n",
       "      <td>421383330</td>\n",
       "      <td>4131341.16</td>\n",
       "      <td>Subiu</td>\n",
       "      <td>Grupo Vamos</td>\n",
       "      <td>Varejo</td>\n",
       "      <td>49</td>\n",
       "      <td>Menos que 50 anos</td>\n",
       "    </tr>\n",
       "  </tbody>\n",
       "</table>\n",
       "</div>"
      ],
      "text/plain": [
       "    Ativo       Data  Valor_final  Var_diaria_pct  Var_diaria  Valor_inicial  \\\n",
       "0   USIM5 2024-01-26         9.50            5.20        0.05           9.03   \n",
       "1   CMIN3 2024-01-26         6.82            2.40        0.02           6.66   \n",
       "2   PETR3 2024-01-26        41.96            2.19        0.02          41.06   \n",
       "3   PETR3 2024-01-26        41.96            2.19        0.02          41.06   \n",
       "4   PETR3 2024-01-26        41.96            2.19        0.02          41.06   \n",
       "5   PETR3 2024-01-26        41.96            2.19        0.02          41.06   \n",
       "6   SUZB3 2024-01-26        52.91            2.04        0.02          51.85   \n",
       "7   CPFE3 2024-01-26        37.10            2.03        0.02          36.36   \n",
       "8   PRIO3 2024-01-26        45.69            1.98        0.02          44.80   \n",
       "9   PETR4 2024-01-26        39.96            1.73        0.02          39.28   \n",
       "10  PETR4 2024-01-26        39.96            1.73        0.02          39.28   \n",
       "11  PETR4 2024-01-26        39.96            1.73        0.02          39.28   \n",
       "12  PETR4 2024-01-26        39.96            1.73        0.02          39.28   \n",
       "13  VALE3 2024-01-26        69.50            1.66        0.02          68.37   \n",
       "14  MULT3 2024-01-26        28.19            1.58        0.02          27.75   \n",
       "15  ITUB4 2024-01-26        32.81            1.48        0.01          32.33   \n",
       "16  RDOR3 2024-01-26        27.56            1.43        0.01          27.17   \n",
       "17  BRKM5 2024-01-26        18.55            1.42        0.01          18.29   \n",
       "18  AZUL4 2024-01-26        14.27            1.42        0.01          14.07   \n",
       "19  RRRP3 2024-01-26        28.75            1.41        0.01          28.35   \n",
       "20  EQTL3 2024-01-26        35.32            1.34        0.01          34.85   \n",
       "21  CSNA3 2024-01-26        18.16            1.33        0.01          17.92   \n",
       "22  YDUQ3 2024-01-26        19.77            1.28        0.01          19.52   \n",
       "23  UGPA3 2024-01-26        28.31            1.28        0.01          27.95   \n",
       "24  MRVE3 2024-01-26         8.08            1.25        0.01           7.98   \n",
       "25  ARZZ3 2024-01-26        57.91            1.15        0.01          57.25   \n",
       "26  BBDC4 2024-01-26        15.52            1.04        0.01          15.36   \n",
       "27  BBDC4 2024-01-26        15.52            1.04        0.01          15.36   \n",
       "28  BBDC4 2024-01-26        15.52            1.04        0.01          15.36   \n",
       "29  BBDC4 2024-01-26        15.52            1.04        0.01          15.36   \n",
       "30  BEEF3 2024-01-26         7.19            0.98        0.01           7.12   \n",
       "31  PCAR3 2024-01-26         4.14            0.97        0.01           4.10   \n",
       "32  BRFS3 2024-01-26        14.61            0.96        0.01          14.47   \n",
       "33  VIVT3 2024-01-26        51.20            0.88        0.01          50.75   \n",
       "34  RAIL3 2024-01-26        22.64            0.84        0.01          22.45   \n",
       "35  CIEL3 2024-01-26         4.90            0.82        0.01           4.86   \n",
       "36  DXCO3 2024-01-26         7.81            0.77        0.01           7.75   \n",
       "37  TIMS3 2024-01-26        17.52            0.74        0.01          17.39   \n",
       "38  BRAP4 2024-01-26        23.22            0.73        0.01          23.05   \n",
       "39  LWSA3 2024-01-26         5.55            0.72        0.01           5.51   \n",
       "40  RECV3 2024-01-26        23.83            0.71        0.01          23.66   \n",
       "41  ITSA4 2024-01-26        10.01            0.70        0.01           9.94   \n",
       "42  BBAS3 2024-01-26        56.97            0.68        0.01          56.59   \n",
       "43  RADL3 2024-01-26        26.16            0.61        0.01          26.00   \n",
       "44  GOAU4 2024-01-26        10.08            0.59        0.01          10.02   \n",
       "45  CSAN3 2024-01-26        18.57            0.59        0.01          18.46   \n",
       "46  JBSS3 2024-01-26        24.34            0.57        0.01          24.20   \n",
       "47  MGLU3 2024-01-26         2.08            0.48        0.00           2.07   \n",
       "48  BBDC3 2024-01-26        13.75            0.36        0.00          13.70   \n",
       "49  BBDC3 2024-01-26        13.75            0.36        0.00          13.70   \n",
       "50  BBDC3 2024-01-26        13.75            0.36        0.00          13.70   \n",
       "51  BBDC3 2024-01-26        13.75            0.36        0.00          13.70   \n",
       "52  GGBR4 2024-01-26        21.84            0.27        0.00          21.78   \n",
       "53  RAIZ4 2024-01-26         3.74            0.26        0.00           3.73   \n",
       "54  CPLE6 2024-01-26        10.07            0.19        0.00          10.05   \n",
       "55  VAMO3 2024-01-26         8.18            0.12        0.00           8.17   \n",
       "\n",
       "    Quantidade_teorica   Variacao_RS Status                  Nome  \\\n",
       "0            515117391  241889725.43  Subiu              Usiminas   \n",
       "1           1110559345  177515970.30  Subiu         CSN Mineração   \n",
       "2          -2147483648 2140059393.53  Subiu             Petrobras   \n",
       "3          -2147483648 2140059393.53  Subiu             Petrobras   \n",
       "4          -2147483648 2140059393.53  Subiu             Petrobras   \n",
       "5          -2147483648 2140059393.53  Subiu             Petrobras   \n",
       "6            683452836  722946282.71  Subiu                Suzano   \n",
       "7            187732538  138573955.06  Subiu          CPFL Energia   \n",
       "8            800010734  709687498.18  Subiu              PetroRio   \n",
       "9          -2147483648 3103136291.22  Subiu             Petrobras   \n",
       "10         -2147483648 3103136291.22  Subiu             Petrobras   \n",
       "11         -2147483648 3103136291.22  Subiu             Petrobras   \n",
       "12         -2147483648 3103136291.22  Subiu             Petrobras   \n",
       "13         -2147483648 4762926995.25  Subiu                  Vale   \n",
       "14           268505432  117732680.08  Subiu             Multiplan   \n",
       "15         -2147483648 2297591984.33  Subiu         Itaú Unibanco   \n",
       "16          1168230366  453917907.01  Subiu             Rede D'Or   \n",
       "17           265877867   69054317.64  Subiu               Braskem   \n",
       "18           327593725   65452205.55  Subiu                  Azul   \n",
       "19           235665566   94204643.35  Subiu          3R Petroleum   \n",
       "20          1095587251  511671895.45  Subiu    Equatorial Energia   \n",
       "21           600865451  143220991.46  Subiu  Siderúrgica Nacional   \n",
       "22           289347914   72295838.99  Subiu                 YDUQS   \n",
       "23          1086411192  388705223.96  Subiu              Ultrapar   \n",
       "24           376187582   37525872.38  Subiu                   MRV   \n",
       "25            62305891   41021792.09  Subiu                Arezzo   \n",
       "26         -2147483648  822148336.41  Subiu        Banco Bradesco   \n",
       "27         -2147483648  822148336.41  Subiu        Banco Bradesco   \n",
       "28         -2147483648  822148336.41  Subiu        Banco Bradesco   \n",
       "29         -2147483648  822148336.41  Subiu        Banco Bradesco   \n",
       "30           261036182   18214628.10  Subiu               Minerva   \n",
       "31           159430826    6340916.22  Subiu   Grupo Pão de Açúcar   \n",
       "32          1677525446  233045769.57  Subiu                   BRF   \n",
       "33           423091712  188965307.06  Subiu                  Vivo   \n",
       "34          1218352541  229771333.63  Subiu                  Rumo   \n",
       "35          1095462329   43657683.38  Subiu                 Cielo   \n",
       "36           302768240   18068446.61  Subiu                 Dexco   \n",
       "37           807896814  103972807.37  Subiu                   TIM   \n",
       "38           251003438   42238249.54  Subiu             Bradespar   \n",
       "39           393173139   15598886.65  Subiu               Locaweb   \n",
       "40           275005663   46201006.00  Subiu        PetroRecôncavo   \n",
       "41         -2147483648  373853994.88  Subiu                Itaúsa   \n",
       "42          1420949112  546752087.99  Subiu       Banco do Brasil   \n",
       "43          1275798515  202352473.74  Subiu          RaiaDrogasil   \n",
       "44           660411219   39045606.94  Subiu    Metalúrgica Gerdau   \n",
       "45          1168097881  127229653.18  Subiu                 Cosan   \n",
       "46          1134986472  156573285.43  Subiu                   JBS   \n",
       "47         -2147483648   28493619.27  Subiu        Magazine Luiza   \n",
       "48          1500728902   74019610.05  Subiu        Banco Bradesco   \n",
       "49          1500728902   74019610.05  Subiu        Banco Bradesco   \n",
       "50          1500728902   74019610.05  Subiu        Banco Bradesco   \n",
       "51          1500728902   74019610.05  Subiu        Banco Bradesco   \n",
       "52          1118525506   65779607.10  Subiu                Gerdau   \n",
       "53          1193047233   11571106.42  Subiu                Raízen   \n",
       "54          1679335290   32069789.50  Subiu                 Copel   \n",
       "55           421383330    4131341.16  Subiu           Grupo Vamos   \n",
       "\n",
       "                         Segmento  Idade       Faixa de Idade  \n",
       "0                      Siderurgia     65  Entre 50 a 100 anos  \n",
       "1                       Mineração     52  Entre 50 a 100 anos  \n",
       "2                  Petróleo e Gás     72  Entre 50 a 100 anos  \n",
       "3                  Petróleo e Gás     72  Entre 50 a 100 anos  \n",
       "4                  Petróleo e Gás     72  Entre 50 a 100 anos  \n",
       "5                  Petróleo e Gás     72  Entre 50 a 100 anos  \n",
       "6                Papel e Celulose     94  Entre 50 a 100 anos  \n",
       "7                Energia Elétrica    113    Mais que 100 anos  \n",
       "8                  Petróleo e Gás     23    Menos que 50 anos  \n",
       "9                  Petróleo e Gás     72  Entre 50 a 100 anos  \n",
       "10                 Petróleo e Gás     72  Entre 50 a 100 anos  \n",
       "11                 Petróleo e Gás     72  Entre 50 a 100 anos  \n",
       "12                 Petróleo e Gás     72  Entre 50 a 100 anos  \n",
       "13                      Mineração     90  Entre 50 a 100 anos  \n",
       "14               Shopping Centers     44    Menos que 50 anos  \n",
       "15                          Banco     25    Menos que 50 anos  \n",
       "16                          Saúde     27    Menos que 50 anos  \n",
       "17                   Petroquímica     20    Menos que 50 anos  \n",
       "18                        Aviação     15    Menos que 50 anos  \n",
       "19                 Petróleo e Gás     12    Menos que 50 anos  \n",
       "20               Energia Elétrica    105    Mais que 100 anos  \n",
       "21                     Siderurgia     77  Entre 50 a 100 anos  \n",
       "22                       Educação     52  Entre 50 a 100 anos  \n",
       "23  Distribuidora de Combustíveis     98  Entre 50 a 100 anos  \n",
       "24               Construção Civil     42    Menos que 50 anos  \n",
       "25             Varejo de Calçados     47    Menos que 50 anos  \n",
       "26                          Banco    124    Mais que 100 anos  \n",
       "27                          Banco    124    Mais que 100 anos  \n",
       "28                          Banco    124    Mais que 100 anos  \n",
       "29                          Banco    124    Mais que 100 anos  \n",
       "30                    Alimentação     53  Entre 50 a 100 anos  \n",
       "31             Varejo Alimentício     77  Entre 50 a 100 anos  \n",
       "32                    Alimentação     12    Menos que 50 anos  \n",
       "33               Telecomunicações     33    Menos que 50 anos  \n",
       "34                      Logística     24    Menos que 50 anos  \n",
       "35         Pagamentos Eletrônicos     24    Menos que 50 anos  \n",
       "36                     Siderurgia     19    Menos que 50 anos  \n",
       "37               Telecomunicações     33    Menos que 50 anos  \n",
       "38                  Participações    113    Mais que 100 anos  \n",
       "39           Serviços de Internet     26    Menos que 50 anos  \n",
       "40                 Petróleo e Gás      7    Menos que 50 anos  \n",
       "41                  Participações     64  Entre 50 a 100 anos  \n",
       "42                          Banco    213    Mais que 100 anos  \n",
       "43            Varejo Farmacêutico     10    Menos que 50 anos  \n",
       "44                     Siderurgia    124    Mais que 100 anos  \n",
       "45                   Conglomerado     94  Entre 50 a 100 anos  \n",
       "46                    Alimentação     67  Entre 50 a 100 anos  \n",
       "47     Varejo de Eletrodomésticos     68  Entre 50 a 100 anos  \n",
       "48                          Banco    124    Mais que 100 anos  \n",
       "49                          Banco    124    Mais que 100 anos  \n",
       "50                          Banco    124    Mais que 100 anos  \n",
       "51                          Banco    124    Mais que 100 anos  \n",
       "52                     Siderurgia    124    Mais que 100 anos  \n",
       "53                        Energia     11    Menos que 50 anos  \n",
       "54               Energia Elétrica     78  Entre 50 a 100 anos  \n",
       "55                         Varejo     49    Menos que 50 anos  "
      ]
     },
     "execution_count": 21,
     "metadata": {},
     "output_type": "execute_result"
    }
   ],
   "source": [
    "## criando dataframe somente para os valores que subiram\n",
    "\n",
    "df_principal_subiu = df_principal[df_principal['Status'] == 'Subiu']\n",
    "df_principal_subiu"
   ]
  },
  {
   "cell_type": "code",
   "execution_count": 22,
   "metadata": {},
   "outputs": [
    {
     "data": {
      "text/plain": [
       "681023533.9956949"
      ]
     },
     "execution_count": 22,
     "metadata": {},
     "output_type": "execute_result"
    }
   ],
   "source": [
    "df_principal_subiu['Variacao_RS'].mean()"
   ]
  },
  {
   "cell_type": "code",
   "execution_count": 23,
   "metadata": {},
   "outputs": [
    {
     "data": {
      "text/html": [
       "<div>\n",
       "<style scoped>\n",
       "    .dataframe tbody tr th:only-of-type {\n",
       "        vertical-align: middle;\n",
       "    }\n",
       "\n",
       "    .dataframe tbody tr th {\n",
       "        vertical-align: top;\n",
       "    }\n",
       "\n",
       "    .dataframe thead th {\n",
       "        text-align: right;\n",
       "    }\n",
       "</style>\n",
       "<table border=\"1\" class=\"dataframe\">\n",
       "  <thead>\n",
       "    <tr style=\"text-align: right;\">\n",
       "      <th></th>\n",
       "      <th>Segmento</th>\n",
       "      <th>Variacao_RS</th>\n",
       "    </tr>\n",
       "  </thead>\n",
       "  <tbody>\n",
       "    <tr>\n",
       "      <th>0</th>\n",
       "      <td>Alimentação</td>\n",
       "      <td>407833683.09</td>\n",
       "    </tr>\n",
       "    <tr>\n",
       "      <th>1</th>\n",
       "      <td>Aviação</td>\n",
       "      <td>65452205.55</td>\n",
       "    </tr>\n",
       "    <tr>\n",
       "      <th>2</th>\n",
       "      <td>Banco</td>\n",
       "      <td>6429015858.18</td>\n",
       "    </tr>\n",
       "    <tr>\n",
       "      <th>3</th>\n",
       "      <td>Conglomerado</td>\n",
       "      <td>127229653.18</td>\n",
       "    </tr>\n",
       "    <tr>\n",
       "      <th>4</th>\n",
       "      <td>Construção Civil</td>\n",
       "      <td>37525872.38</td>\n",
       "    </tr>\n",
       "  </tbody>\n",
       "</table>\n",
       "</div>"
      ],
      "text/plain": [
       "           Segmento   Variacao_RS\n",
       "0       Alimentação  407833683.09\n",
       "1           Aviação   65452205.55\n",
       "2             Banco 6429015858.18\n",
       "3      Conglomerado  127229653.18\n",
       "4  Construção Civil   37525872.38"
      ]
     },
     "execution_count": 23,
     "metadata": {},
     "output_type": "execute_result"
    }
   ],
   "source": [
    "## criando  novo dataframe para agrupar a variação de cada segmento\n",
    "\n",
    "df_analise_segmento = df_principal_subiu.groupby('Segmento')['Variacao_RS'].sum().reset_index()\n",
    "df_analise_segmento.head()"
   ]
  },
  {
   "cell_type": "code",
   "execution_count": 24,
   "metadata": {},
   "outputs": [
    {
     "data": {
      "text/html": [
       "<div>\n",
       "<style scoped>\n",
       "    .dataframe tbody tr th:only-of-type {\n",
       "        vertical-align: middle;\n",
       "    }\n",
       "\n",
       "    .dataframe tbody tr th {\n",
       "        vertical-align: top;\n",
       "    }\n",
       "\n",
       "    .dataframe thead th {\n",
       "        text-align: right;\n",
       "    }\n",
       "</style>\n",
       "<table border=\"1\" class=\"dataframe\">\n",
       "  <thead>\n",
       "    <tr style=\"text-align: right;\">\n",
       "      <th></th>\n",
       "      <th>Status</th>\n",
       "      <th>Variacao_RS</th>\n",
       "    </tr>\n",
       "  </thead>\n",
       "  <tbody>\n",
       "    <tr>\n",
       "      <th>0</th>\n",
       "      <td>Desceu</td>\n",
       "      <td>-6338819961.32</td>\n",
       "    </tr>\n",
       "    <tr>\n",
       "      <th>1</th>\n",
       "      <td>Estável</td>\n",
       "      <td>0.00</td>\n",
       "    </tr>\n",
       "    <tr>\n",
       "      <th>2</th>\n",
       "      <td>Subiu</td>\n",
       "      <td>38137317903.76</td>\n",
       "    </tr>\n",
       "  </tbody>\n",
       "</table>\n",
       "</div>"
      ],
      "text/plain": [
       "    Status    Variacao_RS\n",
       "0   Desceu -6338819961.32\n",
       "1  Estável           0.00\n",
       "2    Subiu 38137317903.76"
      ]
     },
     "execution_count": 24,
     "metadata": {},
     "output_type": "execute_result"
    }
   ],
   "source": [
    "## criando  novo dataframe para agrupar a variação por resultado\n",
    "\n",
    "df_analise_saldo = df_principal.groupby('Status')['Variacao_RS'].sum().reset_index()\n",
    "df_analise_saldo.head()"
   ]
  },
  {
   "cell_type": "code",
   "execution_count": 25,
   "metadata": {},
   "outputs": [
    {
     "data": {
      "text/html": [
       "<div>\n",
       "<style scoped>\n",
       "    .dataframe tbody tr th:only-of-type {\n",
       "        vertical-align: middle;\n",
       "    }\n",
       "\n",
       "    .dataframe tbody tr th {\n",
       "        vertical-align: top;\n",
       "    }\n",
       "\n",
       "    .dataframe thead th {\n",
       "        text-align: right;\n",
       "    }\n",
       "</style>\n",
       "<table border=\"1\" class=\"dataframe\">\n",
       "  <thead>\n",
       "    <tr style=\"text-align: right;\">\n",
       "      <th></th>\n",
       "      <th>Analise</th>\n",
       "      <th>Variacao</th>\n",
       "      <th>Quantidade de Empresas</th>\n",
       "    </tr>\n",
       "  </thead>\n",
       "  <tbody>\n",
       "    <tr>\n",
       "      <th>0</th>\n",
       "      <td>Entre 50 a 100 anos</td>\n",
       "      <td>24424344888.64</td>\n",
       "      <td>38</td>\n",
       "    </tr>\n",
       "    <tr>\n",
       "      <th>1</th>\n",
       "      <td>Mais que 100 anos</td>\n",
       "      <td>3577489013.52</td>\n",
       "      <td>19</td>\n",
       "    </tr>\n",
       "    <tr>\n",
       "      <th>2</th>\n",
       "      <td>Menos que 50 anos</td>\n",
       "      <td>3796664040.28</td>\n",
       "      <td>36</td>\n",
       "    </tr>\n",
       "  </tbody>\n",
       "</table>\n",
       "</div>"
      ],
      "text/plain": [
       "               Analise       Variacao  Quantidade de Empresas\n",
       "0  Entre 50 a 100 anos 24424344888.64                      38\n",
       "1    Mais que 100 anos  3577489013.52                      19\n",
       "2    Menos que 50 anos  3796664040.28                      36"
      ]
     },
     "execution_count": 25,
     "metadata": {},
     "output_type": "execute_result"
    }
   ],
   "source": [
    "## criando  novo dataframe para agrupar a variação por faixa etaria\n",
    "\n",
    "df_analise_saldo2 = df_principal.groupby('Faixa de Idade').agg({'Variacao_RS': ['sum', 'count']}).reset_index()\n",
    "df_analise_saldo2.columns = ['Analise', 'Variacao', 'Quantidade de Empresas']\n",
    "df_analise_saldo2.head()"
   ]
  },
  {
   "cell_type": "code",
   "execution_count": null,
   "metadata": {},
   "outputs": [],
   "source": []
  },
  {
   "cell_type": "markdown",
   "metadata": {},
   "source": [
    "### Criando representações graficas "
   ]
  },
  {
   "cell_type": "code",
   "execution_count": 27,
   "metadata": {},
   "outputs": [
    {
     "data": {
      "application/vnd.plotly.v1+json": {
       "config": {
        "plotlyServerURL": "https://plot.ly"
       },
       "data": [
        {
         "alignmentgroup": "True",
         "hovertemplate": "Status=%{x}<br>Variacao_RS=%{text}<extra></extra>",
         "legendgroup": "",
         "marker": {
          "color": "#636efa",
          "pattern": {
           "shape": ""
          }
         },
         "name": "",
         "offsetgroup": "",
         "orientation": "v",
         "showlegend": false,
         "text": [
          -6338819961.31535,
          0,
          38137317903.75892
         ],
         "textposition": "inside",
         "texttemplate": "R$ %{text:,.2f}",
         "type": "bar",
         "x": [
          "Desceu",
          "Estável",
          "Subiu"
         ],
         "xaxis": "x",
         "y": [
          -6338819961.31535,
          0,
          38137317903.75892
         ],
         "yaxis": "y"
        }
       ],
       "layout": {
        "barmode": "relative",
        "legend": {
         "tracegroupgap": 0
        },
        "template": {
         "data": {
          "bar": [
           {
            "error_x": {
             "color": "#2a3f5f"
            },
            "error_y": {
             "color": "#2a3f5f"
            },
            "marker": {
             "line": {
              "color": "#E5ECF6",
              "width": 0.5
             },
             "pattern": {
              "fillmode": "overlay",
              "size": 10,
              "solidity": 0.2
             }
            },
            "type": "bar"
           }
          ],
          "barpolar": [
           {
            "marker": {
             "line": {
              "color": "#E5ECF6",
              "width": 0.5
             },
             "pattern": {
              "fillmode": "overlay",
              "size": 10,
              "solidity": 0.2
             }
            },
            "type": "barpolar"
           }
          ],
          "carpet": [
           {
            "aaxis": {
             "endlinecolor": "#2a3f5f",
             "gridcolor": "white",
             "linecolor": "white",
             "minorgridcolor": "white",
             "startlinecolor": "#2a3f5f"
            },
            "baxis": {
             "endlinecolor": "#2a3f5f",
             "gridcolor": "white",
             "linecolor": "white",
             "minorgridcolor": "white",
             "startlinecolor": "#2a3f5f"
            },
            "type": "carpet"
           }
          ],
          "choropleth": [
           {
            "colorbar": {
             "outlinewidth": 0,
             "ticks": ""
            },
            "type": "choropleth"
           }
          ],
          "contour": [
           {
            "colorbar": {
             "outlinewidth": 0,
             "ticks": ""
            },
            "colorscale": [
             [
              0,
              "#0d0887"
             ],
             [
              0.1111111111111111,
              "#46039f"
             ],
             [
              0.2222222222222222,
              "#7201a8"
             ],
             [
              0.3333333333333333,
              "#9c179e"
             ],
             [
              0.4444444444444444,
              "#bd3786"
             ],
             [
              0.5555555555555556,
              "#d8576b"
             ],
             [
              0.6666666666666666,
              "#ed7953"
             ],
             [
              0.7777777777777778,
              "#fb9f3a"
             ],
             [
              0.8888888888888888,
              "#fdca26"
             ],
             [
              1,
              "#f0f921"
             ]
            ],
            "type": "contour"
           }
          ],
          "contourcarpet": [
           {
            "colorbar": {
             "outlinewidth": 0,
             "ticks": ""
            },
            "type": "contourcarpet"
           }
          ],
          "heatmap": [
           {
            "colorbar": {
             "outlinewidth": 0,
             "ticks": ""
            },
            "colorscale": [
             [
              0,
              "#0d0887"
             ],
             [
              0.1111111111111111,
              "#46039f"
             ],
             [
              0.2222222222222222,
              "#7201a8"
             ],
             [
              0.3333333333333333,
              "#9c179e"
             ],
             [
              0.4444444444444444,
              "#bd3786"
             ],
             [
              0.5555555555555556,
              "#d8576b"
             ],
             [
              0.6666666666666666,
              "#ed7953"
             ],
             [
              0.7777777777777778,
              "#fb9f3a"
             ],
             [
              0.8888888888888888,
              "#fdca26"
             ],
             [
              1,
              "#f0f921"
             ]
            ],
            "type": "heatmap"
           }
          ],
          "heatmapgl": [
           {
            "colorbar": {
             "outlinewidth": 0,
             "ticks": ""
            },
            "colorscale": [
             [
              0,
              "#0d0887"
             ],
             [
              0.1111111111111111,
              "#46039f"
             ],
             [
              0.2222222222222222,
              "#7201a8"
             ],
             [
              0.3333333333333333,
              "#9c179e"
             ],
             [
              0.4444444444444444,
              "#bd3786"
             ],
             [
              0.5555555555555556,
              "#d8576b"
             ],
             [
              0.6666666666666666,
              "#ed7953"
             ],
             [
              0.7777777777777778,
              "#fb9f3a"
             ],
             [
              0.8888888888888888,
              "#fdca26"
             ],
             [
              1,
              "#f0f921"
             ]
            ],
            "type": "heatmapgl"
           }
          ],
          "histogram": [
           {
            "marker": {
             "pattern": {
              "fillmode": "overlay",
              "size": 10,
              "solidity": 0.2
             }
            },
            "type": "histogram"
           }
          ],
          "histogram2d": [
           {
            "colorbar": {
             "outlinewidth": 0,
             "ticks": ""
            },
            "colorscale": [
             [
              0,
              "#0d0887"
             ],
             [
              0.1111111111111111,
              "#46039f"
             ],
             [
              0.2222222222222222,
              "#7201a8"
             ],
             [
              0.3333333333333333,
              "#9c179e"
             ],
             [
              0.4444444444444444,
              "#bd3786"
             ],
             [
              0.5555555555555556,
              "#d8576b"
             ],
             [
              0.6666666666666666,
              "#ed7953"
             ],
             [
              0.7777777777777778,
              "#fb9f3a"
             ],
             [
              0.8888888888888888,
              "#fdca26"
             ],
             [
              1,
              "#f0f921"
             ]
            ],
            "type": "histogram2d"
           }
          ],
          "histogram2dcontour": [
           {
            "colorbar": {
             "outlinewidth": 0,
             "ticks": ""
            },
            "colorscale": [
             [
              0,
              "#0d0887"
             ],
             [
              0.1111111111111111,
              "#46039f"
             ],
             [
              0.2222222222222222,
              "#7201a8"
             ],
             [
              0.3333333333333333,
              "#9c179e"
             ],
             [
              0.4444444444444444,
              "#bd3786"
             ],
             [
              0.5555555555555556,
              "#d8576b"
             ],
             [
              0.6666666666666666,
              "#ed7953"
             ],
             [
              0.7777777777777778,
              "#fb9f3a"
             ],
             [
              0.8888888888888888,
              "#fdca26"
             ],
             [
              1,
              "#f0f921"
             ]
            ],
            "type": "histogram2dcontour"
           }
          ],
          "mesh3d": [
           {
            "colorbar": {
             "outlinewidth": 0,
             "ticks": ""
            },
            "type": "mesh3d"
           }
          ],
          "parcoords": [
           {
            "line": {
             "colorbar": {
              "outlinewidth": 0,
              "ticks": ""
             }
            },
            "type": "parcoords"
           }
          ],
          "pie": [
           {
            "automargin": true,
            "type": "pie"
           }
          ],
          "scatter": [
           {
            "fillpattern": {
             "fillmode": "overlay",
             "size": 10,
             "solidity": 0.2
            },
            "type": "scatter"
           }
          ],
          "scatter3d": [
           {
            "line": {
             "colorbar": {
              "outlinewidth": 0,
              "ticks": ""
             }
            },
            "marker": {
             "colorbar": {
              "outlinewidth": 0,
              "ticks": ""
             }
            },
            "type": "scatter3d"
           }
          ],
          "scattercarpet": [
           {
            "marker": {
             "colorbar": {
              "outlinewidth": 0,
              "ticks": ""
             }
            },
            "type": "scattercarpet"
           }
          ],
          "scattergeo": [
           {
            "marker": {
             "colorbar": {
              "outlinewidth": 0,
              "ticks": ""
             }
            },
            "type": "scattergeo"
           }
          ],
          "scattergl": [
           {
            "marker": {
             "colorbar": {
              "outlinewidth": 0,
              "ticks": ""
             }
            },
            "type": "scattergl"
           }
          ],
          "scattermapbox": [
           {
            "marker": {
             "colorbar": {
              "outlinewidth": 0,
              "ticks": ""
             }
            },
            "type": "scattermapbox"
           }
          ],
          "scatterpolar": [
           {
            "marker": {
             "colorbar": {
              "outlinewidth": 0,
              "ticks": ""
             }
            },
            "type": "scatterpolar"
           }
          ],
          "scatterpolargl": [
           {
            "marker": {
             "colorbar": {
              "outlinewidth": 0,
              "ticks": ""
             }
            },
            "type": "scatterpolargl"
           }
          ],
          "scatterternary": [
           {
            "marker": {
             "colorbar": {
              "outlinewidth": 0,
              "ticks": ""
             }
            },
            "type": "scatterternary"
           }
          ],
          "surface": [
           {
            "colorbar": {
             "outlinewidth": 0,
             "ticks": ""
            },
            "colorscale": [
             [
              0,
              "#0d0887"
             ],
             [
              0.1111111111111111,
              "#46039f"
             ],
             [
              0.2222222222222222,
              "#7201a8"
             ],
             [
              0.3333333333333333,
              "#9c179e"
             ],
             [
              0.4444444444444444,
              "#bd3786"
             ],
             [
              0.5555555555555556,
              "#d8576b"
             ],
             [
              0.6666666666666666,
              "#ed7953"
             ],
             [
              0.7777777777777778,
              "#fb9f3a"
             ],
             [
              0.8888888888888888,
              "#fdca26"
             ],
             [
              1,
              "#f0f921"
             ]
            ],
            "type": "surface"
           }
          ],
          "table": [
           {
            "cells": {
             "fill": {
              "color": "#EBF0F8"
             },
             "line": {
              "color": "white"
             }
            },
            "header": {
             "fill": {
              "color": "#C8D4E3"
             },
             "line": {
              "color": "white"
             }
            },
            "type": "table"
           }
          ]
         },
         "layout": {
          "annotationdefaults": {
           "arrowcolor": "#2a3f5f",
           "arrowhead": 0,
           "arrowwidth": 1
          },
          "autotypenumbers": "strict",
          "coloraxis": {
           "colorbar": {
            "outlinewidth": 0,
            "ticks": ""
           }
          },
          "colorscale": {
           "diverging": [
            [
             0,
             "#8e0152"
            ],
            [
             0.1,
             "#c51b7d"
            ],
            [
             0.2,
             "#de77ae"
            ],
            [
             0.3,
             "#f1b6da"
            ],
            [
             0.4,
             "#fde0ef"
            ],
            [
             0.5,
             "#f7f7f7"
            ],
            [
             0.6,
             "#e6f5d0"
            ],
            [
             0.7,
             "#b8e186"
            ],
            [
             0.8,
             "#7fbc41"
            ],
            [
             0.9,
             "#4d9221"
            ],
            [
             1,
             "#276419"
            ]
           ],
           "sequential": [
            [
             0,
             "#0d0887"
            ],
            [
             0.1111111111111111,
             "#46039f"
            ],
            [
             0.2222222222222222,
             "#7201a8"
            ],
            [
             0.3333333333333333,
             "#9c179e"
            ],
            [
             0.4444444444444444,
             "#bd3786"
            ],
            [
             0.5555555555555556,
             "#d8576b"
            ],
            [
             0.6666666666666666,
             "#ed7953"
            ],
            [
             0.7777777777777778,
             "#fb9f3a"
            ],
            [
             0.8888888888888888,
             "#fdca26"
            ],
            [
             1,
             "#f0f921"
            ]
           ],
           "sequentialminus": [
            [
             0,
             "#0d0887"
            ],
            [
             0.1111111111111111,
             "#46039f"
            ],
            [
             0.2222222222222222,
             "#7201a8"
            ],
            [
             0.3333333333333333,
             "#9c179e"
            ],
            [
             0.4444444444444444,
             "#bd3786"
            ],
            [
             0.5555555555555556,
             "#d8576b"
            ],
            [
             0.6666666666666666,
             "#ed7953"
            ],
            [
             0.7777777777777778,
             "#fb9f3a"
            ],
            [
             0.8888888888888888,
             "#fdca26"
            ],
            [
             1,
             "#f0f921"
            ]
           ]
          },
          "colorway": [
           "#636efa",
           "#EF553B",
           "#00cc96",
           "#ab63fa",
           "#FFA15A",
           "#19d3f3",
           "#FF6692",
           "#B6E880",
           "#FF97FF",
           "#FECB52"
          ],
          "font": {
           "color": "#2a3f5f"
          },
          "geo": {
           "bgcolor": "white",
           "lakecolor": "white",
           "landcolor": "#E5ECF6",
           "showlakes": true,
           "showland": true,
           "subunitcolor": "white"
          },
          "hoverlabel": {
           "align": "left"
          },
          "hovermode": "closest",
          "mapbox": {
           "style": "light"
          },
          "paper_bgcolor": "white",
          "plot_bgcolor": "#E5ECF6",
          "polar": {
           "angularaxis": {
            "gridcolor": "white",
            "linecolor": "white",
            "ticks": ""
           },
           "bgcolor": "#E5ECF6",
           "radialaxis": {
            "gridcolor": "white",
            "linecolor": "white",
            "ticks": ""
           }
          },
          "scene": {
           "xaxis": {
            "backgroundcolor": "#E5ECF6",
            "gridcolor": "white",
            "gridwidth": 2,
            "linecolor": "white",
            "showbackground": true,
            "ticks": "",
            "zerolinecolor": "white"
           },
           "yaxis": {
            "backgroundcolor": "#E5ECF6",
            "gridcolor": "white",
            "gridwidth": 2,
            "linecolor": "white",
            "showbackground": true,
            "ticks": "",
            "zerolinecolor": "white"
           },
           "zaxis": {
            "backgroundcolor": "#E5ECF6",
            "gridcolor": "white",
            "gridwidth": 2,
            "linecolor": "white",
            "showbackground": true,
            "ticks": "",
            "zerolinecolor": "white"
           }
          },
          "shapedefaults": {
           "line": {
            "color": "#2a3f5f"
           }
          },
          "ternary": {
           "aaxis": {
            "gridcolor": "white",
            "linecolor": "white",
            "ticks": ""
           },
           "baxis": {
            "gridcolor": "white",
            "linecolor": "white",
            "ticks": ""
           },
           "bgcolor": "#E5ECF6",
           "caxis": {
            "gridcolor": "white",
            "linecolor": "white",
            "ticks": ""
           }
          },
          "title": {
           "x": 0.05
          },
          "xaxis": {
           "automargin": true,
           "gridcolor": "white",
           "linecolor": "white",
           "ticks": "",
           "title": {
            "standoff": 15
           },
           "zerolinecolor": "white",
           "zerolinewidth": 2
          },
          "yaxis": {
           "automargin": true,
           "gridcolor": "white",
           "linecolor": "white",
           "ticks": "",
           "title": {
            "standoff": 15
           },
           "zerolinecolor": "white",
           "zerolinewidth": 2
          }
         }
        },
        "title": {
         "text": "Variação em Reais por Resultado"
        },
        "xaxis": {
         "anchor": "y",
         "domain": [
          0,
          1
         ],
         "title": {
          "text": "Status"
         }
        },
        "yaxis": {
         "anchor": "x",
         "domain": [
          0,
          1
         ],
         "tickprefix": "R$",
         "title": {
          "text": "Variacao_RS"
         }
        }
       }
      }
     },
     "metadata": {},
     "output_type": "display_data"
    }
   ],
   "source": [
    "fig = px.bar(df_analise_saldo, x='Status', y='Variacao_RS', text='Variacao_RS', title='Variação em Reais por Resultado')\n",
    "fig.update_layout(yaxis_tickprefix=\"R$\")\n",
    "fig.update_traces(texttemplate=\"R$ %{text:,.2f}\", textposition=\"inside\")\n",
    "fig.show()"
   ]
  },
  {
   "cell_type": "code",
   "execution_count": 29,
   "metadata": {},
   "outputs": [
    {
     "data": {
      "application/vnd.plotly.v1+json": {
       "config": {
        "plotlyServerURL": "https://plot.ly"
       },
       "data": [
        {
         "domain": {
          "x": [
           0,
           1
          ],
          "y": [
           0,
           1
          ]
         },
         "hovertemplate": "Segmento=%{label}<br>Variacao_RS=%{value}<extra></extra>",
         "labels": [
          "Alimentação",
          "Aviação",
          "Banco",
          "Conglomerado",
          "Construção Civil",
          "Distribuidora de Combustíveis",
          "Educação",
          "Energia",
          "Energia Elétrica",
          "Logística",
          "Mineração",
          "Pagamentos Eletrônicos",
          "Papel e Celulose",
          "Participações",
          "Petroquímica",
          "Petróleo e Gás",
          "Saúde",
          "Serviços de Internet",
          "Shopping Centers",
          "Siderurgia",
          "Telecomunicações",
          "Varejo",
          "Varejo Alimentício",
          "Varejo Farmacêutico",
          "Varejo de Calçados",
          "Varejo de Eletrodomésticos"
         ],
         "legendgroup": "",
         "name": "",
         "showlegend": true,
         "textinfo": "percent+label",
         "textposition": "inside",
         "type": "pie",
         "values": [
          407833683.0924499,
          65452205.552800186,
          6429015858.176257,
          127229653.18222687,
          37525872.37728388,
          388705223.95601785,
          72295838.98616095,
          11571106.417007603,
          682315640.0120441,
          229771333.63468358,
          4940442965.550434,
          43657683.37554085,
          722946282.7090385,
          416092244.423763,
          69054317.63603853,
          21822875886.487034,
          453917907.01324,
          15598886.650556229,
          117732680.0784251,
          508004377.5383062,
          292938114.42357796,
          4131341.15789051,
          6340916.223143544,
          202352473.73982856,
          41021792.09077153,
          28493619.274394516
         ]
        }
       ],
       "layout": {
        "legend": {
         "tracegroupgap": 0
        },
        "template": {
         "data": {
          "bar": [
           {
            "error_x": {
             "color": "#2a3f5f"
            },
            "error_y": {
             "color": "#2a3f5f"
            },
            "marker": {
             "line": {
              "color": "#E5ECF6",
              "width": 0.5
             },
             "pattern": {
              "fillmode": "overlay",
              "size": 10,
              "solidity": 0.2
             }
            },
            "type": "bar"
           }
          ],
          "barpolar": [
           {
            "marker": {
             "line": {
              "color": "#E5ECF6",
              "width": 0.5
             },
             "pattern": {
              "fillmode": "overlay",
              "size": 10,
              "solidity": 0.2
             }
            },
            "type": "barpolar"
           }
          ],
          "carpet": [
           {
            "aaxis": {
             "endlinecolor": "#2a3f5f",
             "gridcolor": "white",
             "linecolor": "white",
             "minorgridcolor": "white",
             "startlinecolor": "#2a3f5f"
            },
            "baxis": {
             "endlinecolor": "#2a3f5f",
             "gridcolor": "white",
             "linecolor": "white",
             "minorgridcolor": "white",
             "startlinecolor": "#2a3f5f"
            },
            "type": "carpet"
           }
          ],
          "choropleth": [
           {
            "colorbar": {
             "outlinewidth": 0,
             "ticks": ""
            },
            "type": "choropleth"
           }
          ],
          "contour": [
           {
            "colorbar": {
             "outlinewidth": 0,
             "ticks": ""
            },
            "colorscale": [
             [
              0,
              "#0d0887"
             ],
             [
              0.1111111111111111,
              "#46039f"
             ],
             [
              0.2222222222222222,
              "#7201a8"
             ],
             [
              0.3333333333333333,
              "#9c179e"
             ],
             [
              0.4444444444444444,
              "#bd3786"
             ],
             [
              0.5555555555555556,
              "#d8576b"
             ],
             [
              0.6666666666666666,
              "#ed7953"
             ],
             [
              0.7777777777777778,
              "#fb9f3a"
             ],
             [
              0.8888888888888888,
              "#fdca26"
             ],
             [
              1,
              "#f0f921"
             ]
            ],
            "type": "contour"
           }
          ],
          "contourcarpet": [
           {
            "colorbar": {
             "outlinewidth": 0,
             "ticks": ""
            },
            "type": "contourcarpet"
           }
          ],
          "heatmap": [
           {
            "colorbar": {
             "outlinewidth": 0,
             "ticks": ""
            },
            "colorscale": [
             [
              0,
              "#0d0887"
             ],
             [
              0.1111111111111111,
              "#46039f"
             ],
             [
              0.2222222222222222,
              "#7201a8"
             ],
             [
              0.3333333333333333,
              "#9c179e"
             ],
             [
              0.4444444444444444,
              "#bd3786"
             ],
             [
              0.5555555555555556,
              "#d8576b"
             ],
             [
              0.6666666666666666,
              "#ed7953"
             ],
             [
              0.7777777777777778,
              "#fb9f3a"
             ],
             [
              0.8888888888888888,
              "#fdca26"
             ],
             [
              1,
              "#f0f921"
             ]
            ],
            "type": "heatmap"
           }
          ],
          "heatmapgl": [
           {
            "colorbar": {
             "outlinewidth": 0,
             "ticks": ""
            },
            "colorscale": [
             [
              0,
              "#0d0887"
             ],
             [
              0.1111111111111111,
              "#46039f"
             ],
             [
              0.2222222222222222,
              "#7201a8"
             ],
             [
              0.3333333333333333,
              "#9c179e"
             ],
             [
              0.4444444444444444,
              "#bd3786"
             ],
             [
              0.5555555555555556,
              "#d8576b"
             ],
             [
              0.6666666666666666,
              "#ed7953"
             ],
             [
              0.7777777777777778,
              "#fb9f3a"
             ],
             [
              0.8888888888888888,
              "#fdca26"
             ],
             [
              1,
              "#f0f921"
             ]
            ],
            "type": "heatmapgl"
           }
          ],
          "histogram": [
           {
            "marker": {
             "pattern": {
              "fillmode": "overlay",
              "size": 10,
              "solidity": 0.2
             }
            },
            "type": "histogram"
           }
          ],
          "histogram2d": [
           {
            "colorbar": {
             "outlinewidth": 0,
             "ticks": ""
            },
            "colorscale": [
             [
              0,
              "#0d0887"
             ],
             [
              0.1111111111111111,
              "#46039f"
             ],
             [
              0.2222222222222222,
              "#7201a8"
             ],
             [
              0.3333333333333333,
              "#9c179e"
             ],
             [
              0.4444444444444444,
              "#bd3786"
             ],
             [
              0.5555555555555556,
              "#d8576b"
             ],
             [
              0.6666666666666666,
              "#ed7953"
             ],
             [
              0.7777777777777778,
              "#fb9f3a"
             ],
             [
              0.8888888888888888,
              "#fdca26"
             ],
             [
              1,
              "#f0f921"
             ]
            ],
            "type": "histogram2d"
           }
          ],
          "histogram2dcontour": [
           {
            "colorbar": {
             "outlinewidth": 0,
             "ticks": ""
            },
            "colorscale": [
             [
              0,
              "#0d0887"
             ],
             [
              0.1111111111111111,
              "#46039f"
             ],
             [
              0.2222222222222222,
              "#7201a8"
             ],
             [
              0.3333333333333333,
              "#9c179e"
             ],
             [
              0.4444444444444444,
              "#bd3786"
             ],
             [
              0.5555555555555556,
              "#d8576b"
             ],
             [
              0.6666666666666666,
              "#ed7953"
             ],
             [
              0.7777777777777778,
              "#fb9f3a"
             ],
             [
              0.8888888888888888,
              "#fdca26"
             ],
             [
              1,
              "#f0f921"
             ]
            ],
            "type": "histogram2dcontour"
           }
          ],
          "mesh3d": [
           {
            "colorbar": {
             "outlinewidth": 0,
             "ticks": ""
            },
            "type": "mesh3d"
           }
          ],
          "parcoords": [
           {
            "line": {
             "colorbar": {
              "outlinewidth": 0,
              "ticks": ""
             }
            },
            "type": "parcoords"
           }
          ],
          "pie": [
           {
            "automargin": true,
            "type": "pie"
           }
          ],
          "scatter": [
           {
            "fillpattern": {
             "fillmode": "overlay",
             "size": 10,
             "solidity": 0.2
            },
            "type": "scatter"
           }
          ],
          "scatter3d": [
           {
            "line": {
             "colorbar": {
              "outlinewidth": 0,
              "ticks": ""
             }
            },
            "marker": {
             "colorbar": {
              "outlinewidth": 0,
              "ticks": ""
             }
            },
            "type": "scatter3d"
           }
          ],
          "scattercarpet": [
           {
            "marker": {
             "colorbar": {
              "outlinewidth": 0,
              "ticks": ""
             }
            },
            "type": "scattercarpet"
           }
          ],
          "scattergeo": [
           {
            "marker": {
             "colorbar": {
              "outlinewidth": 0,
              "ticks": ""
             }
            },
            "type": "scattergeo"
           }
          ],
          "scattergl": [
           {
            "marker": {
             "colorbar": {
              "outlinewidth": 0,
              "ticks": ""
             }
            },
            "type": "scattergl"
           }
          ],
          "scattermapbox": [
           {
            "marker": {
             "colorbar": {
              "outlinewidth": 0,
              "ticks": ""
             }
            },
            "type": "scattermapbox"
           }
          ],
          "scatterpolar": [
           {
            "marker": {
             "colorbar": {
              "outlinewidth": 0,
              "ticks": ""
             }
            },
            "type": "scatterpolar"
           }
          ],
          "scatterpolargl": [
           {
            "marker": {
             "colorbar": {
              "outlinewidth": 0,
              "ticks": ""
             }
            },
            "type": "scatterpolargl"
           }
          ],
          "scatterternary": [
           {
            "marker": {
             "colorbar": {
              "outlinewidth": 0,
              "ticks": ""
             }
            },
            "type": "scatterternary"
           }
          ],
          "surface": [
           {
            "colorbar": {
             "outlinewidth": 0,
             "ticks": ""
            },
            "colorscale": [
             [
              0,
              "#0d0887"
             ],
             [
              0.1111111111111111,
              "#46039f"
             ],
             [
              0.2222222222222222,
              "#7201a8"
             ],
             [
              0.3333333333333333,
              "#9c179e"
             ],
             [
              0.4444444444444444,
              "#bd3786"
             ],
             [
              0.5555555555555556,
              "#d8576b"
             ],
             [
              0.6666666666666666,
              "#ed7953"
             ],
             [
              0.7777777777777778,
              "#fb9f3a"
             ],
             [
              0.8888888888888888,
              "#fdca26"
             ],
             [
              1,
              "#f0f921"
             ]
            ],
            "type": "surface"
           }
          ],
          "table": [
           {
            "cells": {
             "fill": {
              "color": "#EBF0F8"
             },
             "line": {
              "color": "white"
             }
            },
            "header": {
             "fill": {
              "color": "#C8D4E3"
             },
             "line": {
              "color": "white"
             }
            },
            "type": "table"
           }
          ]
         },
         "layout": {
          "annotationdefaults": {
           "arrowcolor": "#2a3f5f",
           "arrowhead": 0,
           "arrowwidth": 1
          },
          "autotypenumbers": "strict",
          "coloraxis": {
           "colorbar": {
            "outlinewidth": 0,
            "ticks": ""
           }
          },
          "colorscale": {
           "diverging": [
            [
             0,
             "#8e0152"
            ],
            [
             0.1,
             "#c51b7d"
            ],
            [
             0.2,
             "#de77ae"
            ],
            [
             0.3,
             "#f1b6da"
            ],
            [
             0.4,
             "#fde0ef"
            ],
            [
             0.5,
             "#f7f7f7"
            ],
            [
             0.6,
             "#e6f5d0"
            ],
            [
             0.7,
             "#b8e186"
            ],
            [
             0.8,
             "#7fbc41"
            ],
            [
             0.9,
             "#4d9221"
            ],
            [
             1,
             "#276419"
            ]
           ],
           "sequential": [
            [
             0,
             "#0d0887"
            ],
            [
             0.1111111111111111,
             "#46039f"
            ],
            [
             0.2222222222222222,
             "#7201a8"
            ],
            [
             0.3333333333333333,
             "#9c179e"
            ],
            [
             0.4444444444444444,
             "#bd3786"
            ],
            [
             0.5555555555555556,
             "#d8576b"
            ],
            [
             0.6666666666666666,
             "#ed7953"
            ],
            [
             0.7777777777777778,
             "#fb9f3a"
            ],
            [
             0.8888888888888888,
             "#fdca26"
            ],
            [
             1,
             "#f0f921"
            ]
           ],
           "sequentialminus": [
            [
             0,
             "#0d0887"
            ],
            [
             0.1111111111111111,
             "#46039f"
            ],
            [
             0.2222222222222222,
             "#7201a8"
            ],
            [
             0.3333333333333333,
             "#9c179e"
            ],
            [
             0.4444444444444444,
             "#bd3786"
            ],
            [
             0.5555555555555556,
             "#d8576b"
            ],
            [
             0.6666666666666666,
             "#ed7953"
            ],
            [
             0.7777777777777778,
             "#fb9f3a"
            ],
            [
             0.8888888888888888,
             "#fdca26"
            ],
            [
             1,
             "#f0f921"
            ]
           ]
          },
          "colorway": [
           "#636efa",
           "#EF553B",
           "#00cc96",
           "#ab63fa",
           "#FFA15A",
           "#19d3f3",
           "#FF6692",
           "#B6E880",
           "#FF97FF",
           "#FECB52"
          ],
          "font": {
           "color": "#2a3f5f"
          },
          "geo": {
           "bgcolor": "white",
           "lakecolor": "white",
           "landcolor": "#E5ECF6",
           "showlakes": true,
           "showland": true,
           "subunitcolor": "white"
          },
          "hoverlabel": {
           "align": "left"
          },
          "hovermode": "closest",
          "mapbox": {
           "style": "light"
          },
          "paper_bgcolor": "white",
          "plot_bgcolor": "#E5ECF6",
          "polar": {
           "angularaxis": {
            "gridcolor": "white",
            "linecolor": "white",
            "ticks": ""
           },
           "bgcolor": "#E5ECF6",
           "radialaxis": {
            "gridcolor": "white",
            "linecolor": "white",
            "ticks": ""
           }
          },
          "scene": {
           "xaxis": {
            "backgroundcolor": "#E5ECF6",
            "gridcolor": "white",
            "gridwidth": 2,
            "linecolor": "white",
            "showbackground": true,
            "ticks": "",
            "zerolinecolor": "white"
           },
           "yaxis": {
            "backgroundcolor": "#E5ECF6",
            "gridcolor": "white",
            "gridwidth": 2,
            "linecolor": "white",
            "showbackground": true,
            "ticks": "",
            "zerolinecolor": "white"
           },
           "zaxis": {
            "backgroundcolor": "#E5ECF6",
            "gridcolor": "white",
            "gridwidth": 2,
            "linecolor": "white",
            "showbackground": true,
            "ticks": "",
            "zerolinecolor": "white"
           }
          },
          "shapedefaults": {
           "line": {
            "color": "#2a3f5f"
           }
          },
          "ternary": {
           "aaxis": {
            "gridcolor": "white",
            "linecolor": "white",
            "ticks": ""
           },
           "baxis": {
            "gridcolor": "white",
            "linecolor": "white",
            "ticks": ""
           },
           "bgcolor": "#E5ECF6",
           "caxis": {
            "gridcolor": "white",
            "linecolor": "white",
            "ticks": ""
           }
          },
          "title": {
           "x": 0.05
          },
          "xaxis": {
           "automargin": true,
           "gridcolor": "white",
           "linecolor": "white",
           "ticks": "",
           "title": {
            "standoff": 15
           },
           "zerolinecolor": "white",
           "zerolinewidth": 2
          },
          "yaxis": {
           "automargin": true,
           "gridcolor": "white",
           "linecolor": "white",
           "ticks": "",
           "title": {
            "standoff": 15
           },
           "zerolinecolor": "white",
           "zerolinewidth": 2
          }
         }
        },
        "title": {
         "text": "Variação em reais por Segmento"
        }
       }
      }
     },
     "metadata": {},
     "output_type": "display_data"
    }
   ],
   "source": [
    "#grafico_pizza\n",
    "fig2 = px.pie(df_analise_segmento, names='Segmento', values='Variacao_RS', title='Variação em reais por Segmento')\n",
    "fig2.update_traces(textposition='inside', textinfo='percent+label')\n",
    "fig2.show()"
   ]
  },
  {
   "cell_type": "code",
   "execution_count": 31,
   "metadata": {},
   "outputs": [
    {
     "data": {
      "application/vnd.plotly.v1+json": {
       "config": {
        "plotlyServerURL": "https://plot.ly"
       },
       "data": [
        {
         "alignmentgroup": "True",
         "hovertemplate": "Analise=%{x}<br>Variacao=%{text}<extra></extra>",
         "legendgroup": "",
         "marker": {
          "color": "#636efa",
          "pattern": {
           "shape": ""
          }
         },
         "name": "",
         "offsetgroup": "",
         "orientation": "v",
         "showlegend": false,
         "text": [
          24424344888.635704,
          3577489013.523602,
          3796664040.2842584
         ],
         "textposition": "inside",
         "texttemplate": "R$ %{text:,.2f}",
         "type": "bar",
         "x": [
          "Entre 50 a 100 anos",
          "Mais que 100 anos",
          "Menos que 50 anos"
         ],
         "xaxis": "x",
         "y": [
          24424344888.635704,
          3577489013.523602,
          3796664040.2842584
         ],
         "yaxis": "y"
        }
       ],
       "layout": {
        "barmode": "relative",
        "legend": {
         "tracegroupgap": 0
        },
        "template": {
         "data": {
          "bar": [
           {
            "error_x": {
             "color": "#2a3f5f"
            },
            "error_y": {
             "color": "#2a3f5f"
            },
            "marker": {
             "line": {
              "color": "#E5ECF6",
              "width": 0.5
             },
             "pattern": {
              "fillmode": "overlay",
              "size": 10,
              "solidity": 0.2
             }
            },
            "type": "bar"
           }
          ],
          "barpolar": [
           {
            "marker": {
             "line": {
              "color": "#E5ECF6",
              "width": 0.5
             },
             "pattern": {
              "fillmode": "overlay",
              "size": 10,
              "solidity": 0.2
             }
            },
            "type": "barpolar"
           }
          ],
          "carpet": [
           {
            "aaxis": {
             "endlinecolor": "#2a3f5f",
             "gridcolor": "white",
             "linecolor": "white",
             "minorgridcolor": "white",
             "startlinecolor": "#2a3f5f"
            },
            "baxis": {
             "endlinecolor": "#2a3f5f",
             "gridcolor": "white",
             "linecolor": "white",
             "minorgridcolor": "white",
             "startlinecolor": "#2a3f5f"
            },
            "type": "carpet"
           }
          ],
          "choropleth": [
           {
            "colorbar": {
             "outlinewidth": 0,
             "ticks": ""
            },
            "type": "choropleth"
           }
          ],
          "contour": [
           {
            "colorbar": {
             "outlinewidth": 0,
             "ticks": ""
            },
            "colorscale": [
             [
              0,
              "#0d0887"
             ],
             [
              0.1111111111111111,
              "#46039f"
             ],
             [
              0.2222222222222222,
              "#7201a8"
             ],
             [
              0.3333333333333333,
              "#9c179e"
             ],
             [
              0.4444444444444444,
              "#bd3786"
             ],
             [
              0.5555555555555556,
              "#d8576b"
             ],
             [
              0.6666666666666666,
              "#ed7953"
             ],
             [
              0.7777777777777778,
              "#fb9f3a"
             ],
             [
              0.8888888888888888,
              "#fdca26"
             ],
             [
              1,
              "#f0f921"
             ]
            ],
            "type": "contour"
           }
          ],
          "contourcarpet": [
           {
            "colorbar": {
             "outlinewidth": 0,
             "ticks": ""
            },
            "type": "contourcarpet"
           }
          ],
          "heatmap": [
           {
            "colorbar": {
             "outlinewidth": 0,
             "ticks": ""
            },
            "colorscale": [
             [
              0,
              "#0d0887"
             ],
             [
              0.1111111111111111,
              "#46039f"
             ],
             [
              0.2222222222222222,
              "#7201a8"
             ],
             [
              0.3333333333333333,
              "#9c179e"
             ],
             [
              0.4444444444444444,
              "#bd3786"
             ],
             [
              0.5555555555555556,
              "#d8576b"
             ],
             [
              0.6666666666666666,
              "#ed7953"
             ],
             [
              0.7777777777777778,
              "#fb9f3a"
             ],
             [
              0.8888888888888888,
              "#fdca26"
             ],
             [
              1,
              "#f0f921"
             ]
            ],
            "type": "heatmap"
           }
          ],
          "heatmapgl": [
           {
            "colorbar": {
             "outlinewidth": 0,
             "ticks": ""
            },
            "colorscale": [
             [
              0,
              "#0d0887"
             ],
             [
              0.1111111111111111,
              "#46039f"
             ],
             [
              0.2222222222222222,
              "#7201a8"
             ],
             [
              0.3333333333333333,
              "#9c179e"
             ],
             [
              0.4444444444444444,
              "#bd3786"
             ],
             [
              0.5555555555555556,
              "#d8576b"
             ],
             [
              0.6666666666666666,
              "#ed7953"
             ],
             [
              0.7777777777777778,
              "#fb9f3a"
             ],
             [
              0.8888888888888888,
              "#fdca26"
             ],
             [
              1,
              "#f0f921"
             ]
            ],
            "type": "heatmapgl"
           }
          ],
          "histogram": [
           {
            "marker": {
             "pattern": {
              "fillmode": "overlay",
              "size": 10,
              "solidity": 0.2
             }
            },
            "type": "histogram"
           }
          ],
          "histogram2d": [
           {
            "colorbar": {
             "outlinewidth": 0,
             "ticks": ""
            },
            "colorscale": [
             [
              0,
              "#0d0887"
             ],
             [
              0.1111111111111111,
              "#46039f"
             ],
             [
              0.2222222222222222,
              "#7201a8"
             ],
             [
              0.3333333333333333,
              "#9c179e"
             ],
             [
              0.4444444444444444,
              "#bd3786"
             ],
             [
              0.5555555555555556,
              "#d8576b"
             ],
             [
              0.6666666666666666,
              "#ed7953"
             ],
             [
              0.7777777777777778,
              "#fb9f3a"
             ],
             [
              0.8888888888888888,
              "#fdca26"
             ],
             [
              1,
              "#f0f921"
             ]
            ],
            "type": "histogram2d"
           }
          ],
          "histogram2dcontour": [
           {
            "colorbar": {
             "outlinewidth": 0,
             "ticks": ""
            },
            "colorscale": [
             [
              0,
              "#0d0887"
             ],
             [
              0.1111111111111111,
              "#46039f"
             ],
             [
              0.2222222222222222,
              "#7201a8"
             ],
             [
              0.3333333333333333,
              "#9c179e"
             ],
             [
              0.4444444444444444,
              "#bd3786"
             ],
             [
              0.5555555555555556,
              "#d8576b"
             ],
             [
              0.6666666666666666,
              "#ed7953"
             ],
             [
              0.7777777777777778,
              "#fb9f3a"
             ],
             [
              0.8888888888888888,
              "#fdca26"
             ],
             [
              1,
              "#f0f921"
             ]
            ],
            "type": "histogram2dcontour"
           }
          ],
          "mesh3d": [
           {
            "colorbar": {
             "outlinewidth": 0,
             "ticks": ""
            },
            "type": "mesh3d"
           }
          ],
          "parcoords": [
           {
            "line": {
             "colorbar": {
              "outlinewidth": 0,
              "ticks": ""
             }
            },
            "type": "parcoords"
           }
          ],
          "pie": [
           {
            "automargin": true,
            "type": "pie"
           }
          ],
          "scatter": [
           {
            "fillpattern": {
             "fillmode": "overlay",
             "size": 10,
             "solidity": 0.2
            },
            "type": "scatter"
           }
          ],
          "scatter3d": [
           {
            "line": {
             "colorbar": {
              "outlinewidth": 0,
              "ticks": ""
             }
            },
            "marker": {
             "colorbar": {
              "outlinewidth": 0,
              "ticks": ""
             }
            },
            "type": "scatter3d"
           }
          ],
          "scattercarpet": [
           {
            "marker": {
             "colorbar": {
              "outlinewidth": 0,
              "ticks": ""
             }
            },
            "type": "scattercarpet"
           }
          ],
          "scattergeo": [
           {
            "marker": {
             "colorbar": {
              "outlinewidth": 0,
              "ticks": ""
             }
            },
            "type": "scattergeo"
           }
          ],
          "scattergl": [
           {
            "marker": {
             "colorbar": {
              "outlinewidth": 0,
              "ticks": ""
             }
            },
            "type": "scattergl"
           }
          ],
          "scattermapbox": [
           {
            "marker": {
             "colorbar": {
              "outlinewidth": 0,
              "ticks": ""
             }
            },
            "type": "scattermapbox"
           }
          ],
          "scatterpolar": [
           {
            "marker": {
             "colorbar": {
              "outlinewidth": 0,
              "ticks": ""
             }
            },
            "type": "scatterpolar"
           }
          ],
          "scatterpolargl": [
           {
            "marker": {
             "colorbar": {
              "outlinewidth": 0,
              "ticks": ""
             }
            },
            "type": "scatterpolargl"
           }
          ],
          "scatterternary": [
           {
            "marker": {
             "colorbar": {
              "outlinewidth": 0,
              "ticks": ""
             }
            },
            "type": "scatterternary"
           }
          ],
          "surface": [
           {
            "colorbar": {
             "outlinewidth": 0,
             "ticks": ""
            },
            "colorscale": [
             [
              0,
              "#0d0887"
             ],
             [
              0.1111111111111111,
              "#46039f"
             ],
             [
              0.2222222222222222,
              "#7201a8"
             ],
             [
              0.3333333333333333,
              "#9c179e"
             ],
             [
              0.4444444444444444,
              "#bd3786"
             ],
             [
              0.5555555555555556,
              "#d8576b"
             ],
             [
              0.6666666666666666,
              "#ed7953"
             ],
             [
              0.7777777777777778,
              "#fb9f3a"
             ],
             [
              0.8888888888888888,
              "#fdca26"
             ],
             [
              1,
              "#f0f921"
             ]
            ],
            "type": "surface"
           }
          ],
          "table": [
           {
            "cells": {
             "fill": {
              "color": "#EBF0F8"
             },
             "line": {
              "color": "white"
             }
            },
            "header": {
             "fill": {
              "color": "#C8D4E3"
             },
             "line": {
              "color": "white"
             }
            },
            "type": "table"
           }
          ]
         },
         "layout": {
          "annotationdefaults": {
           "arrowcolor": "#2a3f5f",
           "arrowhead": 0,
           "arrowwidth": 1
          },
          "autotypenumbers": "strict",
          "coloraxis": {
           "colorbar": {
            "outlinewidth": 0,
            "ticks": ""
           }
          },
          "colorscale": {
           "diverging": [
            [
             0,
             "#8e0152"
            ],
            [
             0.1,
             "#c51b7d"
            ],
            [
             0.2,
             "#de77ae"
            ],
            [
             0.3,
             "#f1b6da"
            ],
            [
             0.4,
             "#fde0ef"
            ],
            [
             0.5,
             "#f7f7f7"
            ],
            [
             0.6,
             "#e6f5d0"
            ],
            [
             0.7,
             "#b8e186"
            ],
            [
             0.8,
             "#7fbc41"
            ],
            [
             0.9,
             "#4d9221"
            ],
            [
             1,
             "#276419"
            ]
           ],
           "sequential": [
            [
             0,
             "#0d0887"
            ],
            [
             0.1111111111111111,
             "#46039f"
            ],
            [
             0.2222222222222222,
             "#7201a8"
            ],
            [
             0.3333333333333333,
             "#9c179e"
            ],
            [
             0.4444444444444444,
             "#bd3786"
            ],
            [
             0.5555555555555556,
             "#d8576b"
            ],
            [
             0.6666666666666666,
             "#ed7953"
            ],
            [
             0.7777777777777778,
             "#fb9f3a"
            ],
            [
             0.8888888888888888,
             "#fdca26"
            ],
            [
             1,
             "#f0f921"
            ]
           ],
           "sequentialminus": [
            [
             0,
             "#0d0887"
            ],
            [
             0.1111111111111111,
             "#46039f"
            ],
            [
             0.2222222222222222,
             "#7201a8"
            ],
            [
             0.3333333333333333,
             "#9c179e"
            ],
            [
             0.4444444444444444,
             "#bd3786"
            ],
            [
             0.5555555555555556,
             "#d8576b"
            ],
            [
             0.6666666666666666,
             "#ed7953"
            ],
            [
             0.7777777777777778,
             "#fb9f3a"
            ],
            [
             0.8888888888888888,
             "#fdca26"
            ],
            [
             1,
             "#f0f921"
            ]
           ]
          },
          "colorway": [
           "#636efa",
           "#EF553B",
           "#00cc96",
           "#ab63fa",
           "#FFA15A",
           "#19d3f3",
           "#FF6692",
           "#B6E880",
           "#FF97FF",
           "#FECB52"
          ],
          "font": {
           "color": "#2a3f5f"
          },
          "geo": {
           "bgcolor": "white",
           "lakecolor": "white",
           "landcolor": "#E5ECF6",
           "showlakes": true,
           "showland": true,
           "subunitcolor": "white"
          },
          "hoverlabel": {
           "align": "left"
          },
          "hovermode": "closest",
          "mapbox": {
           "style": "light"
          },
          "paper_bgcolor": "white",
          "plot_bgcolor": "#E5ECF6",
          "polar": {
           "angularaxis": {
            "gridcolor": "white",
            "linecolor": "white",
            "ticks": ""
           },
           "bgcolor": "#E5ECF6",
           "radialaxis": {
            "gridcolor": "white",
            "linecolor": "white",
            "ticks": ""
           }
          },
          "scene": {
           "xaxis": {
            "backgroundcolor": "#E5ECF6",
            "gridcolor": "white",
            "gridwidth": 2,
            "linecolor": "white",
            "showbackground": true,
            "ticks": "",
            "zerolinecolor": "white"
           },
           "yaxis": {
            "backgroundcolor": "#E5ECF6",
            "gridcolor": "white",
            "gridwidth": 2,
            "linecolor": "white",
            "showbackground": true,
            "ticks": "",
            "zerolinecolor": "white"
           },
           "zaxis": {
            "backgroundcolor": "#E5ECF6",
            "gridcolor": "white",
            "gridwidth": 2,
            "linecolor": "white",
            "showbackground": true,
            "ticks": "",
            "zerolinecolor": "white"
           }
          },
          "shapedefaults": {
           "line": {
            "color": "#2a3f5f"
           }
          },
          "ternary": {
           "aaxis": {
            "gridcolor": "white",
            "linecolor": "white",
            "ticks": ""
           },
           "baxis": {
            "gridcolor": "white",
            "linecolor": "white",
            "ticks": ""
           },
           "bgcolor": "#E5ECF6",
           "caxis": {
            "gridcolor": "white",
            "linecolor": "white",
            "ticks": ""
           }
          },
          "title": {
           "x": 0.05
          },
          "xaxis": {
           "automargin": true,
           "gridcolor": "white",
           "linecolor": "white",
           "ticks": "",
           "title": {
            "standoff": 15
           },
           "zerolinecolor": "white",
           "zerolinewidth": 2
          },
          "yaxis": {
           "automargin": true,
           "gridcolor": "white",
           "linecolor": "white",
           "ticks": "",
           "title": {
            "standoff": 15
           },
           "zerolinecolor": "white",
           "zerolinewidth": 2
          }
         }
        },
        "title": {
         "text": "Qtd. de Empresas por Faixa Etária"
        },
        "xaxis": {
         "anchor": "y",
         "domain": [
          0,
          1
         ],
         "title": {
          "text": "Analise"
         }
        },
        "yaxis": {
         "anchor": "x",
         "domain": [
          0,
          1
         ],
         "tickprefix": "R$",
         "title": {
          "text": "Variacao"
         }
        }
       }
      }
     },
     "metadata": {},
     "output_type": "display_data"
    }
   ],
   "source": [
    "fig3 = px.bar(df_analise_saldo2, x='Analise', y='Variacao', text='Variacao', title='Qtd. de Empresas por Faixa Etária')\n",
    "fig3.update_layout(yaxis_tickprefix=\"R$\")\n",
    "fig3.update_traces(texttemplate=\"R$ %{text:,.2f}\", textposition=\"inside\")\n",
    "fig3.show()"
   ]
  }
 ],
 "metadata": {
  "kernelspec": {
   "display_name": "Python 3",
   "language": "python",
   "name": "python3"
  },
  "language_info": {
   "codemirror_mode": {
    "name": "ipython",
    "version": 3
   },
   "file_extension": ".py",
   "mimetype": "text/x-python",
   "name": "python",
   "nbconvert_exporter": "python",
   "pygments_lexer": "ipython3",
   "version": "3.11.4"
  }
 },
 "nbformat": 4,
 "nbformat_minor": 2
}
